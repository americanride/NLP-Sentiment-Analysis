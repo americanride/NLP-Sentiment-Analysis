{
 "cells": [
  {
   "cell_type": "code",
   "execution_count": 1,
   "metadata": {},
   "outputs": [],
   "source": [
    "import os,codecs\n",
    "import pandas as pd\n",
    "import nltk\n",
    "from nltk import*\n",
    "import matplotlib.pyplot as plt\n",
    "import string\n",
    "import numpy as np\n",
    "import seaborn as sns"
   ]
  },
  {
   "cell_type": "code",
   "execution_count": 2,
   "metadata": {},
   "outputs": [
    {
     "data": {
      "text/html": [
       "<div>\n",
       "<style scoped>\n",
       "    .dataframe tbody tr th:only-of-type {\n",
       "        vertical-align: middle;\n",
       "    }\n",
       "\n",
       "    .dataframe tbody tr th {\n",
       "        vertical-align: top;\n",
       "    }\n",
       "\n",
       "    .dataframe thead th {\n",
       "        text-align: right;\n",
       "    }\n",
       "</style>\n",
       "<table border=\"1\" class=\"dataframe\">\n",
       "  <thead>\n",
       "    <tr style=\"text-align: right;\">\n",
       "      <th></th>\n",
       "      <th>Column 1</th>\n",
       "      <th>Satz</th>\n",
       "      <th>noun</th>\n",
       "      <th>polarity_noun</th>\n",
       "      <th>adjective</th>\n",
       "      <th>polarity_adj</th>\n",
       "      <th>valence_rating_sent</th>\n",
       "    </tr>\n",
       "  </thead>\n",
       "  <tbody>\n",
       "    <tr>\n",
       "      <th>0</th>\n",
       "      <td>0</td>\n",
       "      <td>Die Biene ist aktiv.</td>\n",
       "      <td>Biene</td>\n",
       "      <td>positiv</td>\n",
       "      <td>aktiv</td>\n",
       "      <td>positiv</td>\n",
       "      <td>4</td>\n",
       "    </tr>\n",
       "    <tr>\n",
       "      <th>1</th>\n",
       "      <td>1</td>\n",
       "      <td>Die Brautjungfer ist amüsant.</td>\n",
       "      <td>Brautjungfer</td>\n",
       "      <td>positiv</td>\n",
       "      <td>amüsant</td>\n",
       "      <td>positiv</td>\n",
       "      <td>7</td>\n",
       "    </tr>\n",
       "    <tr>\n",
       "      <th>2</th>\n",
       "      <td>2</td>\n",
       "      <td>Der Garten ist berühmt.</td>\n",
       "      <td>Garten</td>\n",
       "      <td>positiv</td>\n",
       "      <td>berühmt</td>\n",
       "      <td>positiv</td>\n",
       "      <td>6</td>\n",
       "    </tr>\n",
       "    <tr>\n",
       "      <th>3</th>\n",
       "      <td>3</td>\n",
       "      <td>Der Gewinn ist süß.</td>\n",
       "      <td>Gewinn</td>\n",
       "      <td>positiv</td>\n",
       "      <td>süß</td>\n",
       "      <td>positiv</td>\n",
       "      <td>7</td>\n",
       "    </tr>\n",
       "    <tr>\n",
       "      <th>4</th>\n",
       "      <td>4</td>\n",
       "      <td>Der Künstler ist gutmütig.</td>\n",
       "      <td>Künstler</td>\n",
       "      <td>positiv</td>\n",
       "      <td>gutmütig</td>\n",
       "      <td>positiv</td>\n",
       "      <td>6</td>\n",
       "    </tr>\n",
       "  </tbody>\n",
       "</table>\n",
       "</div>"
      ],
      "text/plain": [
       "   Column 1                           Satz          noun polarity_noun  \\\n",
       "0         0           Die Biene ist aktiv.         Biene       positiv   \n",
       "1         1  Die Brautjungfer ist amüsant.  Brautjungfer       positiv   \n",
       "2         2        Der Garten ist berühmt.        Garten       positiv   \n",
       "3         3            Der Gewinn ist süß.        Gewinn       positiv   \n",
       "4         4     Der Künstler ist gutmütig.      Künstler       positiv   \n",
       "\n",
       "  adjective polarity_adj  valence_rating_sent  \n",
       "0     aktiv      positiv                    4  \n",
       "1   amüsant      positiv                    7  \n",
       "2   berühmt      positiv                    6  \n",
       "3       süß      positiv                    7  \n",
       "4  gutmütig      positiv                    6  "
      ]
     },
     "execution_count": 2,
     "metadata": {},
     "output_type": "execute_result"
    }
   ],
   "source": [
    "df = pd.read_csv('/Users/ganiyuopeyemi/desktop/NLP/Satzveri2_36_Itemslong_short.txt', error_bad_lines=False)\n",
    "df.head()"
   ]
  },
  {
   "cell_type": "code",
   "execution_count": 3,
   "metadata": {},
   "outputs": [
    {
     "data": {
      "text/plain": [
       "(561, 7)"
      ]
     },
     "execution_count": 3,
     "metadata": {},
     "output_type": "execute_result"
    }
   ],
   "source": [
    "df.shape"
   ]
  },
  {
   "cell_type": "code",
   "execution_count": 4,
   "metadata": {},
   "outputs": [
    {
     "data": {
      "text/plain": [
       "Column 1               0\n",
       "Satz                   0\n",
       "noun                   0\n",
       "polarity_noun          0\n",
       "adjective              0\n",
       "polarity_adj           0\n",
       "valence_rating_sent    0\n",
       "dtype: int64"
      ]
     },
     "execution_count": 4,
     "metadata": {},
     "output_type": "execute_result"
    }
   ],
   "source": [
    "df.isna().sum()"
   ]
  },
  {
   "cell_type": "code",
   "execution_count": 5,
   "metadata": {},
   "outputs": [
    {
     "name": "stdout",
     "output_type": "stream",
     "text": [
      "<class 'pandas.core.frame.DataFrame'>\n",
      "RangeIndex: 561 entries, 0 to 560\n",
      "Data columns (total 7 columns):\n",
      " #   Column               Non-Null Count  Dtype \n",
      "---  ------               --------------  ----- \n",
      " 0   Column 1             561 non-null    int64 \n",
      " 1   Satz                 561 non-null    object\n",
      " 2   noun                 561 non-null    object\n",
      " 3   polarity_noun        561 non-null    object\n",
      " 4   adjective            561 non-null    object\n",
      " 5   polarity_adj         561 non-null    object\n",
      " 6   valence_rating_sent  561 non-null    int64 \n",
      "dtypes: int64(2), object(5)\n",
      "memory usage: 30.8+ KB\n"
     ]
    }
   ],
   "source": [
    "df.info()"
   ]
  },
  {
   "cell_type": "code",
   "execution_count": 6,
   "metadata": {},
   "outputs": [],
   "source": [
    "df = df.drop(columns = ['Column 1'])"
   ]
  },
  {
   "cell_type": "code",
   "execution_count": 7,
   "metadata": {},
   "outputs": [
    {
     "data": {
      "text/plain": [
       "561"
      ]
     },
     "execution_count": 7,
     "metadata": {},
     "output_type": "execute_result"
    }
   ],
   "source": [
    "df[\"noun\"].value_counts().sum()"
   ]
  },
  {
   "cell_type": "code",
   "execution_count": 8,
   "metadata": {},
   "outputs": [],
   "source": [
    "#df[\"noun\"].unique()"
   ]
  },
  {
   "cell_type": "code",
   "execution_count": 9,
   "metadata": {},
   "outputs": [],
   "source": [
    "#df['adjective'].unique()"
   ]
  },
  {
   "cell_type": "code",
   "execution_count": 10,
   "metadata": {},
   "outputs": [
    {
     "data": {
      "text/plain": [
       "561"
      ]
     },
     "execution_count": 10,
     "metadata": {},
     "output_type": "execute_result"
    }
   ],
   "source": [
    "df[\"adjective\"].value_counts().sum()"
   ]
  },
  {
   "cell_type": "code",
   "execution_count": 11,
   "metadata": {},
   "outputs": [
    {
     "data": {
      "text/plain": [
       "positiv    281\n",
       "negativ    280\n",
       "Name: polarity_noun, dtype: int64"
      ]
     },
     "execution_count": 11,
     "metadata": {},
     "output_type": "execute_result"
    }
   ],
   "source": [
    "df[\"polarity_noun\"].value_counts()"
   ]
  },
  {
   "cell_type": "code",
   "execution_count": 12,
   "metadata": {},
   "outputs": [
    {
     "data": {
      "text/plain": [
       "positiv    189\n",
       "negativ    188\n",
       "neutral    184\n",
       "Name: polarity_adj, dtype: int64"
      ]
     },
     "execution_count": 12,
     "metadata": {},
     "output_type": "execute_result"
    }
   ],
   "source": [
    "df[\"polarity_adj\"].value_counts()"
   ]
  },
  {
   "cell_type": "code",
   "execution_count": 13,
   "metadata": {},
   "outputs": [
    {
     "data": {
      "text/plain": [
       "5    101\n",
       "4     99\n",
       "3     89\n",
       "2     82\n",
       "6     73\n",
       "7     49\n",
       "1     44\n",
       "8     23\n",
       "9      1\n",
       "Name: valence_rating_sent, dtype: int64"
      ]
     },
     "execution_count": 13,
     "metadata": {},
     "output_type": "execute_result"
    }
   ],
   "source": [
    "df[\"valence_rating_sent\"].value_counts()"
   ]
  },
  {
   "cell_type": "code",
   "execution_count": 14,
   "metadata": {},
   "outputs": [
    {
     "data": {
      "text/plain": [
       "Text(0, 0.5, 'Label')"
      ]
     },
     "execution_count": 14,
     "metadata": {},
     "output_type": "execute_result"
    },
    {
     "data": {
      "image/png": "[encoded data removed]",
      "text/plain": [
       "<Figure size 432x288 with 1 Axes>"
      ]
     },
     "metadata": {
      "needs_background": "light"
     },
     "output_type": "display_data"
    }
   ],
   "source": [
    "ax = df[\"valence_rating_sent\"].value_counts(sort=False).plot(kind='barh')\n",
    "ax.set_xlabel(\"Number of Samples in training Set\")\n",
    "ax.set_ylabel(\"Label\")"
   ]
  },
  {
   "cell_type": "code",
   "execution_count": 15,
   "metadata": {},
   "outputs": [],
   "source": [
    "df['tokenized_sents'] = df.apply(lambda row: nltk.word_tokenize(row[\"Satz\"]), axis=1)\n"
   ]
  },
  {
   "cell_type": "code",
   "execution_count": 16,
   "metadata": {},
   "outputs": [
    {
     "data": {
      "text/html": [
       "<div>\n",
       "<style scoped>\n",
       "    .dataframe tbody tr th:only-of-type {\n",
       "        vertical-align: middle;\n",
       "    }\n",
       "\n",
       "    .dataframe tbody tr th {\n",
       "        vertical-align: top;\n",
       "    }\n",
       "\n",
       "    .dataframe thead th {\n",
       "        text-align: right;\n",
       "    }\n",
       "</style>\n",
       "<table border=\"1\" class=\"dataframe\">\n",
       "  <thead>\n",
       "    <tr style=\"text-align: right;\">\n",
       "      <th></th>\n",
       "      <th>Satz</th>\n",
       "      <th>noun</th>\n",
       "      <th>polarity_noun</th>\n",
       "      <th>adjective</th>\n",
       "      <th>polarity_adj</th>\n",
       "      <th>valence_rating_sent</th>\n",
       "      <th>tokenized_sents</th>\n",
       "    </tr>\n",
       "  </thead>\n",
       "  <tbody>\n",
       "    <tr>\n",
       "      <th>0</th>\n",
       "      <td>Die Biene ist aktiv.</td>\n",
       "      <td>Biene</td>\n",
       "      <td>positiv</td>\n",
       "      <td>aktiv</td>\n",
       "      <td>positiv</td>\n",
       "      <td>4</td>\n",
       "      <td>[Die, Biene, ist, aktiv, .]</td>\n",
       "    </tr>\n",
       "    <tr>\n",
       "      <th>1</th>\n",
       "      <td>Die Brautjungfer ist amüsant.</td>\n",
       "      <td>Brautjungfer</td>\n",
       "      <td>positiv</td>\n",
       "      <td>amüsant</td>\n",
       "      <td>positiv</td>\n",
       "      <td>7</td>\n",
       "      <td>[Die, Brautjungfer, ist, amüsant, .]</td>\n",
       "    </tr>\n",
       "    <tr>\n",
       "      <th>2</th>\n",
       "      <td>Der Garten ist berühmt.</td>\n",
       "      <td>Garten</td>\n",
       "      <td>positiv</td>\n",
       "      <td>berühmt</td>\n",
       "      <td>positiv</td>\n",
       "      <td>6</td>\n",
       "      <td>[Der, Garten, ist, berühmt, .]</td>\n",
       "    </tr>\n",
       "    <tr>\n",
       "      <th>3</th>\n",
       "      <td>Der Gewinn ist süß.</td>\n",
       "      <td>Gewinn</td>\n",
       "      <td>positiv</td>\n",
       "      <td>süß</td>\n",
       "      <td>positiv</td>\n",
       "      <td>7</td>\n",
       "      <td>[Der, Gewinn, ist, süß, .]</td>\n",
       "    </tr>\n",
       "    <tr>\n",
       "      <th>4</th>\n",
       "      <td>Der Künstler ist gutmütig.</td>\n",
       "      <td>Künstler</td>\n",
       "      <td>positiv</td>\n",
       "      <td>gutmütig</td>\n",
       "      <td>positiv</td>\n",
       "      <td>6</td>\n",
       "      <td>[Der, Künstler, ist, gutmütig, .]</td>\n",
       "    </tr>\n",
       "  </tbody>\n",
       "</table>\n",
       "</div>"
      ],
      "text/plain": [
       "                            Satz          noun polarity_noun adjective  \\\n",
       "0           Die Biene ist aktiv.         Biene       positiv     aktiv   \n",
       "1  Die Brautjungfer ist amüsant.  Brautjungfer       positiv   amüsant   \n",
       "2        Der Garten ist berühmt.        Garten       positiv   berühmt   \n",
       "3            Der Gewinn ist süß.        Gewinn       positiv       süß   \n",
       "4     Der Künstler ist gutmütig.      Künstler       positiv  gutmütig   \n",
       "\n",
       "  polarity_adj  valence_rating_sent                       tokenized_sents  \n",
       "0      positiv                    4           [Die, Biene, ist, aktiv, .]  \n",
       "1      positiv                    7  [Die, Brautjungfer, ist, amüsant, .]  \n",
       "2      positiv                    6        [Der, Garten, ist, berühmt, .]  \n",
       "3      positiv                    7            [Der, Gewinn, ist, süß, .]  \n",
       "4      positiv                    6     [Der, Künstler, ist, gutmütig, .]  "
      ]
     },
     "execution_count": 16,
     "metadata": {},
     "output_type": "execute_result"
    }
   ],
   "source": [
    "df.head()"
   ]
  },
  {
   "cell_type": "code",
   "execution_count": 17,
   "metadata": {},
   "outputs": [
    {
     "name": "stdout",
     "output_type": "stream",
     "text": [
      "              word      wordLC    AAPz  ang_z  fear_z  disg_z   hap_z   sad_z  \\\n",
      "0           Aachen      aachen  0.6557  0.097 -1.0980 -1.2940 -0.4470 -1.3020   \n",
      "1              Aal         aal  0.3076  0.234 -0.4620  1.4168 -0.1940  0.1161   \n",
      "2             Aale        aale  0.0619  0.218 -0.1440  0.4773 -0.1210 -0.1830   \n",
      "3              Aas         aas -1.0440  0.258  0.1618  2.0333  0.3128  0.3957   \n",
      "4       Aasfresser  aasfresser -1.5150  0.327  1.1859  1.9843  0.2766  0.6850   \n",
      "...            ...         ...     ...    ...     ...     ...     ...     ...   \n",
      "116308     üppigem     üppigem  2.1710  0.152 -1.6270 -0.1590  0.9881  0.3765   \n",
      "116309     üppigen     üppigen  2.0481  0.127 -1.6160 -0.7360  0.4093  0.0004   \n",
      "116310     üppiger     üppiger  2.0276  0.143 -1.5920 -0.6580  0.6143  0.1836   \n",
      "116311   üppigeren   üppigeren  1.5157  0.078 -1.6630 -1.2940 -0.3500 -0.7420   \n",
      "116312     üppiges     üppiges  1.6386  0.134 -1.5450 -0.3550  0.6625 -0.1350   \n",
      "\n",
      "        surp_z  \n",
      "0      -0.6360  \n",
      "1      -0.3240  \n",
      "2       0.0135  \n",
      "3      -0.8440  \n",
      "4       0.5720  \n",
      "...        ...  \n",
      "116308 -0.5970  \n",
      "116309  0.0915  \n",
      "116310 -0.2720  \n",
      "116311 -0.6100  \n",
      "116312  0.2473  \n",
      "\n",
      "[116313 rows x 9 columns]\n"
     ]
    }
   ],
   "source": [
    "#TC = '250kSentiArt_EN.xlsx' \n",
    "sa = pd.read_excel('/Users/ganiyuopeyemi/desktop/NLP/SentiArt-main/120kSentiArt_DE.xlsx') #    \n",
    "print(sa)"
   ]
  },
  {
   "cell_type": "code",
   "execution_count": 18,
   "metadata": {},
   "outputs": [],
   "source": [
    "sa = pd.DataFrame(sa)"
   ]
  },
  {
   "cell_type": "code",
   "execution_count": 19,
   "metadata": {},
   "outputs": [
    {
     "data": {
      "text/html": [
       "<div>\n",
       "<style scoped>\n",
       "    .dataframe tbody tr th:only-of-type {\n",
       "        vertical-align: middle;\n",
       "    }\n",
       "\n",
       "    .dataframe tbody tr th {\n",
       "        vertical-align: top;\n",
       "    }\n",
       "\n",
       "    .dataframe thead th {\n",
       "        text-align: right;\n",
       "    }\n",
       "</style>\n",
       "<table border=\"1\" class=\"dataframe\">\n",
       "  <thead>\n",
       "    <tr style=\"text-align: right;\">\n",
       "      <th></th>\n",
       "      <th>word</th>\n",
       "      <th>wordLC</th>\n",
       "      <th>AAPz</th>\n",
       "      <th>ang_z</th>\n",
       "      <th>fear_z</th>\n",
       "      <th>disg_z</th>\n",
       "      <th>hap_z</th>\n",
       "      <th>sad_z</th>\n",
       "      <th>surp_z</th>\n",
       "    </tr>\n",
       "  </thead>\n",
       "  <tbody>\n",
       "    <tr>\n",
       "      <th>89714</th>\n",
       "      <td>ist</td>\n",
       "      <td>ist</td>\n",
       "      <td>0.2667</td>\n",
       "      <td>0.185</td>\n",
       "      <td>0.0794</td>\n",
       "      <td>-0.521</td>\n",
       "      <td>0.3249</td>\n",
       "      <td>-0.26</td>\n",
       "      <td>0.7149</td>\n",
       "    </tr>\n",
       "  </tbody>\n",
       "</table>\n",
       "</div>"
      ],
      "text/plain": [
       "      word wordLC    AAPz  ang_z  fear_z  disg_z   hap_z  sad_z  surp_z\n",
       "89714  ist    ist  0.2667  0.185  0.0794  -0.521  0.3249  -0.26  0.7149"
      ]
     },
     "execution_count": 19,
     "metadata": {},
     "output_type": "execute_result"
    }
   ],
   "source": [
    "sa[sa.word == \"ist\"]"
   ]
  },
  {
   "cell_type": "code",
   "execution_count": 20,
   "metadata": {},
   "outputs": [
    {
     "data": {
      "text/html": [
       "<div>\n",
       "<style scoped>\n",
       "    .dataframe tbody tr th:only-of-type {\n",
       "        vertical-align: middle;\n",
       "    }\n",
       "\n",
       "    .dataframe tbody tr th {\n",
       "        vertical-align: top;\n",
       "    }\n",
       "\n",
       "    .dataframe thead th {\n",
       "        text-align: right;\n",
       "    }\n",
       "</style>\n",
       "<table border=\"1\" class=\"dataframe\">\n",
       "  <thead>\n",
       "    <tr style=\"text-align: right;\">\n",
       "      <th></th>\n",
       "      <th>word</th>\n",
       "      <th>wordLC</th>\n",
       "      <th>AAPz</th>\n",
       "      <th>ang_z</th>\n",
       "      <th>fear_z</th>\n",
       "      <th>disg_z</th>\n",
       "      <th>hap_z</th>\n",
       "      <th>sad_z</th>\n",
       "      <th>surp_z</th>\n",
       "    </tr>\n",
       "  </thead>\n",
       "  <tbody>\n",
       "    <tr>\n",
       "      <th>74617</th>\n",
       "      <td>der</td>\n",
       "      <td>der</td>\n",
       "      <td>0.2257</td>\n",
       "      <td>0.203</td>\n",
       "      <td>0.2325</td>\n",
       "      <td>-0.814</td>\n",
       "      <td>0.0234</td>\n",
       "      <td>-0.916</td>\n",
       "      <td>0.7538</td>\n",
       "    </tr>\n",
       "  </tbody>\n",
       "</table>\n",
       "</div>"
      ],
      "text/plain": [
       "      word wordLC    AAPz  ang_z  fear_z  disg_z   hap_z  sad_z  surp_z\n",
       "74617  der    der  0.2257  0.203  0.2325  -0.814  0.0234 -0.916  0.7538"
      ]
     },
     "execution_count": 20,
     "metadata": {},
     "output_type": "execute_result"
    }
   ],
   "source": [
    "sa[sa.word == \"der\"]"
   ]
  },
  {
   "cell_type": "code",
   "execution_count": 21,
   "metadata": {},
   "outputs": [
    {
     "data": {
      "text/html": [
       "<div>\n",
       "<style scoped>\n",
       "    .dataframe tbody tr th:only-of-type {\n",
       "        vertical-align: middle;\n",
       "    }\n",
       "\n",
       "    .dataframe tbody tr th {\n",
       "        vertical-align: top;\n",
       "    }\n",
       "\n",
       "    .dataframe thead th {\n",
       "        text-align: right;\n",
       "    }\n",
       "</style>\n",
       "<table border=\"1\" class=\"dataframe\">\n",
       "  <thead>\n",
       "    <tr style=\"text-align: right;\">\n",
       "      <th></th>\n",
       "      <th>word</th>\n",
       "      <th>wordLC</th>\n",
       "      <th>AAPz</th>\n",
       "      <th>ang_z</th>\n",
       "      <th>fear_z</th>\n",
       "      <th>disg_z</th>\n",
       "      <th>hap_z</th>\n",
       "      <th>sad_z</th>\n",
       "      <th>surp_z</th>\n",
       "    </tr>\n",
       "  </thead>\n",
       "  <tbody>\n",
       "    <tr>\n",
       "      <th>74808</th>\n",
       "      <td>die</td>\n",
       "      <td>die</td>\n",
       "      <td>0.1848</td>\n",
       "      <td>0.276</td>\n",
       "      <td>0.8681</td>\n",
       "      <td>-0.462</td>\n",
       "      <td>0.3611</td>\n",
       "      <td>-0.308</td>\n",
       "      <td>0.9097</td>\n",
       "    </tr>\n",
       "  </tbody>\n",
       "</table>\n",
       "</div>"
      ],
      "text/plain": [
       "      word wordLC    AAPz  ang_z  fear_z  disg_z   hap_z  sad_z  surp_z\n",
       "74808  die    die  0.1848  0.276  0.8681  -0.462  0.3611 -0.308  0.9097"
      ]
     },
     "execution_count": 21,
     "metadata": {},
     "output_type": "execute_result"
    }
   ],
   "source": [
    "sa[sa.word == \"die\"]"
   ]
  },
  {
   "cell_type": "code",
   "execution_count": 22,
   "metadata": {},
   "outputs": [
    {
     "data": {
      "text/html": [
       "<div>\n",
       "<style scoped>\n",
       "    .dataframe tbody tr th:only-of-type {\n",
       "        vertical-align: middle;\n",
       "    }\n",
       "\n",
       "    .dataframe tbody tr th {\n",
       "        vertical-align: top;\n",
       "    }\n",
       "\n",
       "    .dataframe thead th {\n",
       "        text-align: right;\n",
       "    }\n",
       "</style>\n",
       "<table border=\"1\" class=\"dataframe\">\n",
       "  <thead>\n",
       "    <tr style=\"text-align: right;\">\n",
       "      <th></th>\n",
       "      <th>word</th>\n",
       "      <th>wordLC</th>\n",
       "      <th>AAPz</th>\n",
       "      <th>ang_z</th>\n",
       "      <th>fear_z</th>\n",
       "      <th>disg_z</th>\n",
       "      <th>hap_z</th>\n",
       "      <th>sad_z</th>\n",
       "      <th>surp_z</th>\n",
       "    </tr>\n",
       "  </thead>\n",
       "  <tbody>\n",
       "    <tr>\n",
       "      <th>74227</th>\n",
       "      <td>das</td>\n",
       "      <td>das</td>\n",
       "      <td>0.3281</td>\n",
       "      <td>0.254</td>\n",
       "      <td>0.5385</td>\n",
       "      <td>-0.139</td>\n",
       "      <td>0.7349</td>\n",
       "      <td>0.1064</td>\n",
       "      <td>0.9486</td>\n",
       "    </tr>\n",
       "  </tbody>\n",
       "</table>\n",
       "</div>"
      ],
      "text/plain": [
       "      word wordLC    AAPz  ang_z  fear_z  disg_z   hap_z   sad_z  surp_z\n",
       "74227  das    das  0.3281  0.254  0.5385  -0.139  0.7349  0.1064  0.9486"
      ]
     },
     "execution_count": 22,
     "metadata": {},
     "output_type": "execute_result"
    }
   ],
   "source": [
    "sa[sa.word == \"das\"]"
   ]
  },
  {
   "cell_type": "code",
   "execution_count": 23,
   "metadata": {},
   "outputs": [
    {
     "data": {
      "text/html": [
       "<div>\n",
       "<style scoped>\n",
       "    .dataframe tbody tr th:only-of-type {\n",
       "        vertical-align: middle;\n",
       "    }\n",
       "\n",
       "    .dataframe tbody tr th {\n",
       "        vertical-align: top;\n",
       "    }\n",
       "\n",
       "    .dataframe thead th {\n",
       "        text-align: right;\n",
       "    }\n",
       "</style>\n",
       "<table border=\"1\" class=\"dataframe\">\n",
       "  <thead>\n",
       "    <tr style=\"text-align: right;\">\n",
       "      <th></th>\n",
       "      <th>word</th>\n",
       "      <th>wordLC</th>\n",
       "      <th>AAPz</th>\n",
       "      <th>ang_z</th>\n",
       "      <th>fear_z</th>\n",
       "      <th>disg_z</th>\n",
       "      <th>hap_z</th>\n",
       "      <th>sad_z</th>\n",
       "      <th>surp_z</th>\n",
       "    </tr>\n",
       "  </thead>\n",
       "  <tbody>\n",
       "    <tr>\n",
       "      <th>0</th>\n",
       "      <td>Aachen</td>\n",
       "      <td>aachen</td>\n",
       "      <td>0.6557</td>\n",
       "      <td>0.097</td>\n",
       "      <td>-1.0980</td>\n",
       "      <td>-1.2940</td>\n",
       "      <td>-0.4470</td>\n",
       "      <td>-1.3020</td>\n",
       "      <td>-0.6360</td>\n",
       "    </tr>\n",
       "    <tr>\n",
       "      <th>1</th>\n",
       "      <td>Aal</td>\n",
       "      <td>aal</td>\n",
       "      <td>0.3076</td>\n",
       "      <td>0.234</td>\n",
       "      <td>-0.4620</td>\n",
       "      <td>1.4168</td>\n",
       "      <td>-0.1940</td>\n",
       "      <td>0.1161</td>\n",
       "      <td>-0.3240</td>\n",
       "    </tr>\n",
       "    <tr>\n",
       "      <th>2</th>\n",
       "      <td>Aale</td>\n",
       "      <td>aale</td>\n",
       "      <td>0.0619</td>\n",
       "      <td>0.218</td>\n",
       "      <td>-0.1440</td>\n",
       "      <td>0.4773</td>\n",
       "      <td>-0.1210</td>\n",
       "      <td>-0.1830</td>\n",
       "      <td>0.0135</td>\n",
       "    </tr>\n",
       "    <tr>\n",
       "      <th>3</th>\n",
       "      <td>Aas</td>\n",
       "      <td>aas</td>\n",
       "      <td>-1.0440</td>\n",
       "      <td>0.258</td>\n",
       "      <td>0.1618</td>\n",
       "      <td>2.0333</td>\n",
       "      <td>0.3128</td>\n",
       "      <td>0.3957</td>\n",
       "      <td>-0.8440</td>\n",
       "    </tr>\n",
       "    <tr>\n",
       "      <th>4</th>\n",
       "      <td>Aasfresser</td>\n",
       "      <td>aasfresser</td>\n",
       "      <td>-1.5150</td>\n",
       "      <td>0.327</td>\n",
       "      <td>1.1859</td>\n",
       "      <td>1.9843</td>\n",
       "      <td>0.2766</td>\n",
       "      <td>0.6850</td>\n",
       "      <td>0.5720</td>\n",
       "    </tr>\n",
       "  </tbody>\n",
       "</table>\n",
       "</div>"
      ],
      "text/plain": [
       "         word      wordLC    AAPz  ang_z  fear_z  disg_z   hap_z   sad_z  \\\n",
       "0      Aachen      aachen  0.6557  0.097 -1.0980 -1.2940 -0.4470 -1.3020   \n",
       "1         Aal         aal  0.3076  0.234 -0.4620  1.4168 -0.1940  0.1161   \n",
       "2        Aale        aale  0.0619  0.218 -0.1440  0.4773 -0.1210 -0.1830   \n",
       "3         Aas         aas -1.0440  0.258  0.1618  2.0333  0.3128  0.3957   \n",
       "4  Aasfresser  aasfresser -1.5150  0.327  1.1859  1.9843  0.2766  0.6850   \n",
       "\n",
       "   surp_z  \n",
       "0 -0.6360  \n",
       "1 -0.3240  \n",
       "2  0.0135  \n",
       "3 -0.8440  \n",
       "4  0.5720  "
      ]
     },
     "execution_count": 23,
     "metadata": {},
     "output_type": "execute_result"
    }
   ],
   "source": [
    "sa.head()"
   ]
  },
  {
   "cell_type": "code",
   "execution_count": 24,
   "metadata": {},
   "outputs": [],
   "source": [
    "my_list = []\n",
    "for word in df.tokenized_sents:\n",
    "    my_list.append(word)"
   ]
  },
  {
   "cell_type": "code",
   "execution_count": 25,
   "metadata": {},
   "outputs": [],
   "source": [
    "nouns = []\n",
    "for noun in df.noun:\n",
    "    nouns.append(noun)"
   ]
  },
  {
   "cell_type": "code",
   "execution_count": 26,
   "metadata": {},
   "outputs": [],
   "source": [
    "adjs = []\n",
    "for adj in df.adjective:\n",
    "    adjs.append(adj)"
   ]
  },
  {
   "cell_type": "code",
   "execution_count": 27,
   "metadata": {},
   "outputs": [
    {
     "data": {
      "text/plain": [
       "561"
      ]
     },
     "execution_count": 27,
     "metadata": {},
     "output_type": "execute_result"
    }
   ],
   "source": [
    "len(my_list)"
   ]
  },
  {
   "cell_type": "code",
   "execution_count": 28,
   "metadata": {},
   "outputs": [
    {
     "data": {
      "text/plain": [
       "561"
      ]
     },
     "execution_count": 28,
     "metadata": {},
     "output_type": "execute_result"
    }
   ],
   "source": [
    "len(nouns)"
   ]
  },
  {
   "cell_type": "code",
   "execution_count": 29,
   "metadata": {},
   "outputs": [
    {
     "data": {
      "text/plain": [
       "561"
      ]
     },
     "execution_count": 29,
     "metadata": {},
     "output_type": "execute_result"
    }
   ],
   "source": [
    "len(adjs)"
   ]
  },
  {
   "cell_type": "code",
   "execution_count": 30,
   "metadata": {},
   "outputs": [],
   "source": [
    "sent_AAPz_Satz = []\n",
    "for t in my_list:\n",
    "    dt = sa.query('word in @t')\n",
    "    sent_AAPz_Satz.append(dt.AAPz.mean())\n",
    "   "
   ]
  },
  {
   "cell_type": "code",
   "execution_count": 31,
   "metadata": {},
   "outputs": [],
   "source": [
    "sent_APPz_noun = []\n",
    "for t in nouns:\n",
    "    dt = sa.query('word in @t')\n",
    "    sent_APPz_noun.append(dt.AAPz.mean())\n",
    "   "
   ]
  },
  {
   "cell_type": "code",
   "execution_count": 32,
   "metadata": {},
   "outputs": [],
   "source": [
    "sent_APPz_adj= []\n",
    "for t in adjs:\n",
    "    dt = sa.query('word in @t')\n",
    "    sent_APPz_adj.append(dt.AAPz.mean())\n",
    "   "
   ]
  },
  {
   "cell_type": "code",
   "execution_count": null,
   "metadata": {},
   "outputs": [],
   "source": []
  },
  {
   "cell_type": "code",
   "execution_count": 33,
   "metadata": {},
   "outputs": [],
   "source": [
    "df['senti_sent'] = sent_AAPz_Satz\n",
    "df['senti_noun'] =sent_APPz_noun\n",
    "df['senti_adj'] = sent_APPz_adj\n",
    "df = round(df,3)"
   ]
  },
  {
   "cell_type": "code",
   "execution_count": 34,
   "metadata": {},
   "outputs": [
    {
     "data": {
      "text/html": [
       "<div>\n",
       "<style scoped>\n",
       "    .dataframe tbody tr th:only-of-type {\n",
       "        vertical-align: middle;\n",
       "    }\n",
       "\n",
       "    .dataframe tbody tr th {\n",
       "        vertical-align: top;\n",
       "    }\n",
       "\n",
       "    .dataframe thead th {\n",
       "        text-align: right;\n",
       "    }\n",
       "</style>\n",
       "<table border=\"1\" class=\"dataframe\">\n",
       "  <thead>\n",
       "    <tr style=\"text-align: right;\">\n",
       "      <th></th>\n",
       "      <th>Satz</th>\n",
       "      <th>noun</th>\n",
       "      <th>polarity_noun</th>\n",
       "      <th>adjective</th>\n",
       "      <th>polarity_adj</th>\n",
       "      <th>valence_rating_sent</th>\n",
       "      <th>tokenized_sents</th>\n",
       "      <th>senti_sent</th>\n",
       "      <th>senti_noun</th>\n",
       "      <th>senti_adj</th>\n",
       "    </tr>\n",
       "  </thead>\n",
       "  <tbody>\n",
       "    <tr>\n",
       "      <th>0</th>\n",
       "      <td>Die Biene ist aktiv.</td>\n",
       "      <td>Biene</td>\n",
       "      <td>positiv</td>\n",
       "      <td>aktiv</td>\n",
       "      <td>positiv</td>\n",
       "      <td>4</td>\n",
       "      <td>[Die, Biene, ist, aktiv, .]</td>\n",
       "      <td>0.806</td>\n",
       "      <td>0.942</td>\n",
       "      <td>1.209</td>\n",
       "    </tr>\n",
       "    <tr>\n",
       "      <th>1</th>\n",
       "      <td>Die Brautjungfer ist amüsant.</td>\n",
       "      <td>Brautjungfer</td>\n",
       "      <td>positiv</td>\n",
       "      <td>amüsant</td>\n",
       "      <td>positiv</td>\n",
       "      <td>7</td>\n",
       "      <td>[Die, Brautjungfer, ist, amüsant, .]</td>\n",
       "      <td>0.628</td>\n",
       "      <td>0.922</td>\n",
       "      <td>0.697</td>\n",
       "    </tr>\n",
       "    <tr>\n",
       "      <th>2</th>\n",
       "      <td>Der Garten ist berühmt.</td>\n",
       "      <td>Garten</td>\n",
       "      <td>positiv</td>\n",
       "      <td>berühmt</td>\n",
       "      <td>positiv</td>\n",
       "      <td>6</td>\n",
       "      <td>[Der, Garten, ist, berühmt, .]</td>\n",
       "      <td>1.277</td>\n",
       "      <td>2.335</td>\n",
       "      <td>1.229</td>\n",
       "    </tr>\n",
       "    <tr>\n",
       "      <th>3</th>\n",
       "      <td>Der Gewinn ist süß.</td>\n",
       "      <td>Gewinn</td>\n",
       "      <td>positiv</td>\n",
       "      <td>süß</td>\n",
       "      <td>positiv</td>\n",
       "      <td>7</td>\n",
       "      <td>[Der, Gewinn, ist, süß, .]</td>\n",
       "      <td>0.431</td>\n",
       "      <td>0.349</td>\n",
       "      <td>0.676</td>\n",
       "    </tr>\n",
       "    <tr>\n",
       "      <th>4</th>\n",
       "      <td>Der Künstler ist gutmütig.</td>\n",
       "      <td>Künstler</td>\n",
       "      <td>positiv</td>\n",
       "      <td>gutmütig</td>\n",
       "      <td>positiv</td>\n",
       "      <td>6</td>\n",
       "      <td>[Der, Künstler, ist, gutmütig, .]</td>\n",
       "      <td>0.744</td>\n",
       "      <td>1.802</td>\n",
       "      <td>0.164</td>\n",
       "    </tr>\n",
       "  </tbody>\n",
       "</table>\n",
       "</div>"
      ],
      "text/plain": [
       "                            Satz          noun polarity_noun adjective  \\\n",
       "0           Die Biene ist aktiv.         Biene       positiv     aktiv   \n",
       "1  Die Brautjungfer ist amüsant.  Brautjungfer       positiv   amüsant   \n",
       "2        Der Garten ist berühmt.        Garten       positiv   berühmt   \n",
       "3            Der Gewinn ist süß.        Gewinn       positiv       süß   \n",
       "4     Der Künstler ist gutmütig.      Künstler       positiv  gutmütig   \n",
       "\n",
       "  polarity_adj  valence_rating_sent                       tokenized_sents  \\\n",
       "0      positiv                    4           [Die, Biene, ist, aktiv, .]   \n",
       "1      positiv                    7  [Die, Brautjungfer, ist, amüsant, .]   \n",
       "2      positiv                    6        [Der, Garten, ist, berühmt, .]   \n",
       "3      positiv                    7            [Der, Gewinn, ist, süß, .]   \n",
       "4      positiv                    6     [Der, Künstler, ist, gutmütig, .]   \n",
       "\n",
       "   senti_sent  senti_noun  senti_adj  \n",
       "0       0.806       0.942      1.209  \n",
       "1       0.628       0.922      0.697  \n",
       "2       1.277       2.335      1.229  \n",
       "3       0.431       0.349      0.676  \n",
       "4       0.744       1.802      0.164  "
      ]
     },
     "execution_count": 34,
     "metadata": {},
     "output_type": "execute_result"
    }
   ],
   "source": [
    "df.head()"
   ]
  },
  {
   "cell_type": "code",
   "execution_count": 35,
   "metadata": {},
   "outputs": [
    {
     "name": "stdout",
     "output_type": "stream",
     "text": [
      "0\n",
      "18\n",
      "30\n"
     ]
    }
   ],
   "source": [
    "print(df.senti_sent.isna().sum())\n",
    "print(df.senti_noun.isna().sum())\n",
    "print(df.senti_adj.isna().sum())"
   ]
  },
  {
   "cell_type": "code",
   "execution_count": 36,
   "metadata": {},
   "outputs": [
    {
     "data": {
      "text/plain": [
       "64     Hochzeitsfeier\n",
       "73       Schulmädchen\n",
       "173          Raufbold\n",
       "174          Folterer\n",
       "186           Rassist\n",
       "187           Prahler\n",
       "242             Disco\n",
       "254    Hochzeitsfeier\n",
       "364          Folterer\n",
       "374           Rassist\n",
       "375           Prahler\n",
       "429             Disco\n",
       "439    Hochzeitsfeier\n",
       "449      Schulmädchen\n",
       "546          Raufbold\n",
       "547          Folterer\n",
       "558           Rassist\n",
       "559           Prahler\n",
       "Name: noun, dtype: object"
      ]
     },
     "execution_count": 36,
     "metadata": {},
     "output_type": "execute_result"
    }
   ],
   "source": [
    "missing_noun = df.loc[pd.isna(df[\"senti_noun\"]), 'noun']\n",
    "missing_noun"
   ]
  },
  {
   "cell_type": "code",
   "execution_count": 37,
   "metadata": {},
   "outputs": [
    {
     "data": {
      "text/plain": [
       "18             weise\n",
       "53            schick\n",
       "64         ehrwürdig\n",
       "74        einfühlsam\n",
       "112            weise\n",
       "147           schick\n",
       "158        ehrwürdig\n",
       "169       einfühlsam\n",
       "210    selbstgefälli\n",
       "273        intrigant\n",
       "276           dement\n",
       "280         pickelig\n",
       "283          toxisch\n",
       "305    selbstgefälli\n",
       "368        intrigant\n",
       "371           dement\n",
       "373         pickelig\n",
       "376          toxisch\n",
       "377          lautlos\n",
       "425         russisch\n",
       "456         gehorsam\n",
       "458       manierlich\n",
       "460         türkisch\n",
       "467        unbehaart\n",
       "469          lautlos\n",
       "516         russisch\n",
       "548         gehorsam\n",
       "550       manierlich\n",
       "552         türkisch\n",
       "559        unbehaart\n",
       "Name: adjective, dtype: object"
      ]
     },
     "execution_count": 37,
     "metadata": {},
     "output_type": "execute_result"
    }
   ],
   "source": [
    "missing_adjective = df.loc[pd.isna(df[\"senti_adj\"]), 'adjective']\n",
    "missing_adjective"
   ]
  },
  {
   "cell_type": "code",
   "execution_count": 38,
   "metadata": {},
   "outputs": [],
   "source": [
    "df = df.dropna()"
   ]
  },
  {
   "cell_type": "code",
   "execution_count": 39,
   "metadata": {},
   "outputs": [
    {
     "data": {
      "text/plain": [
       "(515, 10)"
      ]
     },
     "execution_count": 39,
     "metadata": {},
     "output_type": "execute_result"
    }
   ],
   "source": [
    "df.shape"
   ]
  },
  {
   "cell_type": "code",
   "execution_count": 40,
   "metadata": {},
   "outputs": [],
   "source": [
    "df_1 = df[[\"senti_sent\",\"senti_noun\",\"senti_adj\"]]"
   ]
  },
  {
   "cell_type": "code",
   "execution_count": 41,
   "metadata": {},
   "outputs": [
    {
     "data": {
      "text/html": [
       "<div>\n",
       "<style scoped>\n",
       "    .dataframe tbody tr th:only-of-type {\n",
       "        vertical-align: middle;\n",
       "    }\n",
       "\n",
       "    .dataframe tbody tr th {\n",
       "        vertical-align: top;\n",
       "    }\n",
       "\n",
       "    .dataframe thead th {\n",
       "        text-align: right;\n",
       "    }\n",
       "</style>\n",
       "<table border=\"1\" class=\"dataframe\">\n",
       "  <thead>\n",
       "    <tr style=\"text-align: right;\">\n",
       "      <th></th>\n",
       "      <th>senti_sent</th>\n",
       "      <th>senti_noun</th>\n",
       "      <th>senti_adj</th>\n",
       "    </tr>\n",
       "  </thead>\n",
       "  <tbody>\n",
       "    <tr>\n",
       "      <th>senti_sent</th>\n",
       "      <td>1.000000</td>\n",
       "      <td>0.681723</td>\n",
       "      <td>0.759809</td>\n",
       "    </tr>\n",
       "    <tr>\n",
       "      <th>senti_noun</th>\n",
       "      <td>0.681723</td>\n",
       "      <td>1.000000</td>\n",
       "      <td>0.042373</td>\n",
       "    </tr>\n",
       "    <tr>\n",
       "      <th>senti_adj</th>\n",
       "      <td>0.759809</td>\n",
       "      <td>0.042373</td>\n",
       "      <td>1.000000</td>\n",
       "    </tr>\n",
       "  </tbody>\n",
       "</table>\n",
       "</div>"
      ],
      "text/plain": [
       "            senti_sent  senti_noun  senti_adj\n",
       "senti_sent    1.000000    0.681723   0.759809\n",
       "senti_noun    0.681723    1.000000   0.042373\n",
       "senti_adj     0.759809    0.042373   1.000000"
      ]
     },
     "execution_count": 41,
     "metadata": {},
     "output_type": "execute_result"
    }
   ],
   "source": [
    "df_1.corr()"
   ]
  },
  {
   "cell_type": "code",
   "execution_count": 42,
   "metadata": {},
   "outputs": [
    {
     "data": {
      "text/plain": [
       "<matplotlib.axes._subplots.AxesSubplot at 0x7fef52243be0>"
      ]
     },
     "execution_count": 42,
     "metadata": {},
     "output_type": "execute_result"
    },
    {
     "data": {
      "image/png": "[encoded data removed]",
      "text/plain": [
       "<Figure size 432x288 with 2 Axes>"
      ]
     },
     "metadata": {
      "needs_background": "light"
     },
     "output_type": "display_data"
    }
   ],
   "source": [
    "corrmatrix =(df_1.corr())\n",
    "sns.heatmap(df_1.corr(), annot=True)"
   ]
  },
  {
   "cell_type": "code",
   "execution_count": 43,
   "metadata": {},
   "outputs": [
    {
     "data": {
      "text/plain": [
       "valence_rating_sent  polarity_noun\n",
       "1                    negativ          20\n",
       "                     positiv          15\n",
       "2                    negativ          47\n",
       "                     positiv          31\n",
       "3                    negativ          50\n",
       "                     positiv          31\n",
       "4                    negativ          51\n",
       "                     positiv          40\n",
       "5                    negativ          52\n",
       "                     positiv          42\n",
       "6                    negativ          19\n",
       "                     positiv          47\n",
       "7                    negativ          15\n",
       "                     positiv          32\n",
       "8                    negativ           1\n",
       "                     positiv          21\n",
       "9                    positiv           1\n",
       "Name: valence_rating_sent, dtype: int64"
      ]
     },
     "execution_count": 43,
     "metadata": {},
     "output_type": "execute_result"
    }
   ],
   "source": [
    "df.groupby([\"valence_rating_sent\",\"polarity_noun\"])[\"valence_rating_sent\"].count()"
   ]
  },
  {
   "cell_type": "code",
   "execution_count": 44,
   "metadata": {},
   "outputs": [
    {
     "data": {
      "text/plain": [
       "valence_rating_sent  polarity_adj\n",
       "1                    negativ         29\n",
       "                     neutral          3\n",
       "                     positiv          3\n",
       "2                    negativ         57\n",
       "                     neutral         13\n",
       "                     positiv          8\n",
       "3                    negativ         39\n",
       "                     neutral         31\n",
       "                     positiv         11\n",
       "4                    negativ         25\n",
       "                     neutral         47\n",
       "                     positiv         19\n",
       "5                    negativ         16\n",
       "                     neutral         41\n",
       "                     positiv         37\n",
       "6                    negativ          7\n",
       "                     neutral         16\n",
       "                     positiv         43\n",
       "7                    neutral         13\n",
       "                     positiv         34\n",
       "8                    neutral          2\n",
       "                     positiv         20\n",
       "9                    positiv          1\n",
       "Name: valence_rating_sent, dtype: int64"
      ]
     },
     "execution_count": 44,
     "metadata": {},
     "output_type": "execute_result"
    }
   ],
   "source": [
    "df.groupby([\"valence_rating_sent\",\"polarity_adj\"])[\"valence_rating_sent\"].count()"
   ]
  },
  {
   "cell_type": "code",
   "execution_count": 92,
   "metadata": {},
   "outputs": [
    {
     "data": {
      "text/plain": [
       "senti_noun  senti_adj\n",
       "negativ     negativ      123\n",
       "            neutral        2\n",
       "            positiv      137\n",
       "neutral     negativ        5\n",
       "            positiv       10\n",
       "positiv     negativ      111\n",
       "            neutral        4\n",
       "            positiv      123\n",
       "Name: senti_sent, dtype: int64"
      ]
     },
     "execution_count": 92,
     "metadata": {},
     "output_type": "execute_result"
    }
   ],
   "source": [
    "df.groupby([\"senti_noun\",\"senti_adj\"])[\"senti_sent\"].count()"
   ]
  },
  {
   "cell_type": "code",
   "execution_count": 46,
   "metadata": {},
   "outputs": [],
   "source": [
    "df[\"score\"] = pd.cut(df[\"senti_sent\"],\n",
    "                            bins=9,\n",
    "                            labels=[1, 2, 3, 4, 5, 6, 7, 8, 9])"
   ]
  },
  {
   "cell_type": "code",
   "execution_count": 47,
   "metadata": {},
   "outputs": [
    {
     "data": {
      "text/html": [
       "<div>\n",
       "<style scoped>\n",
       "    .dataframe tbody tr th:only-of-type {\n",
       "        vertical-align: middle;\n",
       "    }\n",
       "\n",
       "    .dataframe tbody tr th {\n",
       "        vertical-align: top;\n",
       "    }\n",
       "\n",
       "    .dataframe thead th {\n",
       "        text-align: right;\n",
       "    }\n",
       "</style>\n",
       "<table border=\"1\" class=\"dataframe\">\n",
       "  <thead>\n",
       "    <tr style=\"text-align: right;\">\n",
       "      <th></th>\n",
       "      <th>Satz</th>\n",
       "      <th>noun</th>\n",
       "      <th>polarity_noun</th>\n",
       "      <th>adjective</th>\n",
       "      <th>polarity_adj</th>\n",
       "      <th>valence_rating_sent</th>\n",
       "      <th>tokenized_sents</th>\n",
       "      <th>senti_sent</th>\n",
       "      <th>senti_noun</th>\n",
       "      <th>senti_adj</th>\n",
       "      <th>score</th>\n",
       "    </tr>\n",
       "  </thead>\n",
       "  <tbody>\n",
       "    <tr>\n",
       "      <th>28</th>\n",
       "      <td>Der Gesang ist anmutig.</td>\n",
       "      <td>Gesang</td>\n",
       "      <td>positiv</td>\n",
       "      <td>anmutig</td>\n",
       "      <td>positiv</td>\n",
       "      <td>8</td>\n",
       "      <td>[Der, Gesang, ist, anmutig, .]</td>\n",
       "      <td>1.789</td>\n",
       "      <td>2.232</td>\n",
       "      <td>2.867</td>\n",
       "      <td>9</td>\n",
       "    </tr>\n",
       "    <tr>\n",
       "      <th>61</th>\n",
       "      <td>Die Orchidee ist makellos.</td>\n",
       "      <td>Orchidee</td>\n",
       "      <td>positiv</td>\n",
       "      <td>makellos</td>\n",
       "      <td>positiv</td>\n",
       "      <td>5</td>\n",
       "      <td>[Die, Orchidee, ist, makellos, .]</td>\n",
       "      <td>1.611</td>\n",
       "      <td>2.355</td>\n",
       "      <td>2.212</td>\n",
       "      <td>9</td>\n",
       "    </tr>\n",
       "    <tr>\n",
       "      <th>63</th>\n",
       "      <td>Der Geburtstag ist wunderschön.</td>\n",
       "      <td>Geburtstag</td>\n",
       "      <td>positiv</td>\n",
       "      <td>wunderschön</td>\n",
       "      <td>positiv</td>\n",
       "      <td>7</td>\n",
       "      <td>[Der, Geburtstag, ist, wunderschön, .]</td>\n",
       "      <td>1.488</td>\n",
       "      <td>0.942</td>\n",
       "      <td>3.256</td>\n",
       "      <td>9</td>\n",
       "    </tr>\n",
       "  </tbody>\n",
       "</table>\n",
       "</div>"
      ],
      "text/plain": [
       "                               Satz        noun polarity_noun    adjective  \\\n",
       "28          Der Gesang ist anmutig.      Gesang       positiv      anmutig   \n",
       "61       Die Orchidee ist makellos.    Orchidee       positiv     makellos   \n",
       "63  Der Geburtstag ist wunderschön.  Geburtstag       positiv  wunderschön   \n",
       "\n",
       "   polarity_adj  valence_rating_sent                         tokenized_sents  \\\n",
       "28      positiv                    8          [Der, Gesang, ist, anmutig, .]   \n",
       "61      positiv                    5       [Die, Orchidee, ist, makellos, .]   \n",
       "63      positiv                    7  [Der, Geburtstag, ist, wunderschön, .]   \n",
       "\n",
       "    senti_sent  senti_noun  senti_adj score  \n",
       "28       1.789       2.232      2.867     9  \n",
       "61       1.611       2.355      2.212     9  \n",
       "63       1.488       0.942      3.256     9  "
      ]
     },
     "execution_count": 47,
     "metadata": {},
     "output_type": "execute_result"
    }
   ],
   "source": [
    "df[df[\"score\"]==9]"
   ]
  },
  {
   "cell_type": "code",
   "execution_count": 48,
   "metadata": {},
   "outputs": [
    {
     "data": {
      "text/html": [
       "<div>\n",
       "<style scoped>\n",
       "    .dataframe tbody tr th:only-of-type {\n",
       "        vertical-align: middle;\n",
       "    }\n",
       "\n",
       "    .dataframe tbody tr th {\n",
       "        vertical-align: top;\n",
       "    }\n",
       "\n",
       "    .dataframe thead th {\n",
       "        text-align: right;\n",
       "    }\n",
       "</style>\n",
       "<table border=\"1\" class=\"dataframe\">\n",
       "  <thead>\n",
       "    <tr style=\"text-align: right;\">\n",
       "      <th></th>\n",
       "      <th>Satz</th>\n",
       "      <th>noun</th>\n",
       "      <th>polarity_noun</th>\n",
       "      <th>adjective</th>\n",
       "      <th>polarity_adj</th>\n",
       "      <th>valence_rating_sent</th>\n",
       "      <th>tokenized_sents</th>\n",
       "      <th>senti_sent</th>\n",
       "      <th>senti_noun</th>\n",
       "      <th>senti_adj</th>\n",
       "      <th>score</th>\n",
       "    </tr>\n",
       "  </thead>\n",
       "  <tbody>\n",
       "    <tr>\n",
       "      <th>41</th>\n",
       "      <td>Die Kellnerin ist dankbar.</td>\n",
       "      <td>Kellnerin</td>\n",
       "      <td>positiv</td>\n",
       "      <td>dankbar</td>\n",
       "      <td>positiv</td>\n",
       "      <td>9</td>\n",
       "      <td>[Die, Kellnerin, ist, dankbar, .]</td>\n",
       "      <td>0.546</td>\n",
       "      <td>0.226</td>\n",
       "      <td>1.147</td>\n",
       "      <td>6</td>\n",
       "    </tr>\n",
       "  </tbody>\n",
       "</table>\n",
       "</div>"
      ],
      "text/plain": [
       "                          Satz       noun polarity_noun adjective  \\\n",
       "41  Die Kellnerin ist dankbar.  Kellnerin       positiv   dankbar   \n",
       "\n",
       "   polarity_adj  valence_rating_sent                    tokenized_sents  \\\n",
       "41      positiv                    9  [Die, Kellnerin, ist, dankbar, .]   \n",
       "\n",
       "    senti_sent  senti_noun  senti_adj score  \n",
       "41       0.546       0.226      1.147     6  "
      ]
     },
     "execution_count": 48,
     "metadata": {},
     "output_type": "execute_result"
    }
   ],
   "source": [
    "df[df[\"valence_rating_sent\"]==9]"
   ]
  },
  {
   "cell_type": "code",
   "execution_count": 49,
   "metadata": {},
   "outputs": [],
   "source": [
    "import sklearn.metrics as metrics\n",
    "from sklearn.metrics import accuracy_score,f1_score\n",
    "\n"
   ]
  },
  {
   "cell_type": "code",
   "execution_count": 50,
   "metadata": {},
   "outputs": [
    {
     "name": "stdout",
     "output_type": "stream",
     "text": [
      "f1_macro of valence rating vs AAPz: 0.158\n",
      "accuracy of valence rating vs AAPz is: 19.223 %\n"
     ]
    }
   ],
   "source": [
    "f1_macro = f1_score(df[\"valence_rating_sent\"], df[\"score\"], average='macro')\n",
    "acc = accuracy_score(df[\"valence_rating_sent\"], df[\"score\"])*100\n",
    "print(\"f1_macro of valence rating vs AAPz:\", round(f1_macro, 3))\n",
    "print(\"accuracy of valence rating vs AAPz is:\", round(acc,3), \"%\")"
   ]
  },
  {
   "cell_type": "code",
   "execution_count": 51,
   "metadata": {},
   "outputs": [
    {
     "data": {
      "image/png": "[encoded data removed]",
      "text/plain": [
       "<Figure size 432x432 with 2 Axes>"
      ]
     },
     "metadata": {
      "needs_background": "light"
     },
     "output_type": "display_data"
    }
   ],
   "source": [
    "confusion_matrix = metrics.confusion_matrix(df[\"valence_rating_sent\"], df[\"score\"])\n",
    "f,ax = plt.subplots(figsize=(6,6))\n",
    "sns.heatmap(confusion_matrix,annot=True, linewidths=5, fmt='d', ax=ax, cmap= 'coolwarm')\n",
    "plt.title(\"valence rating vs AAPz\")\n",
    "plt.xlabel(\"true label\");\n",
    "plt.ylabel(\"predictions\");"
   ]
  },
  {
   "cell_type": "code",
   "execution_count": 52,
   "metadata": {},
   "outputs": [],
   "source": [
    "df['senti_noun'] =  np.where((df['senti_noun'] <= -0.05), \"negativ\",  np.where((df['senti_noun'] >= 0.05), \"positiv\", \"neutral\"))"
   ]
  },
  {
   "cell_type": "code",
   "execution_count": 53,
   "metadata": {},
   "outputs": [],
   "source": [
    "\n",
    "df['senti_adj'] =  np.where((df['senti_adj'] <= -0.05), \"negativ\",  np.where((df['senti_adj'] >= 0.05), \"positiv\", \"neutral\"))\n"
   ]
  },
  {
   "cell_type": "code",
   "execution_count": 54,
   "metadata": {},
   "outputs": [],
   "source": [
    "\n",
    "df['senti_sent_2'] =  np.where((df['senti_sent'] <= -0.05), -1,  np.where((df['senti_sent'] >= 0.05), 1, 0))"
   ]
  },
  {
   "cell_type": "code",
   "execution_count": 55,
   "metadata": {},
   "outputs": [
    {
     "data": {
      "text/plain": [
       "senti_sent_2  senti_noun  senti_adj\n",
       "-1            negativ     negativ      122\n",
       "                          neutral        2\n",
       "                          positiv       54\n",
       "              neutral     negativ        5\n",
       "              positiv     negativ       51\n",
       " 0            negativ     negativ        1\n",
       "                          positiv       17\n",
       "              positiv     negativ       15\n",
       " 1            negativ     positiv       66\n",
       "              neutral     positiv       10\n",
       "              positiv     negativ       45\n",
       "                          neutral        4\n",
       "                          positiv      123\n",
       "Name: senti_sent_2, dtype: int64"
      ]
     },
     "execution_count": 55,
     "metadata": {},
     "output_type": "execute_result"
    }
   ],
   "source": [
    "df.groupby([\"senti_sent_2\",\"senti_noun\",\"senti_adj\"])[\"senti_sent_2\"].count()"
   ]
  },
  {
   "cell_type": "code",
   "execution_count": 56,
   "metadata": {},
   "outputs": [
    {
     "data": {
      "text/html": [
       "<div>\n",
       "<style scoped>\n",
       "    .dataframe tbody tr th:only-of-type {\n",
       "        vertical-align: middle;\n",
       "    }\n",
       "\n",
       "    .dataframe tbody tr th {\n",
       "        vertical-align: top;\n",
       "    }\n",
       "\n",
       "    .dataframe thead th {\n",
       "        text-align: right;\n",
       "    }\n",
       "</style>\n",
       "<table border=\"1\" class=\"dataframe\">\n",
       "  <thead>\n",
       "    <tr style=\"text-align: right;\">\n",
       "      <th></th>\n",
       "      <th>Satz</th>\n",
       "      <th>noun</th>\n",
       "      <th>polarity_noun</th>\n",
       "      <th>adjective</th>\n",
       "      <th>polarity_adj</th>\n",
       "      <th>valence_rating_sent</th>\n",
       "      <th>tokenized_sents</th>\n",
       "      <th>senti_sent</th>\n",
       "      <th>senti_noun</th>\n",
       "      <th>senti_adj</th>\n",
       "      <th>score</th>\n",
       "      <th>senti_sent_2</th>\n",
       "    </tr>\n",
       "  </thead>\n",
       "  <tbody>\n",
       "    <tr>\n",
       "      <th>0</th>\n",
       "      <td>Die Biene ist aktiv.</td>\n",
       "      <td>Biene</td>\n",
       "      <td>positiv</td>\n",
       "      <td>aktiv</td>\n",
       "      <td>positiv</td>\n",
       "      <td>4</td>\n",
       "      <td>[Die, Biene, ist, aktiv, .]</td>\n",
       "      <td>0.806</td>\n",
       "      <td>positiv</td>\n",
       "      <td>positiv</td>\n",
       "      <td>7</td>\n",
       "      <td>1</td>\n",
       "    </tr>\n",
       "    <tr>\n",
       "      <th>1</th>\n",
       "      <td>Die Brautjungfer ist amüsant.</td>\n",
       "      <td>Brautjungfer</td>\n",
       "      <td>positiv</td>\n",
       "      <td>amüsant</td>\n",
       "      <td>positiv</td>\n",
       "      <td>7</td>\n",
       "      <td>[Die, Brautjungfer, ist, amüsant, .]</td>\n",
       "      <td>0.628</td>\n",
       "      <td>positiv</td>\n",
       "      <td>positiv</td>\n",
       "      <td>6</td>\n",
       "      <td>1</td>\n",
       "    </tr>\n",
       "    <tr>\n",
       "      <th>2</th>\n",
       "      <td>Der Garten ist berühmt.</td>\n",
       "      <td>Garten</td>\n",
       "      <td>positiv</td>\n",
       "      <td>berühmt</td>\n",
       "      <td>positiv</td>\n",
       "      <td>6</td>\n",
       "      <td>[Der, Garten, ist, berühmt, .]</td>\n",
       "      <td>1.277</td>\n",
       "      <td>positiv</td>\n",
       "      <td>positiv</td>\n",
       "      <td>8</td>\n",
       "      <td>1</td>\n",
       "    </tr>\n",
       "    <tr>\n",
       "      <th>3</th>\n",
       "      <td>Der Gewinn ist süß.</td>\n",
       "      <td>Gewinn</td>\n",
       "      <td>positiv</td>\n",
       "      <td>süß</td>\n",
       "      <td>positiv</td>\n",
       "      <td>7</td>\n",
       "      <td>[Der, Gewinn, ist, süß, .]</td>\n",
       "      <td>0.431</td>\n",
       "      <td>positiv</td>\n",
       "      <td>positiv</td>\n",
       "      <td>6</td>\n",
       "      <td>1</td>\n",
       "    </tr>\n",
       "    <tr>\n",
       "      <th>4</th>\n",
       "      <td>Der Künstler ist gutmütig.</td>\n",
       "      <td>Künstler</td>\n",
       "      <td>positiv</td>\n",
       "      <td>gutmütig</td>\n",
       "      <td>positiv</td>\n",
       "      <td>6</td>\n",
       "      <td>[Der, Künstler, ist, gutmütig, .]</td>\n",
       "      <td>0.744</td>\n",
       "      <td>positiv</td>\n",
       "      <td>positiv</td>\n",
       "      <td>7</td>\n",
       "      <td>1</td>\n",
       "    </tr>\n",
       "  </tbody>\n",
       "</table>\n",
       "</div>"
      ],
      "text/plain": [
       "                            Satz          noun polarity_noun adjective  \\\n",
       "0           Die Biene ist aktiv.         Biene       positiv     aktiv   \n",
       "1  Die Brautjungfer ist amüsant.  Brautjungfer       positiv   amüsant   \n",
       "2        Der Garten ist berühmt.        Garten       positiv   berühmt   \n",
       "3            Der Gewinn ist süß.        Gewinn       positiv       süß   \n",
       "4     Der Künstler ist gutmütig.      Künstler       positiv  gutmütig   \n",
       "\n",
       "  polarity_adj  valence_rating_sent                       tokenized_sents  \\\n",
       "0      positiv                    4           [Die, Biene, ist, aktiv, .]   \n",
       "1      positiv                    7  [Die, Brautjungfer, ist, amüsant, .]   \n",
       "2      positiv                    6        [Der, Garten, ist, berühmt, .]   \n",
       "3      positiv                    7            [Der, Gewinn, ist, süß, .]   \n",
       "4      positiv                    6     [Der, Künstler, ist, gutmütig, .]   \n",
       "\n",
       "   senti_sent senti_noun senti_adj score  senti_sent_2  \n",
       "0       0.806    positiv   positiv     7             1  \n",
       "1       0.628    positiv   positiv     6             1  \n",
       "2       1.277    positiv   positiv     8             1  \n",
       "3       0.431    positiv   positiv     6             1  \n",
       "4       0.744    positiv   positiv     7             1  "
      ]
     },
     "execution_count": 56,
     "metadata": {},
     "output_type": "execute_result"
    }
   ],
   "source": [
    "df.head()"
   ]
  },
  {
   "cell_type": "code",
   "execution_count": 57,
   "metadata": {},
   "outputs": [
    {
     "data": {
      "text/html": [
       "<div>\n",
       "<style scoped>\n",
       "    .dataframe tbody tr th:only-of-type {\n",
       "        vertical-align: middle;\n",
       "    }\n",
       "\n",
       "    .dataframe tbody tr th {\n",
       "        vertical-align: top;\n",
       "    }\n",
       "\n",
       "    .dataframe thead th {\n",
       "        text-align: right;\n",
       "    }\n",
       "</style>\n",
       "<table border=\"1\" class=\"dataframe\">\n",
       "  <thead>\n",
       "    <tr style=\"text-align: right;\">\n",
       "      <th></th>\n",
       "      <th>Satz</th>\n",
       "      <th>noun</th>\n",
       "      <th>polarity_noun</th>\n",
       "      <th>adjective</th>\n",
       "      <th>polarity_adj</th>\n",
       "      <th>valence_rating_sent</th>\n",
       "      <th>tokenized_sents</th>\n",
       "      <th>senti_sent</th>\n",
       "      <th>senti_noun</th>\n",
       "      <th>senti_adj</th>\n",
       "      <th>score</th>\n",
       "      <th>senti_sent_2</th>\n",
       "    </tr>\n",
       "  </thead>\n",
       "  <tbody>\n",
       "  </tbody>\n",
       "</table>\n",
       "</div>"
      ],
      "text/plain": [
       "Empty DataFrame\n",
       "Columns: [Satz, noun, polarity_noun, adjective, polarity_adj, valence_rating_sent, tokenized_sents, senti_sent, senti_noun, senti_adj, score, senti_sent_2]\n",
       "Index: []"
      ]
     },
     "execution_count": 57,
     "metadata": {},
     "output_type": "execute_result"
    }
   ],
   "source": [
    "df[df[\"senti_noun\"]==0]"
   ]
  },
  {
   "cell_type": "code",
   "execution_count": 58,
   "metadata": {},
   "outputs": [
    {
     "data": {
      "image/png": "[encoded data removed]",
      "text/plain": [
       "<Figure size 432x288 with 1 Axes>"
      ]
     },
     "metadata": {
      "needs_background": "light"
     },
     "output_type": "display_data"
    }
   ],
   "source": [
    "plt.hist([df.polarity_noun, df.senti_noun], label = [\"True\", \"predicted\"])\n",
    "plt.legend(loc='upper right')\n",
    "plt.show()"
   ]
  },
  {
   "cell_type": "code",
   "execution_count": 59,
   "metadata": {},
   "outputs": [
    {
     "data": {
      "image/png": "[encoded data removed]",
      "text/plain": [
       "<Figure size 432x288 with 1 Axes>"
      ]
     },
     "metadata": {
      "needs_background": "light"
     },
     "output_type": "display_data"
    }
   ],
   "source": [
    "plt.hist([df.polarity_adj, df.senti_adj], label = [\"True\", \"predicted\"])\n",
    "plt.legend(loc='upper right')\n",
    "plt.show()"
   ]
  },
  {
   "cell_type": "code",
   "execution_count": 60,
   "metadata": {},
   "outputs": [
    {
     "name": "stdout",
     "output_type": "stream",
     "text": [
      "f1_macro of polarity noun vs senti noun: 0.617\n",
      "accuracy of polarity noun vs senti noun: 91.262 %\n"
     ]
    }
   ],
   "source": [
    "f1_macro = f1_score(df[\"polarity_noun\"], df[\"senti_noun\"], average='macro')\n",
    "acc = accuracy_score(df[\"polarity_noun\"], df[\"senti_noun\"])*100\n",
    "print(\"f1_macro of polarity noun vs senti noun:\", round(f1_macro, 3))\n",
    "print(\"accuracy of polarity noun vs senti noun:\", round(acc,3), \"%\")"
   ]
  },
  {
   "cell_type": "code",
   "execution_count": 61,
   "metadata": {},
   "outputs": [
    {
     "data": {
      "image/png": "[encoded data removed]",
      "text/plain": [
       "<Figure size 432x432 with 2 Axes>"
      ]
     },
     "metadata": {
      "needs_background": "light"
     },
     "output_type": "display_data"
    }
   ],
   "source": [
    "confusion_matrix = metrics.confusion_matrix(df[\"polarity_noun\"], df[\"senti_noun\"])\n",
    "f,ax = plt.subplots(figsize=(6,6))\n",
    "sns.heatmap(confusion_matrix,annot=True, linewidths=5, fmt='d', ax=ax, cmap= 'coolwarm')\n",
    "plt.title(\"polarity noun vs senti noun\")\n",
    "plt.xlabel(\"true label\");\n",
    "plt.ylabel(\"predictions\");"
   ]
  },
  {
   "cell_type": "code",
   "execution_count": 62,
   "metadata": {},
   "outputs": [
    {
     "name": "stdout",
     "output_type": "stream",
     "text": [
      "f1_macro of polarity adj vs senti adj: 0.513\n",
      "accuracy of polarity adj vs senti adj: 63.107 %\n"
     ]
    }
   ],
   "source": [
    "f1_macro = f1_score(df[\"polarity_adj\"], df[\"senti_adj\"], average='macro')\n",
    "acc = accuracy_score(df[\"polarity_adj\"], df[\"senti_adj\"])*100\n",
    "print(\"f1_macro of polarity adj vs senti adj:\", round(f1_macro, 3))\n",
    "print(\"accuracy of polarity adj vs senti adj:\", round(acc,3), \"%\")"
   ]
  },
  {
   "cell_type": "code",
   "execution_count": 63,
   "metadata": {},
   "outputs": [
    {
     "data": {
      "image/png": "[encoded data removed]",
      "text/plain": [
       "<Figure size 432x432 with 2 Axes>"
      ]
     },
     "metadata": {
      "needs_background": "light"
     },
     "output_type": "display_data"
    }
   ],
   "source": [
    "confusion_matrix = metrics.confusion_matrix(df[\"polarity_adj\"], df[\"senti_adj\"])\n",
    "f,ax = plt.subplots(figsize=(6,6))\n",
    "sns.heatmap(confusion_matrix,annot=True, linewidths=5, fmt='d', ax=ax, cmap= 'coolwarm')\n",
    "plt.title(\"polarity noun vs senti noun\")\n",
    "plt.xlabel(\"true label\");\n",
    "plt.ylabel(\"predictions\");"
   ]
  },
  {
   "cell_type": "code",
   "execution_count": 64,
   "metadata": {},
   "outputs": [],
   "source": [
    "word_list = []\n",
    "for t in df.tokenized_sents:\n",
    "    for word in t:\n",
    "        word_list.append(word)"
   ]
  },
  {
   "cell_type": "code",
   "execution_count": 65,
   "metadata": {},
   "outputs": [
    {
     "name": "stdout",
     "output_type": "stream",
     "text": [
      "2572\n",
      "455\n"
     ]
    }
   ],
   "source": [
    "print(len(word_list))\n",
    "print(len(set(word_list)))"
   ]
  },
  {
   "cell_type": "code",
   "execution_count": 66,
   "metadata": {},
   "outputs": [
    {
     "name": "stdout",
     "output_type": "stream",
     "text": [
      "116313\n"
     ]
    }
   ],
   "source": [
    "st_words = []\n",
    "for word in sa.word:\n",
    "    st_words.append(word)\n",
    "print(len(st_words))"
   ]
  },
  {
   "cell_type": "code",
   "execution_count": 67,
   "metadata": {},
   "outputs": [],
   "source": [
    "match = []\n",
    "for word in word_list:\n",
    "    if word in st_words:\n",
    "        match.append(word)"
   ]
  },
  {
   "cell_type": "code",
   "execution_count": 68,
   "metadata": {},
   "outputs": [
    {
     "name": "stdout",
     "output_type": "stream",
     "text": [
      "451\n"
     ]
    }
   ],
   "source": [
    "print(len(set(match)))"
   ]
  },
  {
   "cell_type": "code",
   "execution_count": 69,
   "metadata": {},
   "outputs": [
    {
     "data": {
      "text/plain": [
       "99.12087912087912"
      ]
     },
     "execution_count": 69,
     "metadata": {},
     "output_type": "execute_result"
    }
   ],
   "source": [
    "(len(set(match))/len(set(word_list)))*100"
   ]
  },
  {
   "cell_type": "code",
   "execution_count": 70,
   "metadata": {},
   "outputs": [],
   "source": [
    "df[\"score\"] = pd.cut(df[\"senti_sent\"],\n",
    "                            bins=9,\n",
    "                            labels=[1, 2, 3, 4, 5, 6, 7, 8, 9])"
   ]
  },
  {
   "cell_type": "code",
   "execution_count": 71,
   "metadata": {},
   "outputs": [
    {
     "data": {
      "text/plain": [
       "Text(0, 0.5, 'Label')"
      ]
     },
     "execution_count": 71,
     "metadata": {},
     "output_type": "execute_result"
    },
    {
     "data": {
      "image/png": "[encoded data removed]",
      "text/plain": [
       "<Figure size 432x288 with 1 Axes>"
      ]
     },
     "metadata": {
      "needs_background": "light"
     },
     "output_type": "display_data"
    }
   ],
   "source": [
    "ax = df[\"score\"].value_counts(sort=False).plot(kind='barh')\n",
    "ax.set_xlabel(\"Number of Samples in training Set\")\n",
    "ax.set_ylabel(\"Label\")"
   ]
  },
  {
   "cell_type": "code",
   "execution_count": 72,
   "metadata": {},
   "outputs": [
    {
     "data": {
      "text/plain": [
       "5    114\n",
       "4    109\n",
       "6     98\n",
       "3     70\n",
       "7     52\n",
       "2     37\n",
       "8     22\n",
       "1     10\n",
       "9      3\n",
       "Name: score, dtype: int64"
      ]
     },
     "execution_count": 72,
     "metadata": {},
     "output_type": "execute_result"
    }
   ],
   "source": [
    "df[\"score\"].value_counts()"
   ]
  },
  {
   "cell_type": "code",
   "execution_count": 73,
   "metadata": {},
   "outputs": [
    {
     "data": {
      "text/html": [
       "<div>\n",
       "<style scoped>\n",
       "    .dataframe tbody tr th:only-of-type {\n",
       "        vertical-align: middle;\n",
       "    }\n",
       "\n",
       "    .dataframe tbody tr th {\n",
       "        vertical-align: top;\n",
       "    }\n",
       "\n",
       "    .dataframe thead th {\n",
       "        text-align: right;\n",
       "    }\n",
       "</style>\n",
       "<table border=\"1\" class=\"dataframe\">\n",
       "  <thead>\n",
       "    <tr style=\"text-align: right;\">\n",
       "      <th></th>\n",
       "      <th>English (en)</th>\n",
       "      <th>Afrikaans (af)</th>\n",
       "      <th>Albanian (sq)</th>\n",
       "      <th>Amharic (am)</th>\n",
       "      <th>Arabic (ar)</th>\n",
       "      <th>Armenian (hy)</th>\n",
       "      <th>Azeerbaijani (az)</th>\n",
       "      <th>Basque (eu)</th>\n",
       "      <th>Belarusian (be)</th>\n",
       "      <th>Bengali (bn)</th>\n",
       "      <th>...</th>\n",
       "      <th>Positive</th>\n",
       "      <th>Negative</th>\n",
       "      <th>Anger</th>\n",
       "      <th>Anticipation</th>\n",
       "      <th>Disgust</th>\n",
       "      <th>Fear</th>\n",
       "      <th>Joy</th>\n",
       "      <th>Sadness</th>\n",
       "      <th>Surprise</th>\n",
       "      <th>Trust</th>\n",
       "    </tr>\n",
       "  </thead>\n",
       "  <tbody>\n",
       "    <tr>\n",
       "      <th>0</th>\n",
       "      <td>aback</td>\n",
       "      <td>uit die veld geslaan</td>\n",
       "      <td>prapa</td>\n",
       "      <td>ተጭኗል</td>\n",
       "      <td>الى الوراء</td>\n",
       "      <td>շեղում</td>\n",
       "      <td>sanki</td>\n",
       "      <td>aback</td>\n",
       "      <td>ззаду</td>\n",
       "      <td>পশ্চাতে</td>\n",
       "      <td>...</td>\n",
       "      <td>0</td>\n",
       "      <td>0</td>\n",
       "      <td>0</td>\n",
       "      <td>0</td>\n",
       "      <td>0</td>\n",
       "      <td>0</td>\n",
       "      <td>0</td>\n",
       "      <td>0</td>\n",
       "      <td>0</td>\n",
       "      <td>0</td>\n",
       "    </tr>\n",
       "    <tr>\n",
       "      <th>1</th>\n",
       "      <td>abacus</td>\n",
       "      <td>abakus</td>\n",
       "      <td>numërator</td>\n",
       "      <td>abacus</td>\n",
       "      <td>طبلية تاج</td>\n",
       "      <td>անբավարարություն</td>\n",
       "      <td>abacus</td>\n",
       "      <td>abako</td>\n",
       "      <td>абака</td>\n",
       "      <td>গণনা-যন্ত্রবিশেষ</td>\n",
       "      <td>...</td>\n",
       "      <td>0</td>\n",
       "      <td>0</td>\n",
       "      <td>0</td>\n",
       "      <td>0</td>\n",
       "      <td>0</td>\n",
       "      <td>0</td>\n",
       "      <td>0</td>\n",
       "      <td>0</td>\n",
       "      <td>0</td>\n",
       "      <td>1</td>\n",
       "    </tr>\n",
       "    <tr>\n",
       "      <th>2</th>\n",
       "      <td>abandon</td>\n",
       "      <td>verlaat</td>\n",
       "      <td>braktis</td>\n",
       "      <td>ውጣ</td>\n",
       "      <td>تخلى</td>\n",
       "      <td>լքել</td>\n",
       "      <td>tərk et</td>\n",
       "      <td>bertan behera</td>\n",
       "      <td>адмовіцца ад</td>\n",
       "      <td>বর্জিত করা</td>\n",
       "      <td>...</td>\n",
       "      <td>0</td>\n",
       "      <td>1</td>\n",
       "      <td>0</td>\n",
       "      <td>0</td>\n",
       "      <td>0</td>\n",
       "      <td>1</td>\n",
       "      <td>0</td>\n",
       "      <td>1</td>\n",
       "      <td>0</td>\n",
       "      <td>0</td>\n",
       "    </tr>\n",
       "    <tr>\n",
       "      <th>3</th>\n",
       "      <td>abandoned</td>\n",
       "      <td>verlate</td>\n",
       "      <td>braktisur</td>\n",
       "      <td>ተትቷል</td>\n",
       "      <td>مهجور</td>\n",
       "      <td>լքված</td>\n",
       "      <td>tərk etdi</td>\n",
       "      <td>abandonatutako</td>\n",
       "      <td>закінуты</td>\n",
       "      <td>পরিত্যক্ত</td>\n",
       "      <td>...</td>\n",
       "      <td>0</td>\n",
       "      <td>1</td>\n",
       "      <td>1</td>\n",
       "      <td>0</td>\n",
       "      <td>0</td>\n",
       "      <td>1</td>\n",
       "      <td>0</td>\n",
       "      <td>1</td>\n",
       "      <td>0</td>\n",
       "      <td>0</td>\n",
       "    </tr>\n",
       "    <tr>\n",
       "      <th>4</th>\n",
       "      <td>abandonment</td>\n",
       "      <td>verlating</td>\n",
       "      <td>braktisje</td>\n",
       "      <td>ማቋረጥ</td>\n",
       "      <td>التخلي عن</td>\n",
       "      <td>հրաժարվելով</td>\n",
       "      <td>ləğv</td>\n",
       "      <td>abandono</td>\n",
       "      <td>пакіданне</td>\n",
       "      <td>বিসর্জন</td>\n",
       "      <td>...</td>\n",
       "      <td>0</td>\n",
       "      <td>1</td>\n",
       "      <td>1</td>\n",
       "      <td>0</td>\n",
       "      <td>0</td>\n",
       "      <td>1</td>\n",
       "      <td>0</td>\n",
       "      <td>1</td>\n",
       "      <td>1</td>\n",
       "      <td>0</td>\n",
       "    </tr>\n",
       "    <tr>\n",
       "      <th>5</th>\n",
       "      <td>abate</td>\n",
       "      <td>bedaar</td>\n",
       "      <td>i jap fund</td>\n",
       "      <td>አጥፋ</td>\n",
       "      <td>انحسر</td>\n",
       "      <td>քանդել</td>\n",
       "      <td>boşaltın</td>\n",
       "      <td>abate</td>\n",
       "      <td>сціхаць</td>\n",
       "      <td>ক্ষীণ করা</td>\n",
       "      <td>...</td>\n",
       "      <td>0</td>\n",
       "      <td>0</td>\n",
       "      <td>0</td>\n",
       "      <td>0</td>\n",
       "      <td>0</td>\n",
       "      <td>0</td>\n",
       "      <td>0</td>\n",
       "      <td>0</td>\n",
       "      <td>0</td>\n",
       "      <td>0</td>\n",
       "    </tr>\n",
       "    <tr>\n",
       "      <th>6</th>\n",
       "      <td>abatement</td>\n",
       "      <td>vermindering</td>\n",
       "      <td>pakësim</td>\n",
       "      <td>መበስበስ</td>\n",
       "      <td>انحسار</td>\n",
       "      <td>նվազեցում</td>\n",
       "      <td>azaldılması</td>\n",
       "      <td>murrizteko</td>\n",
       "      <td>зніжэнне</td>\n",
       "      <td>উপশম</td>\n",
       "      <td>...</td>\n",
       "      <td>0</td>\n",
       "      <td>0</td>\n",
       "      <td>0</td>\n",
       "      <td>0</td>\n",
       "      <td>0</td>\n",
       "      <td>0</td>\n",
       "      <td>0</td>\n",
       "      <td>0</td>\n",
       "      <td>0</td>\n",
       "      <td>0</td>\n",
       "    </tr>\n",
       "    <tr>\n",
       "      <th>7</th>\n",
       "      <td>abba</td>\n",
       "      <td>Abba</td>\n",
       "      <td>Abba</td>\n",
       "      <td>abba</td>\n",
       "      <td>أبا</td>\n",
       "      <td>abba</td>\n",
       "      <td>abba</td>\n",
       "      <td>abba</td>\n",
       "      <td>авва</td>\n",
       "      <td>Abba</td>\n",
       "      <td>...</td>\n",
       "      <td>1</td>\n",
       "      <td>0</td>\n",
       "      <td>0</td>\n",
       "      <td>0</td>\n",
       "      <td>0</td>\n",
       "      <td>0</td>\n",
       "      <td>0</td>\n",
       "      <td>0</td>\n",
       "      <td>0</td>\n",
       "      <td>0</td>\n",
       "    </tr>\n",
       "    <tr>\n",
       "      <th>8</th>\n",
       "      <td>abbot</td>\n",
       "      <td>abt</td>\n",
       "      <td>abat</td>\n",
       "      <td>አቡኝ</td>\n",
       "      <td>رئيس الدير</td>\n",
       "      <td>աբբոթ</td>\n",
       "      <td>abbot</td>\n",
       "      <td>abade</td>\n",
       "      <td>абат</td>\n",
       "      <td>মঠাধ্যক্ষ</td>\n",
       "      <td>...</td>\n",
       "      <td>0</td>\n",
       "      <td>0</td>\n",
       "      <td>0</td>\n",
       "      <td>0</td>\n",
       "      <td>0</td>\n",
       "      <td>0</td>\n",
       "      <td>0</td>\n",
       "      <td>0</td>\n",
       "      <td>0</td>\n",
       "      <td>1</td>\n",
       "    </tr>\n",
       "    <tr>\n",
       "      <th>9</th>\n",
       "      <td>abbreviate</td>\n",
       "      <td>afkort</td>\n",
       "      <td>shkurtoj</td>\n",
       "      <td>አህጽሮት</td>\n",
       "      <td>اختصر</td>\n",
       "      <td>կրճատել</td>\n",
       "      <td>qısaltmaq</td>\n",
       "      <td>laburtu</td>\n",
       "      <td>скарачаць</td>\n",
       "      <td>খাট করা</td>\n",
       "      <td>...</td>\n",
       "      <td>0</td>\n",
       "      <td>0</td>\n",
       "      <td>0</td>\n",
       "      <td>0</td>\n",
       "      <td>0</td>\n",
       "      <td>0</td>\n",
       "      <td>0</td>\n",
       "      <td>0</td>\n",
       "      <td>0</td>\n",
       "      <td>0</td>\n",
       "    </tr>\n",
       "  </tbody>\n",
       "</table>\n",
       "<p>10 rows × 115 columns</p>\n",
       "</div>"
      ],
      "text/plain": [
       "  English (en)        Afrikaans (af) Albanian (sq) Amharic (am) Arabic (ar)  \\\n",
       "0        aback  uit die veld geslaan         prapa         ተጭኗል  الى الوراء   \n",
       "1       abacus                abakus     numërator       abacus   طبلية تاج   \n",
       "2      abandon               verlaat       braktis           ውጣ        تخلى   \n",
       "3    abandoned               verlate     braktisur         ተትቷል       مهجور   \n",
       "4  abandonment             verlating     braktisje         ማቋረጥ   التخلي عن   \n",
       "5        abate                bedaar    i jap fund          አጥፋ       انحسر   \n",
       "6    abatement          vermindering       pakësim        መበስበስ      انحسار   \n",
       "7         abba                  Abba          Abba         abba         أبا   \n",
       "8        abbot                   abt          abat          አቡኝ  رئيس الدير   \n",
       "9   abbreviate                afkort      shkurtoj        አህጽሮት       اختصر   \n",
       "\n",
       "      Armenian (hy) Azeerbaijani (az)     Basque (eu) Belarusian (be)  \\\n",
       "0            շեղում             sanki           aback           ззаду   \n",
       "1  անբավարարություն            abacus           abako           абака   \n",
       "2              լքել           tərk et   bertan behera    адмовіцца ад   \n",
       "3             լքված         tərk etdi  abandonatutako        закінуты   \n",
       "4       հրաժարվելով              ləğv        abandono       пакіданне   \n",
       "5            քանդել          boşaltın           abate         сціхаць   \n",
       "6         նվազեցում       azaldılması      murrizteko        зніжэнне   \n",
       "7              abba              abba            abba            авва   \n",
       "8             աբբոթ             abbot           abade            абат   \n",
       "9           կրճատել         qısaltmaq         laburtu       скарачаць   \n",
       "\n",
       "       Bengali (bn)  ... Positive Negative Anger Anticipation Disgust Fear  \\\n",
       "0           পশ্চাতে  ...        0        0     0            0       0    0   \n",
       "1  গণনা-যন্ত্রবিশেষ  ...        0        0     0            0       0    0   \n",
       "2        বর্জিত করা  ...        0        1     0            0       0    1   \n",
       "3         পরিত্যক্ত  ...        0        1     1            0       0    1   \n",
       "4           বিসর্জন  ...        0        1     1            0       0    1   \n",
       "5         ক্ষীণ করা  ...        0        0     0            0       0    0   \n",
       "6              উপশম  ...        0        0     0            0       0    0   \n",
       "7              Abba  ...        1        0     0            0       0    0   \n",
       "8         মঠাধ্যক্ষ  ...        0        0     0            0       0    0   \n",
       "9           খাট করা  ...        0        0     0            0       0    0   \n",
       "\n",
       "  Joy Sadness Surprise Trust  \n",
       "0   0       0        0     0  \n",
       "1   0       0        0     1  \n",
       "2   0       1        0     0  \n",
       "3   0       1        0     0  \n",
       "4   0       1        1     0  \n",
       "5   0       0        0     0  \n",
       "6   0       0        0     0  \n",
       "7   0       0        0     0  \n",
       "8   0       0        0     1  \n",
       "9   0       0        0     0  \n",
       "\n",
       "[10 rows x 115 columns]"
      ]
     },
     "execution_count": 73,
     "metadata": {},
     "output_type": "execute_result"
    }
   ],
   "source": [
    "#file = \"NRC-Emotion-Lexicon-v0.92-In105Languages-Nov2017Translations.xlsx\"\n",
    "emolex_df = pd.read_excel(\"/Users/ganiyuopeyemi/desktop/NRC-Emotion-Lexicon-v0.92-In105Languages-Nov2017Translations.xlsx\"\n",
    "                        ,error_bad_lines=False,encoding= 'unicode_escape',)\n",
    "emolex_df.head(10)"
   ]
  },
  {
   "cell_type": "code",
   "execution_count": 74,
   "metadata": {},
   "outputs": [],
   "source": [
    "emolex_df = emolex_df[[\"German (de)\",\"Positive\",\"Negative\",\"Anger\",\"Anticipation\",\"Disgust\",\"Fear\",\"Joy\",\"Surprise\",\"Trust\"]]"
   ]
  },
  {
   "cell_type": "code",
   "execution_count": 75,
   "metadata": {},
   "outputs": [],
   "source": [
    "emolex_df = emolex_df.rename(columns = {'German (de)':'German'})"
   ]
  },
  {
   "cell_type": "code",
   "execution_count": 76,
   "metadata": {},
   "outputs": [
    {
     "data": {
      "text/html": [
       "<div>\n",
       "<style scoped>\n",
       "    .dataframe tbody tr th:only-of-type {\n",
       "        vertical-align: middle;\n",
       "    }\n",
       "\n",
       "    .dataframe tbody tr th {\n",
       "        vertical-align: top;\n",
       "    }\n",
       "\n",
       "    .dataframe thead th {\n",
       "        text-align: right;\n",
       "    }\n",
       "</style>\n",
       "<table border=\"1\" class=\"dataframe\">\n",
       "  <thead>\n",
       "    <tr style=\"text-align: right;\">\n",
       "      <th></th>\n",
       "      <th>German</th>\n",
       "      <th>Positive</th>\n",
       "      <th>Negative</th>\n",
       "      <th>Anger</th>\n",
       "      <th>Anticipation</th>\n",
       "      <th>Disgust</th>\n",
       "      <th>Fear</th>\n",
       "      <th>Joy</th>\n",
       "      <th>Surprise</th>\n",
       "      <th>Trust</th>\n",
       "    </tr>\n",
       "  </thead>\n",
       "  <tbody>\n",
       "    <tr>\n",
       "      <th>0</th>\n",
       "      <td>zurück</td>\n",
       "      <td>0</td>\n",
       "      <td>0</td>\n",
       "      <td>0</td>\n",
       "      <td>0</td>\n",
       "      <td>0</td>\n",
       "      <td>0</td>\n",
       "      <td>0</td>\n",
       "      <td>0</td>\n",
       "      <td>0</td>\n",
       "    </tr>\n",
       "    <tr>\n",
       "      <th>1</th>\n",
       "      <td>Abakus</td>\n",
       "      <td>0</td>\n",
       "      <td>0</td>\n",
       "      <td>0</td>\n",
       "      <td>0</td>\n",
       "      <td>0</td>\n",
       "      <td>0</td>\n",
       "      <td>0</td>\n",
       "      <td>0</td>\n",
       "      <td>1</td>\n",
       "    </tr>\n",
       "    <tr>\n",
       "      <th>2</th>\n",
       "      <td>verlassen</td>\n",
       "      <td>0</td>\n",
       "      <td>1</td>\n",
       "      <td>0</td>\n",
       "      <td>0</td>\n",
       "      <td>0</td>\n",
       "      <td>1</td>\n",
       "      <td>0</td>\n",
       "      <td>0</td>\n",
       "      <td>0</td>\n",
       "    </tr>\n",
       "    <tr>\n",
       "      <th>3</th>\n",
       "      <td>verlassen</td>\n",
       "      <td>0</td>\n",
       "      <td>1</td>\n",
       "      <td>1</td>\n",
       "      <td>0</td>\n",
       "      <td>0</td>\n",
       "      <td>1</td>\n",
       "      <td>0</td>\n",
       "      <td>0</td>\n",
       "      <td>0</td>\n",
       "    </tr>\n",
       "    <tr>\n",
       "      <th>4</th>\n",
       "      <td>Aufgabe</td>\n",
       "      <td>0</td>\n",
       "      <td>1</td>\n",
       "      <td>1</td>\n",
       "      <td>0</td>\n",
       "      <td>0</td>\n",
       "      <td>1</td>\n",
       "      <td>0</td>\n",
       "      <td>1</td>\n",
       "      <td>0</td>\n",
       "    </tr>\n",
       "  </tbody>\n",
       "</table>\n",
       "</div>"
      ],
      "text/plain": [
       "      German  Positive  Negative  Anger  Anticipation  Disgust  Fear  Joy  \\\n",
       "0     zurück         0         0      0             0        0     0    0   \n",
       "1     Abakus         0         0      0             0        0     0    0   \n",
       "2  verlassen         0         1      0             0        0     1    0   \n",
       "3  verlassen         0         1      1             0        0     1    0   \n",
       "4    Aufgabe         0         1      1             0        0     1    0   \n",
       "\n",
       "   Surprise  Trust  \n",
       "0         0      0  \n",
       "1         0      1  \n",
       "2         0      0  \n",
       "3         0      0  \n",
       "4         1      0  "
      ]
     },
     "execution_count": 76,
     "metadata": {},
     "output_type": "execute_result"
    }
   ],
   "source": [
    "emolex_df.head()"
   ]
  },
  {
   "cell_type": "code",
   "execution_count": 77,
   "metadata": {},
   "outputs": [
    {
     "data": {
      "text/plain": [
       "(14182, 10)"
      ]
     },
     "execution_count": 77,
     "metadata": {},
     "output_type": "execute_result"
    }
   ],
   "source": [
    "emolex_df.shape"
   ]
  },
  {
   "cell_type": "code",
   "execution_count": 78,
   "metadata": {},
   "outputs": [],
   "source": [
    "word_list_1 = []\n",
    "for t in df.tokenized_sents:\n",
    "    for word in t:\n",
    "        word_list_1.append(word)"
   ]
  },
  {
   "cell_type": "code",
   "execution_count": 79,
   "metadata": {},
   "outputs": [
    {
     "name": "stdout",
     "output_type": "stream",
     "text": [
      "2572\n",
      "455\n"
     ]
    }
   ],
   "source": [
    "print(len(word_list))\n",
    "print(len(set(word_list)))"
   ]
  },
  {
   "cell_type": "code",
   "execution_count": 80,
   "metadata": {},
   "outputs": [],
   "source": [
    "word_emo = []\n",
    "for word in emolex_df.German:\n",
    "    word_emo.append(word)"
   ]
  },
  {
   "cell_type": "code",
   "execution_count": 81,
   "metadata": {},
   "outputs": [
    {
     "name": "stdout",
     "output_type": "stream",
     "text": [
      "14182\n",
      "11340\n"
     ]
    }
   ],
   "source": [
    "print(len(word_emo))\n",
    "print(len(set(word_emo)))"
   ]
  },
  {
   "cell_type": "code",
   "execution_count": 82,
   "metadata": {},
   "outputs": [],
   "source": [
    "match_emo = []\n",
    "for word in word_list_1:\n",
    "    if word in word_emo:\n",
    "        match_emo.append(word)"
   ]
  },
  {
   "cell_type": "code",
   "execution_count": 83,
   "metadata": {},
   "outputs": [
    {
     "name": "stdout",
     "output_type": "stream",
     "text": [
      "611\n",
      "265\n"
     ]
    }
   ],
   "source": [
    "print(len(match_emo))\n",
    "print(len(set(match_emo)))"
   ]
  },
  {
   "cell_type": "code",
   "execution_count": 84,
   "metadata": {},
   "outputs": [
    {
     "data": {
      "text/plain": [
       "58.24175824175825"
      ]
     },
     "execution_count": 84,
     "metadata": {},
     "output_type": "execute_result"
    }
   ],
   "source": [
    "(len(set(match_emo))/len(set(word_list_1)))*100"
   ]
  },
  {
   "cell_type": "code",
   "execution_count": 85,
   "metadata": {},
   "outputs": [
    {
     "name": "stdout",
     "output_type": "stream",
     "text": [
      "len(noun_t)= 515\n",
      "Counter({'NaN': 239, 'negative': 102, 'neutral': 90, 'positive': 84})\n"
     ]
    }
   ],
   "source": [
    "noun_t=[]\n",
    "for t in df.noun:\n",
    "    dt = emolex_df.query(\"German in @t\")\n",
    "    if dt.Positive.mean()==1:\n",
    "        noun_t.append(\"positive\")\n",
    "    elif dt.Negative.mean()==1:\n",
    "        noun_t.append(\"negative\")\n",
    "    elif dt.Negative.mean()==0 and dt.Positive.mean()==0:\n",
    "        noun_t.append(\"neutral\")\n",
    "    else:\n",
    "        noun_t.append(\"NaN\")\n",
    "print(\"len(noun_t)=\", len(noun_t))        \n",
    "print(Counter(noun_t)) "
   ]
  },
  {
   "cell_type": "code",
   "execution_count": 86,
   "metadata": {},
   "outputs": [
    {
     "name": "stdout",
     "output_type": "stream",
     "text": [
      "len(adj_t)= 515\n",
      "Counter({'NaN': 248, 'negative': 128, 'positive': 91, 'neutral': 48})\n"
     ]
    }
   ],
   "source": [
    "adj_t=[]\n",
    "for t in df.adjective:\n",
    "    dt = emolex_df.query(\"German in @t\")\n",
    "    if dt.Positive.mean()==1:\n",
    "        adj_t.append(\"positive\")\n",
    "    elif dt.Negative.mean()==1:\n",
    "        adj_t.append(\"negative\")\n",
    "    elif dt.Negative.mean()==0 and dt.Positive.mean()==0:\n",
    "        adj_t.append(\"neutral\")\n",
    "    else:\n",
    "        adj_t.append(\"NaN\")\n",
    "print(\"len(adj_t)=\", len(adj_t))        \n",
    "print(Counter(adj_t))"
   ]
  },
  {
   "cell_type": "code",
   "execution_count": 87,
   "metadata": {},
   "outputs": [],
   "source": [
    "df[\"noun_emo\"]= noun_t\n",
    "df[\"adj_emo\"]=adj_t"
   ]
  },
  {
   "cell_type": "code",
   "execution_count": 88,
   "metadata": {},
   "outputs": [
    {
     "data": {
      "text/html": [
       "<div>\n",
       "<style scoped>\n",
       "    .dataframe tbody tr th:only-of-type {\n",
       "        vertical-align: middle;\n",
       "    }\n",
       "\n",
       "    .dataframe tbody tr th {\n",
       "        vertical-align: top;\n",
       "    }\n",
       "\n",
       "    .dataframe thead th {\n",
       "        text-align: right;\n",
       "    }\n",
       "</style>\n",
       "<table border=\"1\" class=\"dataframe\">\n",
       "  <thead>\n",
       "    <tr style=\"text-align: right;\">\n",
       "      <th></th>\n",
       "      <th>Satz</th>\n",
       "      <th>noun</th>\n",
       "      <th>polarity_noun</th>\n",
       "      <th>adjective</th>\n",
       "      <th>polarity_adj</th>\n",
       "      <th>valence_rating_sent</th>\n",
       "      <th>tokenized_sents</th>\n",
       "      <th>senti_sent</th>\n",
       "      <th>senti_noun</th>\n",
       "      <th>senti_adj</th>\n",
       "      <th>score</th>\n",
       "      <th>senti_sent_2</th>\n",
       "      <th>noun_emo</th>\n",
       "      <th>adj_emo</th>\n",
       "    </tr>\n",
       "  </thead>\n",
       "  <tbody>\n",
       "    <tr>\n",
       "      <th>0</th>\n",
       "      <td>Die Biene ist aktiv.</td>\n",
       "      <td>Biene</td>\n",
       "      <td>positiv</td>\n",
       "      <td>aktiv</td>\n",
       "      <td>positiv</td>\n",
       "      <td>4</td>\n",
       "      <td>[Die, Biene, ist, aktiv, .]</td>\n",
       "      <td>0.806</td>\n",
       "      <td>positiv</td>\n",
       "      <td>positiv</td>\n",
       "      <td>7</td>\n",
       "      <td>1</td>\n",
       "      <td>neutral</td>\n",
       "      <td>neutral</td>\n",
       "    </tr>\n",
       "    <tr>\n",
       "      <th>1</th>\n",
       "      <td>Die Brautjungfer ist amüsant.</td>\n",
       "      <td>Brautjungfer</td>\n",
       "      <td>positiv</td>\n",
       "      <td>amüsant</td>\n",
       "      <td>positiv</td>\n",
       "      <td>7</td>\n",
       "      <td>[Die, Brautjungfer, ist, amüsant, .]</td>\n",
       "      <td>0.628</td>\n",
       "      <td>positiv</td>\n",
       "      <td>positiv</td>\n",
       "      <td>6</td>\n",
       "      <td>1</td>\n",
       "      <td>positive</td>\n",
       "      <td>NaN</td>\n",
       "    </tr>\n",
       "    <tr>\n",
       "      <th>2</th>\n",
       "      <td>Der Garten ist berühmt.</td>\n",
       "      <td>Garten</td>\n",
       "      <td>positiv</td>\n",
       "      <td>berühmt</td>\n",
       "      <td>positiv</td>\n",
       "      <td>6</td>\n",
       "      <td>[Der, Garten, ist, berühmt, .]</td>\n",
       "      <td>1.277</td>\n",
       "      <td>positiv</td>\n",
       "      <td>positiv</td>\n",
       "      <td>8</td>\n",
       "      <td>1</td>\n",
       "      <td>NaN</td>\n",
       "      <td>NaN</td>\n",
       "    </tr>\n",
       "    <tr>\n",
       "      <th>3</th>\n",
       "      <td>Der Gewinn ist süß.</td>\n",
       "      <td>Gewinn</td>\n",
       "      <td>positiv</td>\n",
       "      <td>süß</td>\n",
       "      <td>positiv</td>\n",
       "      <td>7</td>\n",
       "      <td>[Der, Gewinn, ist, süß, .]</td>\n",
       "      <td>0.431</td>\n",
       "      <td>positiv</td>\n",
       "      <td>positiv</td>\n",
       "      <td>6</td>\n",
       "      <td>1</td>\n",
       "      <td>positive</td>\n",
       "      <td>NaN</td>\n",
       "    </tr>\n",
       "    <tr>\n",
       "      <th>4</th>\n",
       "      <td>Der Künstler ist gutmütig.</td>\n",
       "      <td>Künstler</td>\n",
       "      <td>positiv</td>\n",
       "      <td>gutmütig</td>\n",
       "      <td>positiv</td>\n",
       "      <td>6</td>\n",
       "      <td>[Der, Künstler, ist, gutmütig, .]</td>\n",
       "      <td>0.744</td>\n",
       "      <td>positiv</td>\n",
       "      <td>positiv</td>\n",
       "      <td>7</td>\n",
       "      <td>1</td>\n",
       "      <td>NaN</td>\n",
       "      <td>NaN</td>\n",
       "    </tr>\n",
       "  </tbody>\n",
       "</table>\n",
       "</div>"
      ],
      "text/plain": [
       "                            Satz          noun polarity_noun adjective  \\\n",
       "0           Die Biene ist aktiv.         Biene       positiv     aktiv   \n",
       "1  Die Brautjungfer ist amüsant.  Brautjungfer       positiv   amüsant   \n",
       "2        Der Garten ist berühmt.        Garten       positiv   berühmt   \n",
       "3            Der Gewinn ist süß.        Gewinn       positiv       süß   \n",
       "4     Der Künstler ist gutmütig.      Künstler       positiv  gutmütig   \n",
       "\n",
       "  polarity_adj  valence_rating_sent                       tokenized_sents  \\\n",
       "0      positiv                    4           [Die, Biene, ist, aktiv, .]   \n",
       "1      positiv                    7  [Die, Brautjungfer, ist, amüsant, .]   \n",
       "2      positiv                    6        [Der, Garten, ist, berühmt, .]   \n",
       "3      positiv                    7            [Der, Gewinn, ist, süß, .]   \n",
       "4      positiv                    6     [Der, Künstler, ist, gutmütig, .]   \n",
       "\n",
       "   senti_sent senti_noun senti_adj score  senti_sent_2  noun_emo  adj_emo  \n",
       "0       0.806    positiv   positiv     7             1   neutral  neutral  \n",
       "1       0.628    positiv   positiv     6             1  positive      NaN  \n",
       "2       1.277    positiv   positiv     8             1       NaN      NaN  \n",
       "3       0.431    positiv   positiv     6             1  positive      NaN  \n",
       "4       0.744    positiv   positiv     7             1       NaN      NaN  "
      ]
     },
     "execution_count": 88,
     "metadata": {},
     "output_type": "execute_result"
    }
   ],
   "source": [
    "df.head()"
   ]
  },
  {
   "cell_type": "code",
   "execution_count": 89,
   "metadata": {},
   "outputs": [
    {
     "name": "stdout",
     "output_type": "stream",
     "text": [
      "0.056\n",
      "6.99 %\n"
     ]
    }
   ],
   "source": [
    "f1_macro = f1_score(df[\"polarity_adj\"], df[\"adj_emo\"], average='macro')\n",
    "acc = accuracy_score(df[\"polarity_adj\"], df[\"adj_emo\"])*100\n",
    "print( round(f1_macro, 3))\n",
    "print( round(acc,3), \"%\")"
   ]
  },
  {
   "cell_type": "code",
   "execution_count": 90,
   "metadata": {},
   "outputs": [
    {
     "name": "stdout",
     "output_type": "stream",
     "text": [
      "0.0\n",
      "0.0 %\n"
     ]
    }
   ],
   "source": [
    "f1_macro = f1_score(df[\"polarity_noun\"], df[\"noun_emo\"], average='macro')\n",
    "acc = accuracy_score(df[\"polarity_noun\"], df[\"noun_emo\"])*100\n",
    "print(round(f1_macro, 3))\n",
    "print(round(acc,3), \"%\")"
   ]
  },
  {
   "cell_type": "code",
   "execution_count": 91,
   "metadata": {},
   "outputs": [
    {
     "ename": "SyntaxError",
     "evalue": "invalid syntax (<ipython-input-91-43a9bf177c72>, line 1)",
     "output_type": "error",
     "traceback": [
      "\u001b[0;36m  File \u001b[0;32m\"<ipython-input-91-43a9bf177c72>\"\u001b[0;36m, line \u001b[0;32m1\u001b[0m\n\u001b[0;31m    TOKEN, MEAN-SENTIMENT-RATING, STANDARD DEVIATION, and RAW-HUMAN-SENTIMENT-RATINGS\u001b[0m\n\u001b[0m                                           ^\u001b[0m\n\u001b[0;31mSyntaxError\u001b[0m\u001b[0;31m:\u001b[0m invalid syntax\n"
     ]
    }
   ],
   "source": [
    "TOKEN, MEAN-SENTIMENT-RATING, STANDARD DEVIATION, and RAW-HUMAN-SENTIMENT-RATINGS"
   ]
  },
  {
   "cell_type": "code",
   "execution_count": null,
   "metadata": {},
   "outputs": [],
   "source": [
    "GerVader = pd.read_csv('/Users/ganiyuopeyemi/desktop/NLP/GERVaderLexicon.txt',sep='\\t',header = None,names = [\"token\", \"msr\",\"sd\",\"rhsr\"], error_bad_lines=False)\n",
    "GerVader.head(49)"
   ]
  },
  {
   "cell_type": "code",
   "execution_count": null,
   "metadata": {},
   "outputs": [],
   "source": [
    "GerVader[\"msr\"].max()"
   ]
  },
  {
   "cell_type": "code",
   "execution_count": null,
   "metadata": {},
   "outputs": [],
   "source": [
    "GerVader.shape"
   ]
  },
  {
   "cell_type": "code",
   "execution_count": null,
   "metadata": {},
   "outputs": [],
   "source": [
    "word_list_1 = []\n",
    "for word in df.WORD:\n",
    "    word_list_1.append(word)\n",
    "print(len(word_list_1))\n",
    "print(len(set(word_list_1)))"
   ]
  },
  {
   "cell_type": "code",
   "execution_count": null,
   "metadata": {},
   "outputs": [],
   "source": [
    "vd_word = []\n",
    "for word in GerVader.token:\n",
    "    vd_word.append(word)\n",
    "print(len(vd_word))\n",
    "print(len(set(vd_word)))    "
   ]
  },
  {
   "cell_type": "code",
   "execution_count": null,
   "metadata": {},
   "outputs": [],
   "source": [
    "\"\"\"\"match_1 = []\n",
    "for word in word_list_1:\n",
    "    if word in vd_word:\n",
    "        match_1.append(word)\n",
    "print(len(match_1))\n",
    "print(len(set(match_1)))\"\"\""
   ]
  },
  {
   "cell_type": "code",
   "execution_count": null,
   "metadata": {},
   "outputs": [],
   "source": [
    "\"\"\"valence_emo1=[]\n",
    "for t in df.WORD:\n",
    "    dt = GerVader.query(\"token in @t\")\n",
    "    if dt.msr.mean()>=0.05:\n",
    "        valence_emo1.append(\"positive\")\n",
    "    elif dt.msr.mean()<=-0.05:\n",
    "        valence_emo1.append(\"negative\")\n",
    "    elif dt.msr.mean()==0 and dt.msr.mean()==0:\n",
    "        valence_emo1.append(\"neutral\")\n",
    "    else:\n",
    "        valence_emo1.append(\"NaN\")\n",
    "print(\"len(valence_emo1)=\", len(valence_emo1))        \n",
    "print(Counter(valence_emo1))\"\"\""
   ]
  }
 ],
 "metadata": {
  "kernelspec": {
   "display_name": "Python 3",
   "language": "python",
   "name": "python3"
  },
  "language_info": {
   "codemirror_mode": {
    "name": "ipython",
    "version": 3
   },
   "file_extension": ".py",
   "mimetype": "text/x-python",
   "name": "python",
   "nbconvert_exporter": "python",
   "pygments_lexer": "ipython3",
   "version": "3.8.3"
  }
 },
 "nbformat": 4,
 "nbformat_minor": 4
}
