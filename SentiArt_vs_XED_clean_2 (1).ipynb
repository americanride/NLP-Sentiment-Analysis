{
 "cells": [
  {
   "cell_type": "code",
   "execution_count": 1,
   "metadata": {},
   "outputs": [],
   "source": [
    "import os,codecs\n",
    "import pandas as pd\n",
    "import nltk\n",
    "from nltk import*\n",
    "import matplotlib.pyplot as plt\n",
    "import string\n",
    "import numpy as np\n",
    "import seaborn as sns"
   ]
  },
  {
   "cell_type": "markdown",
   "metadata": {},
   "source": [
    "# XED Data Cleaning and Preprocessing\n",
    "\n",
    "- reading the data\n",
    "- split the labels into three columns:label_1, label_2, label_3\n",
    "- fill the missing values in label_2 with the corresponding values in label_1\n",
    "- data cleaning: removing the punctuations and the stopwords\n",
    "- tokenization"
   ]
  },
  {
   "cell_type": "code",
   "execution_count": 2,
   "metadata": {},
   "outputs": [
    {
     "data": {
      "text/html": [
       "<div>\n",
       "<style scoped>\n",
       "    .dataframe tbody tr th:only-of-type {\n",
       "        vertical-align: middle;\n",
       "    }\n",
       "\n",
       "    .dataframe tbody tr th {\n",
       "        vertical-align: top;\n",
       "    }\n",
       "\n",
       "    .dataframe thead th {\n",
       "        text-align: right;\n",
       "    }\n",
       "</style>\n",
       "<table border=\"1\" class=\"dataframe\">\n",
       "  <thead>\n",
       "    <tr style=\"text-align: right;\">\n",
       "      <th></th>\n",
       "      <th>sent</th>\n",
       "      <th>label_1</th>\n",
       "    </tr>\n",
       "  </thead>\n",
       "  <tbody>\n",
       "    <tr>\n",
       "      <th>0</th>\n",
       "      <td>, ...</td>\n",
       "      <td>1</td>\n",
       "    </tr>\n",
       "    <tr>\n",
       "      <th>1</th>\n",
       "      <td>!</td>\n",
       "      <td>1, 4, 7</td>\n",
       "    </tr>\n",
       "    <tr>\n",
       "      <th>2</th>\n",
       "      <td>... And I don't think we need to discuss the T...</td>\n",
       "      <td>8, 1</td>\n",
       "    </tr>\n",
       "    <tr>\n",
       "      <th>3</th>\n",
       "      <td>* So get up out of your bed</td>\n",
       "      <td>1</td>\n",
       "    </tr>\n",
       "    <tr>\n",
       "      <th>4</th>\n",
       "      <td>A confession that you hired [PERSON] ... and a...</td>\n",
       "      <td>1, 6</td>\n",
       "    </tr>\n",
       "  </tbody>\n",
       "</table>\n",
       "</div>"
      ],
      "text/plain": [
       "                                                sent  label_1\n",
       "0                                              , ...        1\n",
       "1                                                  !  1, 4, 7\n",
       "2  ... And I don't think we need to discuss the T...     8, 1\n",
       "3                        * So get up out of your bed        1\n",
       "4  A confession that you hired [PERSON] ... and a...     1, 6"
      ]
     },
     "execution_count": 2,
     "metadata": {},
     "output_type": "execute_result"
    }
   ],
   "source": [
    "df = pd.read_csv('/Users/ganiyuopeyemi/desktop/NLP/XED-master/AnnotatedData/en-annotated.tsv',sep='\\t',header = None, names = [\"sent\", \"label_1\"], error_bad_lines=False)\n",
    "df.head()"
   ]
  },
  {
   "cell_type": "code",
   "execution_count": 3,
   "metadata": {},
   "outputs": [
    {
     "data": {
      "text/plain": [
       "(17528, 2)"
      ]
     },
     "execution_count": 3,
     "metadata": {},
     "output_type": "execute_result"
    }
   ],
   "source": [
    "df.shape"
   ]
  },
  {
   "cell_type": "code",
   "execution_count": 4,
   "metadata": {},
   "outputs": [],
   "source": [
    "df[[\"label_1\", \"label_2\"]] = df['label_1'].str.split(\",\", 1, expand=True)\n",
    "df[[\"label_2\", \"label_3\"]] = df['label_2'].str.split(\",\", 1, expand=True)"
   ]
  },
  {
   "cell_type": "code",
   "execution_count": 5,
   "metadata": {},
   "outputs": [
    {
     "data": {
      "text/html": [
       "<div>\n",
       "<style scoped>\n",
       "    .dataframe tbody tr th:only-of-type {\n",
       "        vertical-align: middle;\n",
       "    }\n",
       "\n",
       "    .dataframe tbody tr th {\n",
       "        vertical-align: top;\n",
       "    }\n",
       "\n",
       "    .dataframe thead th {\n",
       "        text-align: right;\n",
       "    }\n",
       "</style>\n",
       "<table border=\"1\" class=\"dataframe\">\n",
       "  <thead>\n",
       "    <tr style=\"text-align: right;\">\n",
       "      <th></th>\n",
       "      <th>sent</th>\n",
       "      <th>label_1</th>\n",
       "      <th>label_2</th>\n",
       "      <th>label_3</th>\n",
       "    </tr>\n",
       "  </thead>\n",
       "  <tbody>\n",
       "    <tr>\n",
       "      <th>0</th>\n",
       "      <td>, ...</td>\n",
       "      <td>1</td>\n",
       "      <td>None</td>\n",
       "      <td>None</td>\n",
       "    </tr>\n",
       "    <tr>\n",
       "      <th>1</th>\n",
       "      <td>!</td>\n",
       "      <td>1</td>\n",
       "      <td>4</td>\n",
       "      <td>7</td>\n",
       "    </tr>\n",
       "    <tr>\n",
       "      <th>2</th>\n",
       "      <td>... And I don't think we need to discuss the T...</td>\n",
       "      <td>8</td>\n",
       "      <td>1</td>\n",
       "      <td>None</td>\n",
       "    </tr>\n",
       "    <tr>\n",
       "      <th>3</th>\n",
       "      <td>* So get up out of your bed</td>\n",
       "      <td>1</td>\n",
       "      <td>None</td>\n",
       "      <td>None</td>\n",
       "    </tr>\n",
       "    <tr>\n",
       "      <th>4</th>\n",
       "      <td>A confession that you hired [PERSON] ... and a...</td>\n",
       "      <td>1</td>\n",
       "      <td>6</td>\n",
       "      <td>None</td>\n",
       "    </tr>\n",
       "  </tbody>\n",
       "</table>\n",
       "</div>"
      ],
      "text/plain": [
       "                                                sent label_1 label_2 label_3\n",
       "0                                              , ...       1    None    None\n",
       "1                                                  !       1       4       7\n",
       "2  ... And I don't think we need to discuss the T...       8       1    None\n",
       "3                        * So get up out of your bed       1    None    None\n",
       "4  A confession that you hired [PERSON] ... and a...       1       6    None"
      ]
     },
     "execution_count": 5,
     "metadata": {},
     "output_type": "execute_result"
    }
   ],
   "source": [
    "df.head()"
   ]
  },
  {
   "cell_type": "code",
   "execution_count": null,
   "metadata": {},
   "outputs": [],
   "source": []
  },
  {
   "cell_type": "code",
   "execution_count": 6,
   "metadata": {},
   "outputs": [],
   "source": [
    "df[\"label_1\"] = pd.to_numeric(df[\"label_1\"])\n",
    "df[\"label_2_fill\"] = np.where(df.label_2.isnull(), df.label_1, df.label_2)\n",
    "df[\"label_2_fill\"] = pd.to_numeric(df[\"label_2_fill\"])"
   ]
  },
  {
   "cell_type": "code",
   "execution_count": 7,
   "metadata": {},
   "outputs": [],
   "source": [
    "lst_stopwords = nltk.corpus.stopwords.words(\"english\")"
   ]
  },
  {
   "cell_type": "code",
   "execution_count": 8,
   "metadata": {},
   "outputs": [],
   "source": [
    "def utils_preprocess_text(text, flg_stemm=False, flg_lemm=True, lst_stopwords=None):\n",
    "    ## clean (convert to lowercase and remove punctuations and characters and then strip)\n",
    "    text = re.sub(r'[^\\w\\s]', '', str(text).lower().strip())\n",
    "    \n",
    "               \n",
    "    ## Tokenize (convert from string to list)\n",
    "    lst_text = text.split()\n",
    "    table = str.maketrans('', '', string.punctuation)\n",
    "    lst_text = [w.translate(table) for w in lst_text]\n",
    "                   \n",
    "    ## back to string from list\n",
    "    text = \" \".join(lst_text)\n",
    "    return text"
   ]
  },
  {
   "cell_type": "code",
   "execution_count": 9,
   "metadata": {},
   "outputs": [],
   "source": [
    "df[\"text_clean\"] = df[\"sent\"].apply(lambda x: \n",
    "          utils_preprocess_text(x, flg_stemm=False, flg_lemm=True, \n",
    "          lst_stopwords= lst_stopwords))"
   ]
  },
  {
   "cell_type": "code",
   "execution_count": 10,
   "metadata": {},
   "outputs": [
    {
     "data": {
      "text/html": [
       "<div>\n",
       "<style scoped>\n",
       "    .dataframe tbody tr th:only-of-type {\n",
       "        vertical-align: middle;\n",
       "    }\n",
       "\n",
       "    .dataframe tbody tr th {\n",
       "        vertical-align: top;\n",
       "    }\n",
       "\n",
       "    .dataframe thead th {\n",
       "        text-align: right;\n",
       "    }\n",
       "</style>\n",
       "<table border=\"1\" class=\"dataframe\">\n",
       "  <thead>\n",
       "    <tr style=\"text-align: right;\">\n",
       "      <th></th>\n",
       "      <th>sent</th>\n",
       "      <th>label_1</th>\n",
       "      <th>label_2</th>\n",
       "      <th>label_3</th>\n",
       "      <th>label_2_fill</th>\n",
       "      <th>text_clean</th>\n",
       "      <th>tokenized_sents</th>\n",
       "    </tr>\n",
       "  </thead>\n",
       "  <tbody>\n",
       "    <tr>\n",
       "      <th>0</th>\n",
       "      <td>, ...</td>\n",
       "      <td>1</td>\n",
       "      <td>None</td>\n",
       "      <td>None</td>\n",
       "      <td>1</td>\n",
       "      <td></td>\n",
       "      <td>[]</td>\n",
       "    </tr>\n",
       "    <tr>\n",
       "      <th>1</th>\n",
       "      <td>!</td>\n",
       "      <td>1</td>\n",
       "      <td>4</td>\n",
       "      <td>7</td>\n",
       "      <td>4</td>\n",
       "      <td></td>\n",
       "      <td>[]</td>\n",
       "    </tr>\n",
       "    <tr>\n",
       "      <th>2</th>\n",
       "      <td>... And I don't think we need to discuss the T...</td>\n",
       "      <td>8</td>\n",
       "      <td>1</td>\n",
       "      <td>None</td>\n",
       "      <td>1</td>\n",
       "      <td>and i dont think we need to discuss the trinit...</td>\n",
       "      <td>[and, i, dont, think, we, need, to, discuss, t...</td>\n",
       "    </tr>\n",
       "    <tr>\n",
       "      <th>3</th>\n",
       "      <td>* So get up out of your bed</td>\n",
       "      <td>1</td>\n",
       "      <td>None</td>\n",
       "      <td>None</td>\n",
       "      <td>1</td>\n",
       "      <td>so get up out of your bed</td>\n",
       "      <td>[so, get, up, out, of, your, bed]</td>\n",
       "    </tr>\n",
       "    <tr>\n",
       "      <th>4</th>\n",
       "      <td>A confession that you hired [PERSON] ... and a...</td>\n",
       "      <td>1</td>\n",
       "      <td>6</td>\n",
       "      <td>None</td>\n",
       "      <td>6</td>\n",
       "      <td>a confession that you hired person and are res...</td>\n",
       "      <td>[a, confession, that, you, hired, person, and,...</td>\n",
       "    </tr>\n",
       "  </tbody>\n",
       "</table>\n",
       "</div>"
      ],
      "text/plain": [
       "                                                sent  label_1 label_2 label_3  \\\n",
       "0                                              , ...        1    None    None   \n",
       "1                                                  !        1       4       7   \n",
       "2  ... And I don't think we need to discuss the T...        8       1    None   \n",
       "3                        * So get up out of your bed        1    None    None   \n",
       "4  A confession that you hired [PERSON] ... and a...        1       6    None   \n",
       "\n",
       "   label_2_fill                                         text_clean  \\\n",
       "0             1                                                      \n",
       "1             4                                                      \n",
       "2             1  and i dont think we need to discuss the trinit...   \n",
       "3             1                          so get up out of your bed   \n",
       "4             6  a confession that you hired person and are res...   \n",
       "\n",
       "                                     tokenized_sents  \n",
       "0                                                 []  \n",
       "1                                                 []  \n",
       "2  [and, i, dont, think, we, need, to, discuss, t...  \n",
       "3                  [so, get, up, out, of, your, bed]  \n",
       "4  [a, confession, that, you, hired, person, and,...  "
      ]
     },
     "execution_count": 10,
     "metadata": {},
     "output_type": "execute_result"
    }
   ],
   "source": [
    "df['tokenized_sents'] = df.apply(lambda row: nltk.word_tokenize(row[\"text_clean\"]), axis=1)\n",
    "df.head()"
   ]
  },
  {
   "cell_type": "markdown",
   "metadata": {},
   "source": [
    "# SentiArt Calculations"
   ]
  },
  {
   "cell_type": "code",
   "execution_count": 11,
   "metadata": {},
   "outputs": [],
   "source": [
    "TC = '250kSentiArt_EN.xlsx' "
   ]
  },
  {
   "cell_type": "code",
   "execution_count": 12,
   "metadata": {},
   "outputs": [
    {
     "name": "stdout",
     "output_type": "stream",
     "text": [
      "          word   AAPz  ang_z  fear_z  disg_z  hap_z  sad_z  surp_z\n",
      "0            a -0.635  1.569   1.047   0.844  1.649  1.820   0.154\n",
      "1           aa -1.402 -0.916  -0.349  -1.284 -1.335 -1.525  -1.610\n",
      "2          aaa -1.287 -0.624  -0.063  -0.641 -1.227 -1.132  -1.194\n",
      "3       aaaaah -0.329 -0.400  -0.021  -0.134  0.565  0.372  -0.364\n",
      "4        aaaam  0.016 -0.592   0.513  -0.800 -0.741 -1.194  -0.686\n",
      "...        ...    ...    ...     ...     ...    ...    ...     ...\n",
      "241488    zzip -0.789  0.407   0.374  -0.387  0.434  0.251   0.284\n",
      "241489     zzp -0.444 -0.598  -0.311  -0.957 -1.220 -0.081  -1.080\n",
      "241490     zzz -0.405 -1.161  -0.498   0.165 -0.968  0.653  -0.510\n",
      "241491  zzzing  0.361  1.971   1.496   0.678  0.857  1.654   1.698\n",
      "241492   zzzzz -0.367 -0.473   0.190  -0.457 -1.579 -0.433  -0.923\n",
      "\n",
      "[241493 rows x 8 columns]\n"
     ]
    }
   ],
   "source": [
    "sa = pd.read_excel('/Users/ganiyuopeyemi/desktop/NLP/SentiArt-main/250kSentiArt_EN.xlsx') #    \n",
    "print(sa)"
   ]
  },
  {
   "cell_type": "code",
   "execution_count": 13,
   "metadata": {},
   "outputs": [],
   "source": [
    "fn = 'XED.txt'"
   ]
  },
  {
   "cell_type": "code",
   "execution_count": 14,
   "metadata": {},
   "outputs": [],
   "source": [
    "sent_mean_ang_z = []\n",
    "sent_mean_fear_z = []\n",
    "sent_mean_disg_z = []\n",
    "sent_mean_hap_z = []\n",
    "sent_mean_sad_z = []\n",
    "sent_mean_surp_z = []\n"
   ]
  },
  {
   "cell_type": "code",
   "execution_count": 15,
   "metadata": {},
   "outputs": [],
   "source": [
    "my_list = []\n",
    "for sent in df.tokenized_sents:\n",
    "    my_list.append(sent)"
   ]
  },
  {
   "cell_type": "code",
   "execution_count": 16,
   "metadata": {},
   "outputs": [
    {
     "data": {
      "text/plain": [
       "17528"
      ]
     },
     "execution_count": 16,
     "metadata": {},
     "output_type": "execute_result"
    }
   ],
   "source": [
    "len(my_list)"
   ]
  },
  {
   "cell_type": "code",
   "execution_count": 17,
   "metadata": {},
   "outputs": [],
   "source": [
    "for t in my_list:\n",
    "    dt = sa.query('word in @t')\n",
    "    sent_mean_ang_z.append(dt.ang_z.mean())\n",
    "    sent_mean_fear_z.append(dt.fear_z.mean())\n",
    "    sent_mean_disg_z.append(dt.disg_z.mean())\n",
    "    sent_mean_hap_z.append(dt.hap_z.mean())\n",
    "    sent_mean_sad_z.append(dt.sad_z.mean())\n",
    "    sent_mean_surp_z.append(dt.surp_z.mean())\n"
   ]
  },
  {
   "cell_type": "code",
   "execution_count": 18,
   "metadata": {},
   "outputs": [],
   "source": [
    "df['ang'] = sent_mean_ang_z\n",
    "df['fear'] = sent_mean_fear_z\n",
    "df['disg'] = sent_mean_disg_z\n",
    "df['hap'] = sent_mean_hap_z\n",
    "df['sad'] = sent_mean_sad_z\n",
    "df['surp'] = sent_mean_surp_z\n",
    "df = round(df,3)"
   ]
  },
  {
   "cell_type": "code",
   "execution_count": 1,
   "metadata": {},
   "outputs": [
    {
     "ename": "NameError",
     "evalue": "name 'df' is not defined",
     "output_type": "error",
     "traceback": [
      "\u001b[0;31m---------------------------------------------------------------------------\u001b[0m",
      "\u001b[0;31mNameError\u001b[0m                                 Traceback (most recent call last)",
      "\u001b[0;32m<ipython-input-1-d85d5d8d2272>\u001b[0m in \u001b[0;36m<module>\u001b[0;34m\u001b[0m\n\u001b[1;32m      1\u001b[0m \u001b[0mword_list\u001b[0m \u001b[0;34m=\u001b[0m \u001b[0;34m[\u001b[0m\u001b[0;34m]\u001b[0m\u001b[0;34m\u001b[0m\u001b[0;34m\u001b[0m\u001b[0m\n\u001b[0;32m----> 2\u001b[0;31m \u001b[0;32mfor\u001b[0m \u001b[0msent\u001b[0m \u001b[0;32min\u001b[0m \u001b[0mdf\u001b[0m\u001b[0;34m.\u001b[0m\u001b[0mtokenized_sents\u001b[0m\u001b[0;34m:\u001b[0m\u001b[0;34m\u001b[0m\u001b[0;34m\u001b[0m\u001b[0m\n\u001b[0m\u001b[1;32m      3\u001b[0m     \u001b[0;32mfor\u001b[0m \u001b[0mword\u001b[0m \u001b[0;32min\u001b[0m \u001b[0msent\u001b[0m\u001b[0;34m:\u001b[0m\u001b[0;34m\u001b[0m\u001b[0;34m\u001b[0m\u001b[0m\n\u001b[1;32m      4\u001b[0m         \u001b[0mword_list\u001b[0m\u001b[0;34m.\u001b[0m\u001b[0mappend\u001b[0m\u001b[0;34m(\u001b[0m\u001b[0mword\u001b[0m\u001b[0;34m)\u001b[0m\u001b[0;34m\u001b[0m\u001b[0;34m\u001b[0m\u001b[0m\n",
      "\u001b[0;31mNameError\u001b[0m: name 'df' is not defined"
     ]
    }
   ],
   "source": [
    "word_list = []\n",
    "for sent in df.tokenized_sents:\n",
    "    for word in sent:\n",
    "        word_list.append(word)"
   ]
  },
  {
   "cell_type": "code",
   "execution_count": 27,
   "metadata": {},
   "outputs": [
    {
     "name": "stdout",
     "output_type": "stream",
     "text": [
      "130534\n",
      "8586\n"
     ]
    }
   ],
   "source": [
    "print(len(word_list))\n",
    "print(len(set(word_list)))"
   ]
  },
  {
   "cell_type": "code",
   "execution_count": 30,
   "metadata": {},
   "outputs": [
    {
     "name": "stdout",
     "output_type": "stream",
     "text": [
      "241493\n"
     ]
    }
   ],
   "source": [
    "st_words = []\n",
    "for word in sa.word:\n",
    "    st_words.append(word)\n",
    "print(len(st_words))"
   ]
  },
  {
   "cell_type": "code",
   "execution_count": 31,
   "metadata": {},
   "outputs": [],
   "source": [
    "match = []\n",
    "for word in word_list:\n",
    "    if word in st_words:\n",
    "        match.append(word)"
   ]
  },
  {
   "cell_type": "code",
   "execution_count": 32,
   "metadata": {},
   "outputs": [
    {
     "data": {
      "text/plain": [
       "129534"
      ]
     },
     "execution_count": 32,
     "metadata": {},
     "output_type": "execute_result"
    }
   ],
   "source": [
    "len(match)"
   ]
  },
  {
   "cell_type": "code",
   "execution_count": 36,
   "metadata": {},
   "outputs": [
    {
     "name": "stdout",
     "output_type": "stream",
     "text": [
      "7938\n"
     ]
    }
   ],
   "source": [
    "print(len(set(match)))"
   ]
  },
  {
   "cell_type": "code",
   "execution_count": 39,
   "metadata": {},
   "outputs": [
    {
     "data": {
      "text/plain": [
       "79.38"
      ]
     },
     "execution_count": 39,
     "metadata": {},
     "output_type": "execute_result"
    }
   ],
   "source": [
    "len(set(match))"
   ]
  },
  {
   "cell_type": "code",
   "execution_count": 42,
   "metadata": {},
   "outputs": [
    {
     "data": {
      "text/plain": [
       "92.45283018867924"
      ]
     },
     "execution_count": 42,
     "metadata": {},
     "output_type": "execute_result"
    }
   ],
   "source": [
    "(len(set(match))/len(set(word_list)))*100"
   ]
  },
  {
   "cell_type": "code",
   "execution_count": 21,
   "metadata": {},
   "outputs": [
    {
     "data": {
      "text/plain": [
       "(17528, 13)"
      ]
     },
     "execution_count": 21,
     "metadata": {},
     "output_type": "execute_result"
    }
   ],
   "source": [
    "df.shape"
   ]
  },
  {
   "cell_type": "code",
   "execution_count": 19,
   "metadata": {},
   "outputs": [
    {
     "name": "stdout",
     "output_type": "stream",
     "text": [
      "<class 'pandas.core.frame.DataFrame'>\n",
      "RangeIndex: 17528 entries, 0 to 17527\n",
      "Data columns (total 13 columns):\n",
      " #   Column           Non-Null Count  Dtype  \n",
      "---  ------           --------------  -----  \n",
      " 0   sent             17528 non-null  object \n",
      " 1   label_1          17528 non-null  int64  \n",
      " 2   label_2          3873 non-null   object \n",
      " 3   label_3          849 non-null    object \n",
      " 4   label_2_fill     17528 non-null  int64  \n",
      " 5   text_clean       17528 non-null  object \n",
      " 6   tokenized_sents  17528 non-null  object \n",
      " 7   ang              17490 non-null  float64\n",
      " 8   fear             17490 non-null  float64\n",
      " 9   disg             17490 non-null  float64\n",
      " 10  hap              17490 non-null  float64\n",
      " 11  sad              17490 non-null  float64\n",
      " 12  surp             17490 non-null  float64\n",
      "dtypes: float64(6), int64(2), object(5)\n",
      "memory usage: 1.7+ MB\n"
     ]
    }
   ],
   "source": [
    "df.info()"
   ]
  },
  {
   "cell_type": "code",
   "execution_count": 20,
   "metadata": {},
   "outputs": [
    {
     "name": "stdout",
     "output_type": "stream",
     "text": [
      "38\n",
      "38\n",
      "38\n",
      "38\n",
      "38\n",
      "38\n"
     ]
    }
   ],
   "source": [
    "print(df.ang.isna().sum())      \n",
    "print(df.fear.isna().sum())   \n",
    "print(df.disg.isna().sum()) \n",
    "print(df.hap.isna().sum())\n",
    "print(df.sad.isnull().sum())\n",
    "print(df.surp.isnull().sum())"
   ]
  },
  {
   "cell_type": "code",
   "execution_count": 21,
   "metadata": {},
   "outputs": [
    {
     "data": {
      "text/html": [
       "<div>\n",
       "<style scoped>\n",
       "    .dataframe tbody tr th:only-of-type {\n",
       "        vertical-align: middle;\n",
       "    }\n",
       "\n",
       "    .dataframe tbody tr th {\n",
       "        vertical-align: top;\n",
       "    }\n",
       "\n",
       "    .dataframe thead th {\n",
       "        text-align: right;\n",
       "    }\n",
       "</style>\n",
       "<table border=\"1\" class=\"dataframe\">\n",
       "  <thead>\n",
       "    <tr style=\"text-align: right;\">\n",
       "      <th></th>\n",
       "      <th>sent</th>\n",
       "      <th>label_1</th>\n",
       "      <th>label_2</th>\n",
       "      <th>label_3</th>\n",
       "      <th>label_2_fill</th>\n",
       "      <th>text_clean</th>\n",
       "      <th>tokenized_sents</th>\n",
       "      <th>ang</th>\n",
       "      <th>fear</th>\n",
       "      <th>disg</th>\n",
       "      <th>hap</th>\n",
       "      <th>sad</th>\n",
       "      <th>surp</th>\n",
       "    </tr>\n",
       "  </thead>\n",
       "  <tbody>\n",
       "    <tr>\n",
       "      <th>0</th>\n",
       "      <td>, ...</td>\n",
       "      <td>1</td>\n",
       "      <td>None</td>\n",
       "      <td>None</td>\n",
       "      <td>1</td>\n",
       "      <td></td>\n",
       "      <td>[]</td>\n",
       "      <td>NaN</td>\n",
       "      <td>NaN</td>\n",
       "      <td>NaN</td>\n",
       "      <td>NaN</td>\n",
       "      <td>NaN</td>\n",
       "      <td>NaN</td>\n",
       "    </tr>\n",
       "    <tr>\n",
       "      <th>1</th>\n",
       "      <td>!</td>\n",
       "      <td>1</td>\n",
       "      <td>4</td>\n",
       "      <td>7</td>\n",
       "      <td>4</td>\n",
       "      <td></td>\n",
       "      <td>[]</td>\n",
       "      <td>NaN</td>\n",
       "      <td>NaN</td>\n",
       "      <td>NaN</td>\n",
       "      <td>NaN</td>\n",
       "      <td>NaN</td>\n",
       "      <td>NaN</td>\n",
       "    </tr>\n",
       "    <tr>\n",
       "      <th>202</th>\n",
       "      <td>Argh ! Kaili !</td>\n",
       "      <td>1</td>\n",
       "      <td>None</td>\n",
       "      <td>None</td>\n",
       "      <td>1</td>\n",
       "      <td>argh kaili</td>\n",
       "      <td>[argh, kaili]</td>\n",
       "      <td>NaN</td>\n",
       "      <td>NaN</td>\n",
       "      <td>NaN</td>\n",
       "      <td>NaN</td>\n",
       "      <td>NaN</td>\n",
       "      <td>NaN</td>\n",
       "    </tr>\n",
       "    <tr>\n",
       "      <th>287</th>\n",
       "      <td>Bullshit !</td>\n",
       "      <td>1</td>\n",
       "      <td>3</td>\n",
       "      <td>None</td>\n",
       "      <td>3</td>\n",
       "      <td>bullshit</td>\n",
       "      <td>[bullshit]</td>\n",
       "      <td>NaN</td>\n",
       "      <td>NaN</td>\n",
       "      <td>NaN</td>\n",
       "      <td>NaN</td>\n",
       "      <td>NaN</td>\n",
       "      <td>NaN</td>\n",
       "    </tr>\n",
       "    <tr>\n",
       "      <th>289</th>\n",
       "      <td>Bullshit .</td>\n",
       "      <td>1</td>\n",
       "      <td>7</td>\n",
       "      <td>None</td>\n",
       "      <td>7</td>\n",
       "      <td>bullshit</td>\n",
       "      <td>[bullshit]</td>\n",
       "      <td>NaN</td>\n",
       "      <td>NaN</td>\n",
       "      <td>NaN</td>\n",
       "      <td>NaN</td>\n",
       "      <td>NaN</td>\n",
       "      <td>NaN</td>\n",
       "    </tr>\n",
       "  </tbody>\n",
       "</table>\n",
       "</div>"
      ],
      "text/plain": [
       "               sent  label_1 label_2 label_3  label_2_fill  text_clean  \\\n",
       "0             , ...        1    None    None             1               \n",
       "1                 !        1       4       7             4               \n",
       "202  Argh ! Kaili !        1    None    None             1  argh kaili   \n",
       "287      Bullshit !        1       3    None             3    bullshit   \n",
       "289      Bullshit .        1       7    None             7    bullshit   \n",
       "\n",
       "    tokenized_sents  ang  fear  disg  hap  sad  surp  \n",
       "0                []  NaN   NaN   NaN  NaN  NaN   NaN  \n",
       "1                []  NaN   NaN   NaN  NaN  NaN   NaN  \n",
       "202   [argh, kaili]  NaN   NaN   NaN  NaN  NaN   NaN  \n",
       "287      [bullshit]  NaN   NaN   NaN  NaN  NaN   NaN  \n",
       "289      [bullshit]  NaN   NaN   NaN  NaN  NaN   NaN  "
      ]
     },
     "execution_count": 21,
     "metadata": {},
     "output_type": "execute_result"
    }
   ],
   "source": [
    "df_38 = df.loc[pd.isna(df[\"disg\"]), :]\n",
    "df_38.head()"
   ]
  },
  {
   "cell_type": "code",
   "execution_count": 22,
   "metadata": {},
   "outputs": [],
   "source": [
    "#df_38.to_csv('df_38.csv')"
   ]
  },
  {
   "cell_type": "code",
   "execution_count": 22,
   "metadata": {},
   "outputs": [
    {
     "data": {
      "text/html": [
       "<div>\n",
       "<style scoped>\n",
       "    .dataframe tbody tr th:only-of-type {\n",
       "        vertical-align: middle;\n",
       "    }\n",
       "\n",
       "    .dataframe tbody tr th {\n",
       "        vertical-align: top;\n",
       "    }\n",
       "\n",
       "    .dataframe thead th {\n",
       "        text-align: right;\n",
       "    }\n",
       "</style>\n",
       "<table border=\"1\" class=\"dataframe\">\n",
       "  <thead>\n",
       "    <tr style=\"text-align: right;\">\n",
       "      <th></th>\n",
       "      <th>sent</th>\n",
       "      <th>label_1</th>\n",
       "      <th>label_2</th>\n",
       "      <th>label_3</th>\n",
       "      <th>label_2_fill</th>\n",
       "      <th>text_clean</th>\n",
       "      <th>tokenized_sents</th>\n",
       "      <th>ang</th>\n",
       "      <th>fear</th>\n",
       "      <th>disg</th>\n",
       "      <th>hap</th>\n",
       "      <th>sad</th>\n",
       "      <th>surp</th>\n",
       "    </tr>\n",
       "  </thead>\n",
       "  <tbody>\n",
       "    <tr>\n",
       "      <th>0</th>\n",
       "      <td>, ...</td>\n",
       "      <td>1</td>\n",
       "      <td>None</td>\n",
       "      <td>None</td>\n",
       "      <td>1</td>\n",
       "      <td></td>\n",
       "      <td>[]</td>\n",
       "      <td>NaN</td>\n",
       "      <td>NaN</td>\n",
       "      <td>NaN</td>\n",
       "      <td>NaN</td>\n",
       "      <td>NaN</td>\n",
       "      <td>NaN</td>\n",
       "    </tr>\n",
       "    <tr>\n",
       "      <th>1</th>\n",
       "      <td>!</td>\n",
       "      <td>1</td>\n",
       "      <td>4</td>\n",
       "      <td>7</td>\n",
       "      <td>4</td>\n",
       "      <td></td>\n",
       "      <td>[]</td>\n",
       "      <td>NaN</td>\n",
       "      <td>NaN</td>\n",
       "      <td>NaN</td>\n",
       "      <td>NaN</td>\n",
       "      <td>NaN</td>\n",
       "      <td>NaN</td>\n",
       "    </tr>\n",
       "    <tr>\n",
       "      <th>2</th>\n",
       "      <td>... And I don't think we need to discuss the T...</td>\n",
       "      <td>8</td>\n",
       "      <td>1</td>\n",
       "      <td>None</td>\n",
       "      <td>1</td>\n",
       "      <td>and i dont think we need to discuss the trinit...</td>\n",
       "      <td>[and, i, dont, think, we, need, to, discuss, t...</td>\n",
       "      <td>0.240</td>\n",
       "      <td>1.354</td>\n",
       "      <td>-0.002</td>\n",
       "      <td>0.818</td>\n",
       "      <td>0.657</td>\n",
       "      <td>-0.216</td>\n",
       "    </tr>\n",
       "    <tr>\n",
       "      <th>3</th>\n",
       "      <td>* So get up out of your bed</td>\n",
       "      <td>1</td>\n",
       "      <td>None</td>\n",
       "      <td>None</td>\n",
       "      <td>1</td>\n",
       "      <td>so get up out of your bed</td>\n",
       "      <td>[so, get, up, out, of, your, bed]</td>\n",
       "      <td>0.524</td>\n",
       "      <td>0.638</td>\n",
       "      <td>0.129</td>\n",
       "      <td>0.776</td>\n",
       "      <td>0.422</td>\n",
       "      <td>-0.158</td>\n",
       "    </tr>\n",
       "    <tr>\n",
       "      <th>4</th>\n",
       "      <td>A confession that you hired [PERSON] ... and a...</td>\n",
       "      <td>1</td>\n",
       "      <td>6</td>\n",
       "      <td>None</td>\n",
       "      <td>6</td>\n",
       "      <td>a confession that you hired person and are res...</td>\n",
       "      <td>[a, confession, that, you, hired, person, and,...</td>\n",
       "      <td>0.893</td>\n",
       "      <td>0.984</td>\n",
       "      <td>0.449</td>\n",
       "      <td>1.317</td>\n",
       "      <td>0.941</td>\n",
       "      <td>0.052</td>\n",
       "    </tr>\n",
       "  </tbody>\n",
       "</table>\n",
       "</div>"
      ],
      "text/plain": [
       "                                                sent  label_1 label_2 label_3  \\\n",
       "0                                              , ...        1    None    None   \n",
       "1                                                  !        1       4       7   \n",
       "2  ... And I don't think we need to discuss the T...        8       1    None   \n",
       "3                        * So get up out of your bed        1    None    None   \n",
       "4  A confession that you hired [PERSON] ... and a...        1       6    None   \n",
       "\n",
       "   label_2_fill                                         text_clean  \\\n",
       "0             1                                                      \n",
       "1             4                                                      \n",
       "2             1  and i dont think we need to discuss the trinit...   \n",
       "3             1                          so get up out of your bed   \n",
       "4             6  a confession that you hired person and are res...   \n",
       "\n",
       "                                     tokenized_sents    ang   fear   disg  \\\n",
       "0                                                 []    NaN    NaN    NaN   \n",
       "1                                                 []    NaN    NaN    NaN   \n",
       "2  [and, i, dont, think, we, need, to, discuss, t...  0.240  1.354 -0.002   \n",
       "3                  [so, get, up, out, of, your, bed]  0.524  0.638  0.129   \n",
       "4  [a, confession, that, you, hired, person, and,...  0.893  0.984  0.449   \n",
       "\n",
       "     hap    sad   surp  \n",
       "0    NaN    NaN    NaN  \n",
       "1    NaN    NaN    NaN  \n",
       "2  0.818  0.657 -0.216  \n",
       "3  0.776  0.422 -0.158  \n",
       "4  1.317  0.941  0.052  "
      ]
     },
     "execution_count": 22,
     "metadata": {},
     "output_type": "execute_result"
    }
   ],
   "source": [
    "df.head()"
   ]
  },
  {
   "cell_type": "code",
   "execution_count": 23,
   "metadata": {},
   "outputs": [
    {
     "data": {
      "text/plain": [
       "sent                   0\n",
       "label_1                0\n",
       "label_2            13655\n",
       "label_3            16679\n",
       "label_2_fill           0\n",
       "text_clean             0\n",
       "tokenized_sents        0\n",
       "ang                   38\n",
       "fear                  38\n",
       "disg                  38\n",
       "hap                   38\n",
       "sad                   38\n",
       "surp                  38\n",
       "dtype: int64"
      ]
     },
     "execution_count": 23,
     "metadata": {},
     "output_type": "execute_result"
    }
   ],
   "source": [
    "df.isna().sum()"
   ]
  },
  {
   "cell_type": "markdown",
   "metadata": {},
   "source": [
    "Mapping the target column based on the mapping of XED.\n",
    "\n",
    "Removing the missing values.\n",
    "\n",
    "Exploring the distribution of the classes in label_1 and label_2 from XED and the target of SentiArt \n"
   ]
  },
  {
   "cell_type": "code",
   "execution_count": 164,
   "metadata": {},
   "outputs": [],
   "source": [
    "df[\"target\"] = df[[\"ang\", \"fear\", \"disg\", \"hap\", \"sad\", \"surp\"]].idxmax(axis=1)\n",
    "df[\"target_name\"] = df[[\"ang\", \"fear\", \"disg\", \"hap\", \"sad\", \"surp\"]].idxmax(axis=1)"
   ]
  },
  {
   "cell_type": "code",
   "execution_count": 165,
   "metadata": {},
   "outputs": [
    {
     "data": {
      "text/html": [
       "<div>\n",
       "<style scoped>\n",
       "    .dataframe tbody tr th:only-of-type {\n",
       "        vertical-align: middle;\n",
       "    }\n",
       "\n",
       "    .dataframe tbody tr th {\n",
       "        vertical-align: top;\n",
       "    }\n",
       "\n",
       "    .dataframe thead th {\n",
       "        text-align: right;\n",
       "    }\n",
       "</style>\n",
       "<table border=\"1\" class=\"dataframe\">\n",
       "  <thead>\n",
       "    <tr style=\"text-align: right;\">\n",
       "      <th></th>\n",
       "      <th>sent</th>\n",
       "      <th>label_1</th>\n",
       "      <th>label_2</th>\n",
       "      <th>label_3</th>\n",
       "      <th>label_2_fill</th>\n",
       "      <th>text_clean</th>\n",
       "      <th>tokenized_sents</th>\n",
       "      <th>ang</th>\n",
       "      <th>fear</th>\n",
       "      <th>disg</th>\n",
       "      <th>hap</th>\n",
       "      <th>sad</th>\n",
       "      <th>surp</th>\n",
       "      <th>target</th>\n",
       "      <th>target_name</th>\n",
       "    </tr>\n",
       "  </thead>\n",
       "  <tbody>\n",
       "    <tr>\n",
       "      <th>0</th>\n",
       "      <td>, ...</td>\n",
       "      <td>1</td>\n",
       "      <td>None</td>\n",
       "      <td>None</td>\n",
       "      <td>1</td>\n",
       "      <td></td>\n",
       "      <td>[]</td>\n",
       "      <td>NaN</td>\n",
       "      <td>NaN</td>\n",
       "      <td>NaN</td>\n",
       "      <td>NaN</td>\n",
       "      <td>NaN</td>\n",
       "      <td>NaN</td>\n",
       "      <td>NaN</td>\n",
       "      <td>NaN</td>\n",
       "    </tr>\n",
       "    <tr>\n",
       "      <th>1</th>\n",
       "      <td>!</td>\n",
       "      <td>1</td>\n",
       "      <td>4</td>\n",
       "      <td>7</td>\n",
       "      <td>4</td>\n",
       "      <td></td>\n",
       "      <td>[]</td>\n",
       "      <td>NaN</td>\n",
       "      <td>NaN</td>\n",
       "      <td>NaN</td>\n",
       "      <td>NaN</td>\n",
       "      <td>NaN</td>\n",
       "      <td>NaN</td>\n",
       "      <td>NaN</td>\n",
       "      <td>NaN</td>\n",
       "    </tr>\n",
       "    <tr>\n",
       "      <th>2</th>\n",
       "      <td>... And I don't think we need to discuss the T...</td>\n",
       "      <td>8</td>\n",
       "      <td>1</td>\n",
       "      <td>None</td>\n",
       "      <td>1</td>\n",
       "      <td>and i dont think we need to discuss the trinit...</td>\n",
       "      <td>[and, i, dont, think, we, need, to, discuss, t...</td>\n",
       "      <td>0.240</td>\n",
       "      <td>1.354</td>\n",
       "      <td>-0.002</td>\n",
       "      <td>0.818</td>\n",
       "      <td>0.657</td>\n",
       "      <td>-0.216</td>\n",
       "      <td>4.0</td>\n",
       "      <td>fear</td>\n",
       "    </tr>\n",
       "    <tr>\n",
       "      <th>3</th>\n",
       "      <td>* So get up out of your bed</td>\n",
       "      <td>1</td>\n",
       "      <td>None</td>\n",
       "      <td>None</td>\n",
       "      <td>1</td>\n",
       "      <td>so get up out of your bed</td>\n",
       "      <td>[so, get, up, out, of, your, bed]</td>\n",
       "      <td>0.524</td>\n",
       "      <td>0.638</td>\n",
       "      <td>0.129</td>\n",
       "      <td>0.776</td>\n",
       "      <td>0.422</td>\n",
       "      <td>-0.158</td>\n",
       "      <td>5.0</td>\n",
       "      <td>hap</td>\n",
       "    </tr>\n",
       "    <tr>\n",
       "      <th>4</th>\n",
       "      <td>A confession that you hired [PERSON] ... and a...</td>\n",
       "      <td>1</td>\n",
       "      <td>6</td>\n",
       "      <td>None</td>\n",
       "      <td>6</td>\n",
       "      <td>a confession that you hired person and are res...</td>\n",
       "      <td>[a, confession, that, you, hired, person, and,...</td>\n",
       "      <td>0.893</td>\n",
       "      <td>0.984</td>\n",
       "      <td>0.449</td>\n",
       "      <td>1.317</td>\n",
       "      <td>0.941</td>\n",
       "      <td>0.052</td>\n",
       "      <td>5.0</td>\n",
       "      <td>hap</td>\n",
       "    </tr>\n",
       "  </tbody>\n",
       "</table>\n",
       "</div>"
      ],
      "text/plain": [
       "                                                sent  label_1 label_2 label_3  \\\n",
       "0                                              , ...        1    None    None   \n",
       "1                                                  !        1       4       7   \n",
       "2  ... And I don't think we need to discuss the T...        8       1    None   \n",
       "3                        * So get up out of your bed        1    None    None   \n",
       "4  A confession that you hired [PERSON] ... and a...        1       6    None   \n",
       "\n",
       "   label_2_fill                                         text_clean  \\\n",
       "0             1                                                      \n",
       "1             4                                                      \n",
       "2             1  and i dont think we need to discuss the trinit...   \n",
       "3             1                          so get up out of your bed   \n",
       "4             6  a confession that you hired person and are res...   \n",
       "\n",
       "                                     tokenized_sents    ang   fear   disg  \\\n",
       "0                                                 []    NaN    NaN    NaN   \n",
       "1                                                 []    NaN    NaN    NaN   \n",
       "2  [and, i, dont, think, we, need, to, discuss, t...  0.240  1.354 -0.002   \n",
       "3                  [so, get, up, out, of, your, bed]  0.524  0.638  0.129   \n",
       "4  [a, confession, that, you, hired, person, and,...  0.893  0.984  0.449   \n",
       "\n",
       "     hap    sad   surp  target target_name  \n",
       "0    NaN    NaN    NaN     NaN         NaN  \n",
       "1    NaN    NaN    NaN     NaN         NaN  \n",
       "2  0.818  0.657 -0.216     4.0        fear  \n",
       "3  0.776  0.422 -0.158     5.0         hap  \n",
       "4  1.317  0.941  0.052     5.0         hap  "
      ]
     },
     "execution_count": 165,
     "metadata": {},
     "output_type": "execute_result"
    }
   ],
   "source": [
    "emo_map = {\"ang\": int(1), \"fear\": int(4), \"disg\": int(3), \"hap\": int(5), \"sad\" : int(6), \"surp\": int(7)}\n",
    "df = df.replace({\"target\": emo_map})\n",
    "df.head()"
   ]
  },
  {
   "cell_type": "code",
   "execution_count": 166,
   "metadata": {},
   "outputs": [],
   "source": [
    "df = df[[\"text_clean\", \"label_1\", \"label_2_fill\", \"ang\", \"fear\", \"disg\", \"hap\", \"sad\", \"surp\", \"target\", \"target_name\"]]"
   ]
  },
  {
   "cell_type": "code",
   "execution_count": 167,
   "metadata": {},
   "outputs": [
    {
     "name": "stdout",
     "output_type": "stream",
     "text": [
      "<class 'pandas.core.frame.DataFrame'>\n",
      "RangeIndex: 17528 entries, 0 to 17527\n",
      "Data columns (total 11 columns):\n",
      " #   Column        Non-Null Count  Dtype  \n",
      "---  ------        --------------  -----  \n",
      " 0   text_clean    17528 non-null  object \n",
      " 1   label_1       17528 non-null  int64  \n",
      " 2   label_2_fill  17528 non-null  int64  \n",
      " 3   ang           17490 non-null  float64\n",
      " 4   fear          17490 non-null  float64\n",
      " 5   disg          17490 non-null  float64\n",
      " 6   hap           17490 non-null  float64\n",
      " 7   sad           17490 non-null  float64\n",
      " 8   surp          17490 non-null  float64\n",
      " 9   target        17490 non-null  float64\n",
      " 10  target_name   17490 non-null  object \n",
      "dtypes: float64(7), int64(2), object(2)\n",
      "memory usage: 1.5+ MB\n"
     ]
    }
   ],
   "source": [
    "df.info()"
   ]
  },
  {
   "cell_type": "code",
   "execution_count": 168,
   "metadata": {},
   "outputs": [
    {
     "data": {
      "text/plain": [
       "(17490, 11)"
      ]
     },
     "execution_count": 168,
     "metadata": {},
     "output_type": "execute_result"
    }
   ],
   "source": [
    "df = df.dropna().reset_index(drop=True)\n",
    "df.shape"
   ]
  },
  {
   "cell_type": "code",
   "execution_count": 169,
   "metadata": {},
   "outputs": [
    {
     "data": {
      "text/plain": [
       "4.0    7154\n",
       "5.0    6243\n",
       "6.0    2482\n",
       "7.0     941\n",
       "1.0     578\n",
       "3.0      92\n",
       "Name: target, dtype: int64"
      ]
     },
     "execution_count": 169,
     "metadata": {},
     "output_type": "execute_result"
    }
   ],
   "source": [
    "df.target.value_counts()"
   ]
  },
  {
   "cell_type": "code",
   "execution_count": 170,
   "metadata": {},
   "outputs": [
    {
     "data": {
      "text/plain": [
       "1    3703\n",
       "2    2706\n",
       "8    2684\n",
       "5    1843\n",
       "4    1791\n",
       "6    1702\n",
       "3    1639\n",
       "7    1422\n",
       "Name: label_1, dtype: int64"
      ]
     },
     "execution_count": 170,
     "metadata": {},
     "output_type": "execute_result"
    }
   ],
   "source": [
    "df.label_1.value_counts()"
   ]
  },
  {
   "cell_type": "code",
   "execution_count": 171,
   "metadata": {},
   "outputs": [
    {
     "data": {
      "text/plain": [
       "2    2701\n",
       "5    2516\n",
       "1    2486\n",
       "7    2080\n",
       "6    2048\n",
       "3    2028\n",
       "4    2016\n",
       "8    1615\n",
       "Name: label_2_fill, dtype: int64"
      ]
     },
     "execution_count": 171,
     "metadata": {},
     "output_type": "execute_result"
    }
   ],
   "source": [
    "df.label_2_fill.value_counts()"
   ]
  },
  {
   "cell_type": "code",
   "execution_count": 172,
   "metadata": {},
   "outputs": [
    {
     "data": {
      "text/plain": [
       "fear    1724\n",
       "hap     1219\n",
       "sad      427\n",
       "surp     161\n",
       "ang      151\n",
       "disg      21\n",
       "Name: target_name, dtype: int64"
      ]
     },
     "execution_count": 172,
     "metadata": {},
     "output_type": "execute_result"
    }
   ],
   "source": [
    "df_anger = df.loc[df[\"label_1\"] == 1]\n",
    "df_anger[\"target_name\"].value_counts()"
   ]
  },
  {
   "cell_type": "code",
   "execution_count": 173,
   "metadata": {},
   "outputs": [
    {
     "data": {
      "text/plain": [
       "fear    1110\n",
       "hap     1024\n",
       "sad      352\n",
       "surp     168\n",
       "ang       40\n",
       "disg      12\n",
       "Name: target_name, dtype: int64"
      ]
     },
     "execution_count": 173,
     "metadata": {},
     "output_type": "execute_result"
    }
   ],
   "source": [
    "df_anticipation = df.loc[df[\"label_1\"] == 2]\n",
    "df_anticipation[\"target_name\"].value_counts()"
   ]
  },
  {
   "cell_type": "code",
   "execution_count": 174,
   "metadata": {},
   "outputs": [
    {
     "data": {
      "text/plain": [
       "hap     592\n",
       "fear    589\n",
       "sad     295\n",
       "ang      94\n",
       "surp     44\n",
       "disg     25\n",
       "Name: target_name, dtype: int64"
      ]
     },
     "execution_count": 174,
     "metadata": {},
     "output_type": "execute_result"
    }
   ],
   "source": [
    "df_disgust = df.loc[df[\"label_1\"] == 3]\n",
    "df_disgust[\"target_name\"].value_counts()"
   ]
  },
  {
   "cell_type": "code",
   "execution_count": 175,
   "metadata": {},
   "outputs": [
    {
     "data": {
      "text/plain": [
       "fear    886\n",
       "hap     464\n",
       "sad     258\n",
       "ang      97\n",
       "surp     77\n",
       "disg      9\n",
       "Name: target_name, dtype: int64"
      ]
     },
     "execution_count": 175,
     "metadata": {},
     "output_type": "execute_result"
    }
   ],
   "source": [
    "df_fear = df.loc[df[\"label_1\"] == 4]\n",
    "df_fear[\"target_name\"].value_counts()"
   ]
  },
  {
   "cell_type": "code",
   "execution_count": 176,
   "metadata": {},
   "outputs": [
    {
     "data": {
      "text/plain": [
       "hap     891\n",
       "fear    371\n",
       "sad     358\n",
       "surp    188\n",
       "ang      32\n",
       "disg      3\n",
       "Name: target_name, dtype: int64"
      ]
     },
     "execution_count": 176,
     "metadata": {},
     "output_type": "execute_result"
    }
   ],
   "source": [
    "df_joy = df.loc[df[\"label_1\"] == 5]\n",
    "df_joy.target_name.value_counts()"
   ]
  },
  {
   "cell_type": "code",
   "execution_count": 177,
   "metadata": {},
   "outputs": [
    {
     "data": {
      "text/plain": [
       "fear    829\n",
       "hap     455\n",
       "sad     284\n",
       "surp     72\n",
       "ang      57\n",
       "disg      5\n",
       "Name: target_name, dtype: int64"
      ]
     },
     "execution_count": 177,
     "metadata": {},
     "output_type": "execute_result"
    }
   ],
   "source": [
    "df_sad = df.loc[df[\"label_1\"] == 6]\n",
    "df_sad.target_name.value_counts()"
   ]
  },
  {
   "cell_type": "code",
   "execution_count": 178,
   "metadata": {},
   "outputs": [
    {
     "data": {
      "text/plain": [
       "fear    528\n",
       "hap     458\n",
       "sad     258\n",
       "surp    110\n",
       "ang      59\n",
       "disg      9\n",
       "Name: target_name, dtype: int64"
      ]
     },
     "execution_count": 178,
     "metadata": {},
     "output_type": "execute_result"
    }
   ],
   "source": [
    "df_surp = df.loc[df[\"label_1\"] == 7]\n",
    "df_surp.target_name.value_counts()"
   ]
  },
  {
   "cell_type": "code",
   "execution_count": 179,
   "metadata": {},
   "outputs": [
    {
     "data": {
      "text/plain": [
       "hap     1140\n",
       "fear    1117\n",
       "sad      250\n",
       "surp     121\n",
       "ang       48\n",
       "disg       8\n",
       "Name: target_name, dtype: int64"
      ]
     },
     "execution_count": 179,
     "metadata": {},
     "output_type": "execute_result"
    }
   ],
   "source": [
    "df_trust = df[df[\"label_1\"] == 8]\n",
    "df_trust.target_name.value_counts()"
   ]
  },
  {
   "cell_type": "code",
   "execution_count": 180,
   "metadata": {},
   "outputs": [
    {
     "data": {
      "text/plain": [
       "fear    1204\n",
       "hap      792\n",
       "sad      279\n",
       "surp     107\n",
       "ang       94\n",
       "disg      10\n",
       "Name: target_name, dtype: int64"
      ]
     },
     "execution_count": 180,
     "metadata": {},
     "output_type": "execute_result"
    }
   ],
   "source": [
    "df_anger_2 = df[df[\"label_2_fill\"] == 1]\n",
    "df_anger_2.target_name.value_counts()                 "
   ]
  },
  {
   "cell_type": "code",
   "execution_count": 181,
   "metadata": {},
   "outputs": [
    {
     "data": {
      "text/plain": [
       "fear    1135\n",
       "hap     1033\n",
       "sad      328\n",
       "surp     152\n",
       "ang       43\n",
       "disg      10\n",
       "Name: target_name, dtype: int64"
      ]
     },
     "execution_count": 181,
     "metadata": {},
     "output_type": "execute_result"
    }
   ],
   "source": [
    "df_antic_2 = df[df[\"label_2_fill\"] == 2]\n",
    "df_antic_2.target_name.value_counts()"
   ]
  },
  {
   "cell_type": "code",
   "execution_count": 182,
   "metadata": {},
   "outputs": [
    {
     "data": {
      "text/plain": [
       "fear    757\n",
       "hap     749\n",
       "sad     335\n",
       "ang     105\n",
       "surp     55\n",
       "disg     27\n",
       "Name: target_name, dtype: int64"
      ]
     },
     "execution_count": 182,
     "metadata": {},
     "output_type": "execute_result"
    }
   ],
   "source": [
    "df_disg_2 = df[df[\"label_2_fill\"] == 3]\n",
    "df_disg_2.target_name.value_counts()"
   ]
  },
  {
   "cell_type": "code",
   "execution_count": 183,
   "metadata": {},
   "outputs": [
    {
     "data": {
      "text/plain": [
       "fear    991\n",
       "hap     542\n",
       "sad     277\n",
       "ang     106\n",
       "surp     86\n",
       "disg     14\n",
       "Name: target_name, dtype: int64"
      ]
     },
     "execution_count": 183,
     "metadata": {},
     "output_type": "execute_result"
    }
   ],
   "source": [
    "df_fear_2 = df[df[\"label_2_fill\"] == 4]\n",
    "df_fear_2.target_name.value_counts()"
   ]
  },
  {
   "cell_type": "code",
   "execution_count": 184,
   "metadata": {},
   "outputs": [
    {
     "data": {
      "text/plain": [
       "hap     1209\n",
       "fear     597\n",
       "sad      417\n",
       "surp     241\n",
       "ang       46\n",
       "disg       6\n",
       "Name: target_name, dtype: int64"
      ]
     },
     "execution_count": 184,
     "metadata": {},
     "output_type": "execute_result"
    }
   ],
   "source": [
    "df_hap_2 = df[df[\"label_2_fill\"] == 5]\n",
    "df_hap_2.target_name.value_counts()"
   ]
  },
  {
   "cell_type": "code",
   "execution_count": 185,
   "metadata": {},
   "outputs": [
    {
     "data": {
      "text/plain": [
       "fear    995\n",
       "hap     556\n",
       "sad     331\n",
       "surp     87\n",
       "ang      72\n",
       "disg      7\n",
       "Name: target_name, dtype: int64"
      ]
     },
     "execution_count": 185,
     "metadata": {},
     "output_type": "execute_result"
    }
   ],
   "source": [
    "df_sad_2 = df[df[\"label_2_fill\"] == 6]\n",
    "df_sad_2.target_name.value_counts()"
   ]
  },
  {
   "cell_type": "code",
   "execution_count": 186,
   "metadata": {},
   "outputs": [
    {
     "data": {
      "text/plain": [
       "fear    774\n",
       "hap     688\n",
       "sad     369\n",
       "surp    153\n",
       "ang      84\n",
       "disg     12\n",
       "Name: target_name, dtype: int64"
      ]
     },
     "execution_count": 186,
     "metadata": {},
     "output_type": "execute_result"
    }
   ],
   "source": [
    "df_surp_2 = df[df[\"label_2_fill\"] == 7]\n",
    "df_surp_2.target_name.value_counts()"
   ]
  },
  {
   "cell_type": "code",
   "execution_count": 187,
   "metadata": {},
   "outputs": [
    {
     "data": {
      "text/plain": [
       "fear    701\n",
       "hap     674\n",
       "sad     146\n",
       "surp     60\n",
       "ang      28\n",
       "disg      6\n",
       "Name: target_name, dtype: int64"
      ]
     },
     "execution_count": 187,
     "metadata": {},
     "output_type": "execute_result"
    }
   ],
   "source": [
    "df_trust_2 = df[df[\"label_2_fill\"] == 8]\n",
    "df_trust_2.target_name.value_counts()"
   ]
  },
  {
   "cell_type": "markdown",
   "metadata": {},
   "source": [
    "# Classification"
   ]
  },
  {
   "cell_type": "code",
   "execution_count": 188,
   "metadata": {},
   "outputs": [],
   "source": [
    "df[\"label_fear\"] = df[\"label_1\"].map({1:0, 2:0, 3:0, 4:1, 5:0, 6:0, 7:0, 8:0})"
   ]
  },
  {
   "cell_type": "code",
   "execution_count": 189,
   "metadata": {},
   "outputs": [],
   "source": [
    "df[\"target_fear\"] = df[\"target\"].map({1:0, 3:0, 4:1, 5:0, 6:0, 7:0})"
   ]
  },
  {
   "cell_type": "code",
   "execution_count": 190,
   "metadata": {},
   "outputs": [
    {
     "data": {
      "text/plain": [
       "0    10336\n",
       "1     7154\n",
       "Name: target_fear, dtype: int64"
      ]
     },
     "execution_count": 190,
     "metadata": {},
     "output_type": "execute_result"
    }
   ],
   "source": [
    "df.target_fear.value_counts()"
   ]
  },
  {
   "cell_type": "code",
   "execution_count": 191,
   "metadata": {},
   "outputs": [
    {
     "data": {
      "text/plain": [
       "0    15699\n",
       "1     1791\n",
       "Name: label_fear, dtype: int64"
      ]
     },
     "execution_count": 191,
     "metadata": {},
     "output_type": "execute_result"
    }
   ],
   "source": [
    "df.label_fear.value_counts()"
   ]
  },
  {
   "cell_type": "code",
   "execution_count": 192,
   "metadata": {},
   "outputs": [],
   "source": [
    "from sklearn.model_selection import train_test_split\n",
    "from sklearn.pipeline import Pipeline\n",
    "from sklearn.feature_extraction.text import TfidfVectorizer\n",
    "from sklearn.naive_bayes import MultinomialNB\n",
    "from sklearn.svm import LinearSVC\n",
    "from sklearn import metrics\n",
    "from sklearn.linear_model import LogisticRegression\n"
   ]
  },
  {
   "cell_type": "code",
   "execution_count": 193,
   "metadata": {},
   "outputs": [],
   "source": [
    "X = df[\"text_clean\"]\n",
    "y_target = df[\"target_fear\"]\n",
    "y_label = df[\"label_fear\"]\n",
    "\n",
    "X_train, X_test, y_train_t, y_test_t, y_train_l, y_test_l = train_test_split(X, y_target, y_label, test_size=0.30, random_state=42)"
   ]
  },
  {
   "cell_type": "code",
   "execution_count": 194,
   "metadata": {},
   "outputs": [],
   "source": [
    "# Naïve Bayes:\n",
    "text_clf_nb = Pipeline([('tfidf', TfidfVectorizer()),\n",
    "                     ('clf', MultinomialNB()),\n",
    "])\n",
    "\n",
    "# Linear SVC:\n",
    "text_clf_lsvc = Pipeline([('tfidf', TfidfVectorizer()),\n",
    "                     ('clf', LinearSVC()),\n",
    "])\n",
    "\n",
    "# LogisticRegression \n",
    "text_clf_lr = Pipeline([('tfidf', TfidfVectorizer()),\n",
    "                     ('clf', LogisticRegression()),\n",
    "])"
   ]
  },
  {
   "cell_type": "code",
   "execution_count": 195,
   "metadata": {},
   "outputs": [
    {
     "name": "stdout",
     "output_type": "stream",
     "text": [
      "Report of MultinomialNB_fear\n",
      "Confusion Matrix \n",
      " [[3143 1578]\n",
      " [ 316  210]]\n",
      "              precision    recall  f1-score   support\n",
      "\n",
      "           0       0.91      0.67      0.77      4721\n",
      "           1       0.12      0.40      0.18       526\n",
      "\n",
      "    accuracy                           0.64      5247\n",
      "   macro avg       0.51      0.53      0.47      5247\n",
      "weighted avg       0.83      0.64      0.71      5247\n",
      "\n",
      "Accuracy Score:  0.639031827711073\n"
     ]
    }
   ],
   "source": [
    "print(\"Report of MultinomialNB_fear\")\n",
    "text_clf_nb.fit(X_train, y_train_t)\n",
    "predictions = text_clf_nb.predict(X_test)\n",
    "print(\"Confusion Matrix \\n\",metrics.confusion_matrix(y_test_l,predictions))\n",
    "print(metrics.classification_report(y_test_l,predictions))\n",
    "print(\"Accuracy Score: \", metrics.accuracy_score(y_test_l,predictions))"
   ]
  },
  {
   "cell_type": "code",
   "execution_count": 196,
   "metadata": {},
   "outputs": [
    {
     "name": "stdout",
     "output_type": "stream",
     "text": [
      "Report of LinearSVC_fear\n",
      "Confusion Matrix \n",
      " [[2789 1932]\n",
      " [ 276  250]]\n",
      "              precision    recall  f1-score   support\n",
      "\n",
      "           0       0.91      0.59      0.72      4721\n",
      "           1       0.11      0.48      0.18       526\n",
      "\n",
      "    accuracy                           0.58      5247\n",
      "   macro avg       0.51      0.53      0.45      5247\n",
      "weighted avg       0.83      0.58      0.66      5247\n",
      "\n",
      "Accuracy Score:  0.5791881074899943\n"
     ]
    }
   ],
   "source": [
    "print(\"Report of LinearSVC_fear\")\n",
    "text_clf_lsvc.fit(X_train, y_train_t)\n",
    "predictions = text_clf_lsvc.predict(X_test)\n",
    "print(\"Confusion Matrix \\n\", metrics.confusion_matrix(y_test_l,predictions))\n",
    "print(metrics.classification_report(y_test_l,predictions))\n",
    "print(\"Accuracy Score: \", metrics.accuracy_score(y_test_l,predictions))"
   ]
  },
  {
   "cell_type": "code",
   "execution_count": 197,
   "metadata": {},
   "outputs": [
    {
     "name": "stdout",
     "output_type": "stream",
     "text": [
      "Report of LogisticRegression_fear\n",
      "Confusion Matrix \n",
      " [[3006 1715]\n",
      " [ 315  211]]\n",
      "              precision    recall  f1-score   support\n",
      "\n",
      "           0       0.91      0.64      0.75      4721\n",
      "           1       0.11      0.40      0.17       526\n",
      "\n",
      "    accuracy                           0.61      5247\n",
      "   macro avg       0.51      0.52      0.46      5247\n",
      "weighted avg       0.83      0.61      0.69      5247\n",
      "\n",
      "Accuracy Score:  0.6131122546216886\n"
     ]
    }
   ],
   "source": [
    "print(\"Report of LogisticRegression_fear\")\n",
    "text_clf_lr.fit(X_train, y_train_t)\n",
    "predictions = text_clf_lr.predict(X_test)\n",
    "print(\"Confusion Matrix \\n\", metrics.confusion_matrix(y_test_l,predictions))\n",
    "print(metrics.classification_report(y_test_l,predictions))\n",
    "print(\"Accuracy Score: \", metrics.accuracy_score(y_test_l,predictions))"
   ]
  },
  {
   "cell_type": "code",
   "execution_count": null,
   "metadata": {},
   "outputs": [],
   "source": []
  },
  {
   "cell_type": "code",
   "execution_count": 198,
   "metadata": {},
   "outputs": [],
   "source": [
    "df[\"label_hap\"] = df[\"label_1\"].map({1:0, 2:0, 3:0, 4:0, 5:1, 6:0, 7:0, 8:0})\n",
    "df[\"target_hap\"] = df[\"target\"].map({1:0, 3:0, 4:0, 5:1, 6:0, 7:0})"
   ]
  },
  {
   "cell_type": "code",
   "execution_count": 199,
   "metadata": {},
   "outputs": [
    {
     "data": {
      "text/plain": [
       "0    11247\n",
       "1     6243\n",
       "Name: target_hap, dtype: int64"
      ]
     },
     "execution_count": 199,
     "metadata": {},
     "output_type": "execute_result"
    }
   ],
   "source": [
    "df.target_hap.value_counts()"
   ]
  },
  {
   "cell_type": "code",
   "execution_count": 200,
   "metadata": {},
   "outputs": [
    {
     "data": {
      "text/plain": [
       "0    15647\n",
       "1     1843\n",
       "Name: label_hap, dtype: int64"
      ]
     },
     "execution_count": 200,
     "metadata": {},
     "output_type": "execute_result"
    }
   ],
   "source": [
    "df.label_hap.value_counts()"
   ]
  },
  {
   "cell_type": "code",
   "execution_count": 201,
   "metadata": {},
   "outputs": [],
   "source": [
    "X = df[\"text_clean\"]\n",
    "y_target = df[\"target_hap\"]\n",
    "y_label = df[\"label_hap\"]\n",
    "\n",
    "X_train, X_test, y_train_t, y_test_t, y_train_l, y_test_l = train_test_split(X, y_target, y_label, test_size=0.30, random_state=42)"
   ]
  },
  {
   "cell_type": "code",
   "execution_count": 202,
   "metadata": {
    "scrolled": true
   },
   "outputs": [
    {
     "name": "stdout",
     "output_type": "stream",
     "text": [
      "Report of MultinomialNB_hap\n",
      "Confusion Matrix \n",
      " [[4175  509]\n",
      " [ 445  118]]\n",
      "              precision    recall  f1-score   support\n",
      "\n",
      "           0       0.90      0.89      0.90      4684\n",
      "           1       0.19      0.21      0.20       563\n",
      "\n",
      "    accuracy                           0.82      5247\n",
      "   macro avg       0.55      0.55      0.55      5247\n",
      "weighted avg       0.83      0.82      0.82      5247\n",
      "\n",
      "Accuracy Score: 0.8181818181818182\n"
     ]
    }
   ],
   "source": [
    "print(\"Report of MultinomialNB_hap\")\n",
    "text_clf_nb.fit(X_train, y_train_t)\n",
    "predictions = text_clf_nb.predict(X_test)\n",
    "print(\"Confusion Matrix \\n\",metrics.confusion_matrix(y_test_l,predictions))\n",
    "print(metrics.classification_report(y_test_l,predictions))\n",
    "print(\"Accuracy Score:\", metrics.accuracy_score(y_test_l,predictions))"
   ]
  },
  {
   "cell_type": "code",
   "execution_count": 203,
   "metadata": {},
   "outputs": [
    {
     "name": "stdout",
     "output_type": "stream",
     "text": [
      "Report of LinearSVC_hap\n",
      "Confusion Matrix \n",
      " [[3169 1515]\n",
      " [ 298  265]]\n",
      "              precision    recall  f1-score   support\n",
      "\n",
      "           0       0.91      0.68      0.78      4684\n",
      "           1       0.15      0.47      0.23       563\n",
      "\n",
      "    accuracy                           0.65      5247\n",
      "   macro avg       0.53      0.57      0.50      5247\n",
      "weighted avg       0.83      0.65      0.72      5247\n",
      "\n",
      "Accuracy Score 0.6544692205069563\n"
     ]
    }
   ],
   "source": [
    "print(\"Report of LinearSVC_hap\")\n",
    "text_clf_lsvc.fit(X_train, y_train_t)\n",
    "predictions = text_clf_lsvc.predict(X_test)\n",
    "print(\"Confusion Matrix \\n\",metrics.confusion_matrix(y_test_l,predictions))\n",
    "print(metrics.classification_report(y_test_l,predictions))\n",
    "print(\"Accuracy Score\", metrics.accuracy_score(y_test_l,predictions))"
   ]
  },
  {
   "cell_type": "code",
   "execution_count": 204,
   "metadata": {},
   "outputs": [
    {
     "name": "stdout",
     "output_type": "stream",
     "text": [
      "Report of LogisticRegression_hap\n",
      "Confusion Matrix \n",
      " [[3376 1308]\n",
      " [ 334  229]]\n",
      "              precision    recall  f1-score   support\n",
      "\n",
      "           0       0.91      0.72      0.80      4684\n",
      "           1       0.15      0.41      0.22       563\n",
      "\n",
      "    accuracy                           0.69      5247\n",
      "   macro avg       0.53      0.56      0.51      5247\n",
      "weighted avg       0.83      0.69      0.74      5247\n",
      "\n",
      "Accuracy Score 0.6870592719649323\n"
     ]
    }
   ],
   "source": [
    "print(\"Report of LogisticRegression_hap\")\n",
    "text_clf_lr.fit(X_train, y_train_t)\n",
    "predictions = text_clf_lr.predict(X_test)\n",
    "print(\"Confusion Matrix \\n\",metrics.confusion_matrix(y_test_l,predictions))\n",
    "print(metrics.classification_report(y_test_l,predictions))\n",
    "print(\"Accuracy Score\", metrics.accuracy_score(y_test_l,predictions))"
   ]
  },
  {
   "cell_type": "code",
   "execution_count": null,
   "metadata": {},
   "outputs": [],
   "source": []
  },
  {
   "cell_type": "code",
   "execution_count": 205,
   "metadata": {},
   "outputs": [],
   "source": [
    "df[\"label_sad\"] = df[\"label_1\"].map({1:0, 2: 0, 3:0, 4:0, 5:0, 6:1, 7:0, 8:0})\n",
    "df[\"target_sad\"] = df[\"target\"].map({1:0, 3:0, 4:0, 5:0, 6:1, 7:0})"
   ]
  },
  {
   "cell_type": "code",
   "execution_count": 206,
   "metadata": {},
   "outputs": [
    {
     "data": {
      "text/plain": [
       "0    15008\n",
       "1     2482\n",
       "Name: target_sad, dtype: int64"
      ]
     },
     "execution_count": 206,
     "metadata": {},
     "output_type": "execute_result"
    }
   ],
   "source": [
    "df.target_sad.value_counts()"
   ]
  },
  {
   "cell_type": "code",
   "execution_count": 207,
   "metadata": {},
   "outputs": [
    {
     "data": {
      "text/plain": [
       "0    15788\n",
       "1     1702\n",
       "Name: label_sad, dtype: int64"
      ]
     },
     "execution_count": 207,
     "metadata": {},
     "output_type": "execute_result"
    }
   ],
   "source": [
    "df.label_sad.value_counts()"
   ]
  },
  {
   "cell_type": "code",
   "execution_count": 208,
   "metadata": {},
   "outputs": [],
   "source": [
    "X = df[\"text_clean\"]\n",
    "y_target = df[\"target_sad\"]\n",
    "y_label = df[\"label_sad\"]\n",
    "\n",
    "X_train, X_test, y_train_t, y_test_t, y_train_l, y_test_l = train_test_split(X, y_target, y_label, test_size=0.30, random_state=42)"
   ]
  },
  {
   "cell_type": "code",
   "execution_count": 209,
   "metadata": {},
   "outputs": [
    {
     "name": "stdout",
     "output_type": "stream",
     "text": [
      "Report of MultinomialNB_sad\n",
      "Confusion Matrix \n",
      " [[4735    3]\n",
      " [ 509    0]]\n",
      "              precision    recall  f1-score   support\n",
      "\n",
      "           0       0.90      1.00      0.95      4738\n",
      "           1       0.00      0.00      0.00       509\n",
      "\n",
      "    accuracy                           0.90      5247\n",
      "   macro avg       0.45      0.50      0.47      5247\n",
      "weighted avg       0.82      0.90      0.86      5247\n",
      "\n",
      "Accuracy Score: 0.9024204307223175\n"
     ]
    }
   ],
   "source": [
    "print(\"Report of MultinomialNB_sad\")\n",
    "text_clf_nb.fit(X_train, y_train_t)\n",
    "predictions = text_clf_nb.predict(X_test)\n",
    "print(\"Confusion Matrix \\n\",metrics.confusion_matrix(y_test_l,predictions))\n",
    "print(metrics.classification_report(y_test_l,predictions))\n",
    "print(\"Accuracy Score:\", metrics.accuracy_score(y_test_l,predictions))"
   ]
  },
  {
   "cell_type": "code",
   "execution_count": 210,
   "metadata": {},
   "outputs": [
    {
     "name": "stdout",
     "output_type": "stream",
     "text": [
      "Report of LinearSVC_sad\n",
      "Confusion Matrix \n",
      " [[4289  449]\n",
      " [ 454   55]]\n",
      "              precision    recall  f1-score   support\n",
      "\n",
      "           0       0.90      0.91      0.90      4738\n",
      "           1       0.11      0.11      0.11       509\n",
      "\n",
      "    accuracy                           0.83      5247\n",
      "   macro avg       0.51      0.51      0.51      5247\n",
      "weighted avg       0.83      0.83      0.83      5247\n",
      "\n",
      "Accuracy Score 0.8279016580903373\n"
     ]
    }
   ],
   "source": [
    "print(\"Report of LinearSVC_sad\")\n",
    "text_clf_lsvc.fit(X_train, y_train_t)\n",
    "predictions = text_clf_lsvc.predict(X_test)\n",
    "print(\"Confusion Matrix \\n\",metrics.confusion_matrix(y_test_l,predictions))\n",
    "print(metrics.classification_report(y_test_l,predictions))\n",
    "print(\"Accuracy Score\", metrics.accuracy_score(y_test_l,predictions))"
   ]
  },
  {
   "cell_type": "code",
   "execution_count": 211,
   "metadata": {},
   "outputs": [
    {
     "name": "stdout",
     "output_type": "stream",
     "text": [
      "Report of LogisticRegression_sad\n",
      "Confusion Matrix \n",
      " [[4502  236]\n",
      " [ 470   39]]\n",
      "              precision    recall  f1-score   support\n",
      "\n",
      "           0       0.91      0.95      0.93      4738\n",
      "           1       0.14      0.08      0.10       509\n",
      "\n",
      "    accuracy                           0.87      5247\n",
      "   macro avg       0.52      0.51      0.51      5247\n",
      "weighted avg       0.83      0.87      0.85      5247\n",
      "\n",
      "Accuracy Score 0.8654469220506956\n"
     ]
    }
   ],
   "source": [
    "print(\"Report of LogisticRegression_sad\")\n",
    "text_clf_lr.fit(X_train, y_train_t)\n",
    "predictions = text_clf_lr.predict(X_test)\n",
    "print(\"Confusion Matrix \\n\",metrics.confusion_matrix(y_test_l,predictions))\n",
    "print(metrics.classification_report(y_test_l,predictions))\n",
    "print(\"Accuracy Score\", metrics.accuracy_score(y_test_l,predictions))"
   ]
  },
  {
   "cell_type": "markdown",
   "metadata": {},
   "source": [
    "# SentArt vs label_2"
   ]
  },
  {
   "cell_type": "code",
   "execution_count": 212,
   "metadata": {},
   "outputs": [],
   "source": [
    "df[\"label_fear_2\"] = df[\"label_2_fill\"].map({1:0, 2:0, 3:0, 4:1, 5:0, 6:0, 7:0, 8:0})\n",
    "X = df[\"text_clean\"]\n",
    "y_target = df[\"target_fear\"]\n",
    "y_label = df[\"label_fear_2\"]\n",
    "\n",
    "X_train, X_test, y_train_t, y_test_t, y_train_l, y_test_l = train_test_split(X, y_target, y_label, test_size=0.30, random_state=42)"
   ]
  },
  {
   "cell_type": "code",
   "execution_count": 213,
   "metadata": {},
   "outputs": [
    {
     "name": "stdout",
     "output_type": "stream",
     "text": [
      "0    15474\n",
      "1     2016\n",
      "Name: label_fear_2, dtype: int64\n",
      "0    10336\n",
      "1     7154\n",
      "Name: target_fear, dtype: int64\n"
     ]
    }
   ],
   "source": [
    "print(df.label_fear_2.value_counts())\n",
    "print(df.target_fear.value_counts())\n"
   ]
  },
  {
   "cell_type": "code",
   "execution_count": 214,
   "metadata": {},
   "outputs": [
    {
     "name": "stdout",
     "output_type": "stream",
     "text": [
      "Report of MultinomialNB_fear_2\n",
      "Confusion Matrix \n",
      " [[3113 1541]\n",
      " [ 346  247]]\n",
      "              precision    recall  f1-score   support\n",
      "\n",
      "           0       0.90      0.67      0.77      4654\n",
      "           1       0.14      0.42      0.21       593\n",
      "\n",
      "    accuracy                           0.64      5247\n",
      "   macro avg       0.52      0.54      0.49      5247\n",
      "weighted avg       0.81      0.64      0.70      5247\n",
      "\n",
      "Accuracy Score:  0.6403659233847913\n"
     ]
    }
   ],
   "source": [
    "print(\"Report of MultinomialNB_fear_2\")\n",
    "text_clf_nb.fit(X_train, y_train_t)\n",
    "predictions = text_clf_nb.predict(X_test)\n",
    "print(\"Confusion Matrix \\n\",metrics.confusion_matrix(y_test_l,predictions))\n",
    "print(metrics.classification_report(y_test_l,predictions))\n",
    "print(\"Accuracy Score: \", metrics.accuracy_score(y_test_l,predictions))"
   ]
  },
  {
   "cell_type": "code",
   "execution_count": 215,
   "metadata": {},
   "outputs": [
    {
     "name": "stdout",
     "output_type": "stream",
     "text": [
      "Report of LinearSVC_fear_2\n",
      "Confusion Matrix \n",
      " [[2764 1890]\n",
      " [ 301  292]]\n",
      "              precision    recall  f1-score   support\n",
      "\n",
      "           0       0.90      0.59      0.72      4654\n",
      "           1       0.13      0.49      0.21       593\n",
      "\n",
      "    accuracy                           0.58      5247\n",
      "   macro avg       0.52      0.54      0.46      5247\n",
      "weighted avg       0.82      0.58      0.66      5247\n",
      "\n",
      "Accuracy Score:  0.5824280541261674\n"
     ]
    }
   ],
   "source": [
    "print(\"Report of LinearSVC_fear_2\")\n",
    "text_clf_lsvc.fit(X_train, y_train_t)\n",
    "predictions = text_clf_lsvc.predict(X_test)\n",
    "print(\"Confusion Matrix \\n\", metrics.confusion_matrix(y_test_l,predictions))\n",
    "print(metrics.classification_report(y_test_l,predictions))\n",
    "print(\"Accuracy Score: \", metrics.accuracy_score(y_test_l,predictions))"
   ]
  },
  {
   "cell_type": "code",
   "execution_count": 216,
   "metadata": {},
   "outputs": [
    {
     "name": "stdout",
     "output_type": "stream",
     "text": [
      "Report of LogisticRegression_fear_2\n",
      "Confusion Matrix \n",
      " [[2981 1673]\n",
      " [ 340  253]]\n",
      "              precision    recall  f1-score   support\n",
      "\n",
      "           0       0.90      0.64      0.75      4654\n",
      "           1       0.13      0.43      0.20       593\n",
      "\n",
      "    accuracy                           0.62      5247\n",
      "   macro avg       0.51      0.53      0.47      5247\n",
      "weighted avg       0.81      0.62      0.69      5247\n",
      "\n",
      "Accuracy Score 0.6163522012578616\n"
     ]
    }
   ],
   "source": [
    "print(\"Report of LogisticRegression_fear_2\")\n",
    "text_clf_lr.fit(X_train, y_train_t)\n",
    "predictions = text_clf_lr.predict(X_test)\n",
    "print(\"Confusion Matrix \\n\",metrics.confusion_matrix(y_test_l,predictions))\n",
    "print(metrics.classification_report(y_test_l,predictions))\n",
    "print(\"Accuracy Score\", metrics.accuracy_score(y_test_l,predictions))"
   ]
  },
  {
   "cell_type": "code",
   "execution_count": 217,
   "metadata": {},
   "outputs": [],
   "source": [
    "df[\"label_hap_2\"] = df[\"label_2_fill\"].map({1: 0, 2: 0, 3:0, 4:0, 5:1, 6:0, 7:0, 8:0})\n",
    "X = df[\"text_clean\"]\n",
    "y_target = df[\"target_hap\"]\n",
    "y_label = df[\"label_hap_2\"]\n",
    "\n",
    "X_train, X_test, y_train_t, y_test_t, y_train_l, y_test_l = train_test_split(X, y_target, y_label, test_size=0.30, random_state=42)"
   ]
  },
  {
   "cell_type": "code",
   "execution_count": 218,
   "metadata": {},
   "outputs": [
    {
     "name": "stdout",
     "output_type": "stream",
     "text": [
      "0    14974\n",
      "1     2516\n",
      "Name: label_hap_2, dtype: int64\n",
      "0    11247\n",
      "1     6243\n",
      "Name: target_hap, dtype: int64\n"
     ]
    }
   ],
   "source": [
    "print(df.label_hap_2.value_counts())\n",
    "print(df.target_hap.value_counts())"
   ]
  },
  {
   "cell_type": "code",
   "execution_count": 219,
   "metadata": {},
   "outputs": [
    {
     "name": "stdout",
     "output_type": "stream",
     "text": [
      "Report of MultinomialNB_hap_2\n",
      "Confusion Matrix \n",
      " [[3986  460]\n",
      " [ 634  167]]\n",
      "              precision    recall  f1-score   support\n",
      "\n",
      "           0       0.86      0.90      0.88      4446\n",
      "           1       0.27      0.21      0.23       801\n",
      "\n",
      "    accuracy                           0.79      5247\n",
      "   macro avg       0.56      0.55      0.56      5247\n",
      "weighted avg       0.77      0.79      0.78      5247\n",
      "\n",
      "Accuracy Score:  0.7914999047074519\n"
     ]
    }
   ],
   "source": [
    "print(\"Report of MultinomialNB_hap_2\")\n",
    "text_clf_nb.fit(X_train, y_train_t)\n",
    "predictions = text_clf_nb.predict(X_test)\n",
    "print(\"Confusion Matrix \\n\",metrics.confusion_matrix(y_test_l,predictions))\n",
    "print(metrics.classification_report(y_test_l,predictions))\n",
    "print(\"Accuracy Score: \", metrics.accuracy_score(y_test_l,predictions))"
   ]
  },
  {
   "cell_type": "code",
   "execution_count": 220,
   "metadata": {},
   "outputs": [
    {
     "name": "stdout",
     "output_type": "stream",
     "text": [
      "Report of LinearSVC_hap_2\n",
      "Confusion Matrix \n",
      " [[3032 1414]\n",
      " [ 435  366]]\n",
      "              precision    recall  f1-score   support\n",
      "\n",
      "           0       0.87      0.68      0.77      4446\n",
      "           1       0.21      0.46      0.28       801\n",
      "\n",
      "    accuracy                           0.65      5247\n",
      "   macro avg       0.54      0.57      0.52      5247\n",
      "weighted avg       0.77      0.65      0.69      5247\n",
      "\n",
      "Accuracy Score:  0.6476081570421193\n"
     ]
    }
   ],
   "source": [
    "print(\"Report of LinearSVC_hap_2\")\n",
    "text_clf_lsvc.fit(X_train, y_train_t)\n",
    "predictions = text_clf_lsvc.predict(X_test)\n",
    "print(\"Confusion Matrix \\n\", metrics.confusion_matrix(y_test_l,predictions))\n",
    "print(metrics.classification_report(y_test_l,predictions))\n",
    "print(\"Accuracy Score: \", metrics.accuracy_score(y_test_l,predictions))"
   ]
  },
  {
   "cell_type": "code",
   "execution_count": 221,
   "metadata": {},
   "outputs": [
    {
     "name": "stdout",
     "output_type": "stream",
     "text": [
      "Report of LogisticRegression_hap_2\n",
      "Confusion Matrix \n",
      " [[3222 1224]\n",
      " [ 488  313]]\n",
      "              precision    recall  f1-score   support\n",
      "\n",
      "           0       0.87      0.72      0.79      4446\n",
      "           1       0.20      0.39      0.27       801\n",
      "\n",
      "    accuracy                           0.67      5247\n",
      "   macro avg       0.54      0.56      0.53      5247\n",
      "weighted avg       0.77      0.67      0.71      5247\n",
      "\n",
      "Accuracy Score 0.6737183152277492\n"
     ]
    }
   ],
   "source": [
    "print(\"Report of LogisticRegression_hap_2\")\n",
    "text_clf_lr.fit(X_train, y_train_t)\n",
    "predictions = text_clf_lr.predict(X_test)\n",
    "print(\"Confusion Matrix \\n\",metrics.confusion_matrix(y_test_l,predictions))\n",
    "print(metrics.classification_report(y_test_l,predictions))\n",
    "print(\"Accuracy Score\", metrics.accuracy_score(y_test_l,predictions))"
   ]
  },
  {
   "cell_type": "code",
   "execution_count": 222,
   "metadata": {},
   "outputs": [],
   "source": [
    "df[\"label_sad_2\"] = df[\"label_2_fill\"].map({1: 0, 2: 0, 3:0, 4:0, 5:0, 6:1, 7:0, 8:0})\n",
    "X = df[\"text_clean\"]\n",
    "y_target = df[\"target_sad\"]\n",
    "y_label = df[\"label_sad_2\"]\n",
    "\n",
    "X_train, X_test, y_train_t, y_test_t, y_train_l, y_test_l = train_test_split(X, y_target, y_label, test_size=0.30, random_state=42)"
   ]
  },
  {
   "cell_type": "code",
   "execution_count": 223,
   "metadata": {},
   "outputs": [
    {
     "name": "stdout",
     "output_type": "stream",
     "text": [
      "0    15442\n",
      "1     2048\n",
      "Name: label_sad_2, dtype: int64\n",
      "0    15008\n",
      "1     2482\n",
      "Name: target_sad, dtype: int64\n"
     ]
    }
   ],
   "source": [
    "print(df.label_sad_2.value_counts())\n",
    "print(df.target_sad.value_counts())\n"
   ]
  },
  {
   "cell_type": "code",
   "execution_count": 224,
   "metadata": {},
   "outputs": [
    {
     "name": "stdout",
     "output_type": "stream",
     "text": [
      "Report of MultinomialNB_sad_2\n",
      "Confusion Matrix \n",
      " [[4627    3]\n",
      " [ 617    0]]\n",
      "              precision    recall  f1-score   support\n",
      "\n",
      "           0       0.88      1.00      0.94      4630\n",
      "           1       0.00      0.00      0.00       617\n",
      "\n",
      "    accuracy                           0.88      5247\n",
      "   macro avg       0.44      0.50      0.47      5247\n",
      "weighted avg       0.78      0.88      0.83      5247\n",
      "\n",
      "Accuracy Score:  0.8818372403278064\n"
     ]
    }
   ],
   "source": [
    "print(\"Report of MultinomialNB_sad_2\")\n",
    "text_clf_nb.fit(X_train, y_train_t)\n",
    "predictions = text_clf_nb.predict(X_test)\n",
    "print(\"Confusion Matrix \\n\",metrics.confusion_matrix(y_test_l,predictions))\n",
    "print(metrics.classification_report(y_test_l,predictions))\n",
    "print(\"Accuracy Score: \", metrics.accuracy_score(y_test_l,predictions))"
   ]
  },
  {
   "cell_type": "code",
   "execution_count": 225,
   "metadata": {},
   "outputs": [
    {
     "name": "stdout",
     "output_type": "stream",
     "text": [
      "Report of LinearSVC_sad_2\n",
      "Confusion Matrix \n",
      " [[4199  431]\n",
      " [ 544   73]]\n",
      "              precision    recall  f1-score   support\n",
      "\n",
      "           0       0.89      0.91      0.90      4630\n",
      "           1       0.14      0.12      0.13       617\n",
      "\n",
      "    accuracy                           0.81      5247\n",
      "   macro avg       0.52      0.51      0.51      5247\n",
      "weighted avg       0.80      0.81      0.81      5247\n",
      "\n",
      "Accuracy Score:  0.8141795311606632\n"
     ]
    }
   ],
   "source": [
    "print(\"Report of LinearSVC_sad_2\")\n",
    "text_clf_lsvc.fit(X_train, y_train_t)\n",
    "predictions = text_clf_lsvc.predict(X_test)\n",
    "print(\"Confusion Matrix \\n\", metrics.confusion_matrix(y_test_l,predictions))\n",
    "print(metrics.classification_report(y_test_l,predictions))\n",
    "print(\"Accuracy Score: \", metrics.accuracy_score(y_test_l,predictions))"
   ]
  },
  {
   "cell_type": "code",
   "execution_count": 226,
   "metadata": {},
   "outputs": [
    {
     "name": "stdout",
     "output_type": "stream",
     "text": [
      "Report of LogisticRegression_sad_2\n",
      "Confusion Matrix \n",
      " [[4404  226]\n",
      " [ 568   49]]\n",
      "              precision    recall  f1-score   support\n",
      "\n",
      "           0       0.89      0.95      0.92      4630\n",
      "           1       0.18      0.08      0.11       617\n",
      "\n",
      "    accuracy                           0.85      5247\n",
      "   macro avg       0.53      0.52      0.51      5247\n",
      "weighted avg       0.80      0.85      0.82      5247\n",
      "\n",
      "Accuracy Score 0.848675433581094\n"
     ]
    }
   ],
   "source": [
    "print(\"Report of LogisticRegression_sad_2\")\n",
    "text_clf_lr.fit(X_train, y_train_t)\n",
    "predictions = text_clf_lr.predict(X_test)\n",
    "print(\"Confusion Matrix \\n\",metrics.confusion_matrix(y_test_l,predictions))\n",
    "print(metrics.classification_report(y_test_l,predictions))\n",
    "print(\"Accuracy Score\", metrics.accuracy_score(y_test_l,predictions))"
   ]
  },
  {
   "cell_type": "code",
   "execution_count": null,
   "metadata": {},
   "outputs": [],
   "source": []
  },
  {
   "cell_type": "code",
   "execution_count": null,
   "metadata": {},
   "outputs": [],
   "source": []
  },
  {
   "cell_type": "code",
   "execution_count": null,
   "metadata": {},
   "outputs": [],
   "source": []
  },
  {
   "cell_type": "markdown",
   "metadata": {},
   "source": [
    "# POS vs NEG"
   ]
  },
  {
   "cell_type": "code",
   "execution_count": 227,
   "metadata": {},
   "outputs": [
    {
     "data": {
      "text/html": [
       "<div>\n",
       "<style scoped>\n",
       "    .dataframe tbody tr th:only-of-type {\n",
       "        vertical-align: middle;\n",
       "    }\n",
       "\n",
       "    .dataframe tbody tr th {\n",
       "        vertical-align: top;\n",
       "    }\n",
       "\n",
       "    .dataframe thead th {\n",
       "        text-align: right;\n",
       "    }\n",
       "</style>\n",
       "<table border=\"1\" class=\"dataframe\">\n",
       "  <thead>\n",
       "    <tr style=\"text-align: right;\">\n",
       "      <th></th>\n",
       "      <th>text_clean</th>\n",
       "      <th>label_1</th>\n",
       "      <th>label_2_fill</th>\n",
       "      <th>ang</th>\n",
       "      <th>fear</th>\n",
       "      <th>disg</th>\n",
       "      <th>hap</th>\n",
       "      <th>sad</th>\n",
       "      <th>surp</th>\n",
       "      <th>target</th>\n",
       "      <th>target_name</th>\n",
       "      <th>label_fear</th>\n",
       "      <th>target_fear</th>\n",
       "      <th>label_hap</th>\n",
       "      <th>target_hap</th>\n",
       "      <th>label_sad</th>\n",
       "      <th>target_sad</th>\n",
       "      <th>label_fear_2</th>\n",
       "      <th>label_hap_2</th>\n",
       "      <th>label_sad_2</th>\n",
       "    </tr>\n",
       "  </thead>\n",
       "  <tbody>\n",
       "    <tr>\n",
       "      <th>0</th>\n",
       "      <td>and i dont think we need to discuss the trinit...</td>\n",
       "      <td>8</td>\n",
       "      <td>1</td>\n",
       "      <td>0.240</td>\n",
       "      <td>1.354</td>\n",
       "      <td>-0.002</td>\n",
       "      <td>0.818</td>\n",
       "      <td>0.657</td>\n",
       "      <td>-0.216</td>\n",
       "      <td>4.0</td>\n",
       "      <td>fear</td>\n",
       "      <td>0</td>\n",
       "      <td>1</td>\n",
       "      <td>0</td>\n",
       "      <td>0</td>\n",
       "      <td>0</td>\n",
       "      <td>0</td>\n",
       "      <td>0</td>\n",
       "      <td>0</td>\n",
       "      <td>0</td>\n",
       "    </tr>\n",
       "    <tr>\n",
       "      <th>1</th>\n",
       "      <td>so get up out of your bed</td>\n",
       "      <td>1</td>\n",
       "      <td>1</td>\n",
       "      <td>0.524</td>\n",
       "      <td>0.638</td>\n",
       "      <td>0.129</td>\n",
       "      <td>0.776</td>\n",
       "      <td>0.422</td>\n",
       "      <td>-0.158</td>\n",
       "      <td>5.0</td>\n",
       "      <td>hap</td>\n",
       "      <td>0</td>\n",
       "      <td>0</td>\n",
       "      <td>0</td>\n",
       "      <td>1</td>\n",
       "      <td>0</td>\n",
       "      <td>0</td>\n",
       "      <td>0</td>\n",
       "      <td>0</td>\n",
       "      <td>0</td>\n",
       "    </tr>\n",
       "    <tr>\n",
       "      <th>2</th>\n",
       "      <td>a confession that you hired person and are res...</td>\n",
       "      <td>1</td>\n",
       "      <td>6</td>\n",
       "      <td>0.893</td>\n",
       "      <td>0.984</td>\n",
       "      <td>0.449</td>\n",
       "      <td>1.317</td>\n",
       "      <td>0.941</td>\n",
       "      <td>0.052</td>\n",
       "      <td>5.0</td>\n",
       "      <td>hap</td>\n",
       "      <td>0</td>\n",
       "      <td>0</td>\n",
       "      <td>0</td>\n",
       "      <td>1</td>\n",
       "      <td>0</td>\n",
       "      <td>0</td>\n",
       "      <td>0</td>\n",
       "      <td>0</td>\n",
       "      <td>1</td>\n",
       "    </tr>\n",
       "    <tr>\n",
       "      <th>3</th>\n",
       "      <td>a dead man has one half hour to raise his roll...</td>\n",
       "      <td>1</td>\n",
       "      <td>1</td>\n",
       "      <td>0.531</td>\n",
       "      <td>0.532</td>\n",
       "      <td>0.192</td>\n",
       "      <td>0.705</td>\n",
       "      <td>0.810</td>\n",
       "      <td>-0.044</td>\n",
       "      <td>6.0</td>\n",
       "      <td>sad</td>\n",
       "      <td>0</td>\n",
       "      <td>0</td>\n",
       "      <td>0</td>\n",
       "      <td>0</td>\n",
       "      <td>0</td>\n",
       "      <td>1</td>\n",
       "      <td>0</td>\n",
       "      <td>0</td>\n",
       "      <td>0</td>\n",
       "    </tr>\n",
       "    <tr>\n",
       "      <th>4</th>\n",
       "      <td>a guy thats talking about hes gonna solve all ...</td>\n",
       "      <td>1</td>\n",
       "      <td>1</td>\n",
       "      <td>-0.040</td>\n",
       "      <td>0.501</td>\n",
       "      <td>-0.145</td>\n",
       "      <td>0.766</td>\n",
       "      <td>0.492</td>\n",
       "      <td>0.010</td>\n",
       "      <td>5.0</td>\n",
       "      <td>hap</td>\n",
       "      <td>0</td>\n",
       "      <td>0</td>\n",
       "      <td>0</td>\n",
       "      <td>1</td>\n",
       "      <td>0</td>\n",
       "      <td>0</td>\n",
       "      <td>0</td>\n",
       "      <td>0</td>\n",
       "      <td>0</td>\n",
       "    </tr>\n",
       "  </tbody>\n",
       "</table>\n",
       "</div>"
      ],
      "text/plain": [
       "                                          text_clean  label_1  label_2_fill  \\\n",
       "0  and i dont think we need to discuss the trinit...        8             1   \n",
       "1                          so get up out of your bed        1             1   \n",
       "2  a confession that you hired person and are res...        1             6   \n",
       "3  a dead man has one half hour to raise his roll...        1             1   \n",
       "4  a guy thats talking about hes gonna solve all ...        1             1   \n",
       "\n",
       "     ang   fear   disg    hap    sad   surp  target target_name  label_fear  \\\n",
       "0  0.240  1.354 -0.002  0.818  0.657 -0.216     4.0        fear           0   \n",
       "1  0.524  0.638  0.129  0.776  0.422 -0.158     5.0         hap           0   \n",
       "2  0.893  0.984  0.449  1.317  0.941  0.052     5.0         hap           0   \n",
       "3  0.531  0.532  0.192  0.705  0.810 -0.044     6.0         sad           0   \n",
       "4 -0.040  0.501 -0.145  0.766  0.492  0.010     5.0         hap           0   \n",
       "\n",
       "   target_fear  label_hap  target_hap  label_sad  target_sad  label_fear_2  \\\n",
       "0            1          0           0          0           0             0   \n",
       "1            0          0           1          0           0             0   \n",
       "2            0          0           1          0           0             0   \n",
       "3            0          0           0          0           1             0   \n",
       "4            0          0           1          0           0             0   \n",
       "\n",
       "   label_hap_2  label_sad_2  \n",
       "0            0            0  \n",
       "1            0            0  \n",
       "2            0            1  \n",
       "3            0            0  \n",
       "4            0            0  "
      ]
     },
     "execution_count": 227,
     "metadata": {},
     "output_type": "execute_result"
    }
   ],
   "source": [
    "df.head()"
   ]
  },
  {
   "cell_type": "code",
   "execution_count": 228,
   "metadata": {},
   "outputs": [],
   "source": [
    "df[\"label_polarity\"] = df[\"label_1\"].map({1:0, 2:1, 3:0, 4:0, 5:1, 6:0, 7:0, 8:1})\n",
    "df[\"target_polarity\"] = df[\"target\"].map({1:0, 3:0, 4:0, 5:1, 6:0, 7:0})\n",
    "X = df[\"text_clean\"]\n",
    "y_target = df[\"target_polarity\"]\n",
    "y_label = df[\"label_polarity\"]\n",
    "\n",
    "X_train, X_test, y_train_t, y_test_t, y_train_l, y_test_l = train_test_split(X, y_target, y_label, test_size=0.30, random_state=42)"
   ]
  },
  {
   "cell_type": "code",
   "execution_count": 229,
   "metadata": {},
   "outputs": [
    {
     "data": {
      "text/plain": [
       "0    10257\n",
       "1     7233\n",
       "Name: label_polarity, dtype: int64"
      ]
     },
     "execution_count": 229,
     "metadata": {},
     "output_type": "execute_result"
    }
   ],
   "source": [
    "df.label_polarity.value_counts()"
   ]
  },
  {
   "cell_type": "code",
   "execution_count": 230,
   "metadata": {},
   "outputs": [
    {
     "data": {
      "text/plain": [
       "0    11247\n",
       "1     6243\n",
       "Name: target_polarity, dtype: int64"
      ]
     },
     "execution_count": 230,
     "metadata": {},
     "output_type": "execute_result"
    }
   ],
   "source": [
    "df.target_polarity.value_counts()"
   ]
  },
  {
   "cell_type": "code",
   "execution_count": 231,
   "metadata": {},
   "outputs": [
    {
     "name": "stdout",
     "output_type": "stream",
     "text": [
      "Report of MultinomialNB Polarity\n",
      "Confusion Matrix \n",
      " [[2752  308]\n",
      " [1868  319]]\n",
      "              precision    recall  f1-score   support\n",
      "\n",
      "           0       0.60      0.90      0.72      3060\n",
      "           1       0.51      0.15      0.23      2187\n",
      "\n",
      "    accuracy                           0.59      5247\n",
      "   macro avg       0.55      0.52      0.47      5247\n",
      "weighted avg       0.56      0.59      0.51      5247\n",
      "\n",
      "Accuracy Score:  0.5852868305698494\n"
     ]
    }
   ],
   "source": [
    "print(\"Report of MultinomialNB Polarity\")\n",
    "text_clf_nb.fit(X_train, y_train_t)\n",
    "predictions = text_clf_nb.predict(X_test)\n",
    "print(\"Confusion Matrix \\n\",metrics.confusion_matrix(y_test_l,predictions))\n",
    "print(metrics.classification_report(y_test_l,predictions))\n",
    "print(\"Accuracy Score: \", metrics.accuracy_score(y_test_l,predictions))"
   ]
  },
  {
   "cell_type": "code",
   "execution_count": 232,
   "metadata": {},
   "outputs": [
    {
     "name": "stdout",
     "output_type": "stream",
     "text": [
      "Report of LinearSVC Polarity\n",
      "Confusion Matrix \n",
      " [[2126  934]\n",
      " [1341  846]]\n",
      "              precision    recall  f1-score   support\n",
      "\n",
      "           0       0.61      0.69      0.65      3060\n",
      "           1       0.48      0.39      0.43      2187\n",
      "\n",
      "    accuracy                           0.57      5247\n",
      "   macro avg       0.54      0.54      0.54      5247\n",
      "weighted avg       0.56      0.57      0.56      5247\n",
      "\n",
      "Accuracy Score:  0.5664189060415475\n"
     ]
    }
   ],
   "source": [
    "print(\"Report of LinearSVC Polarity\")\n",
    "text_clf_lsvc.fit(X_train, y_train_t)\n",
    "predictions = text_clf_lsvc.predict(X_test)\n",
    "print(\"Confusion Matrix \\n\", metrics.confusion_matrix(y_test_l,predictions))\n",
    "print(metrics.classification_report(y_test_l,predictions))\n",
    "print(\"Accuracy Score: \", metrics.accuracy_score(y_test_l,predictions))"
   ]
  },
  {
   "cell_type": "code",
   "execution_count": 233,
   "metadata": {},
   "outputs": [
    {
     "name": "stdout",
     "output_type": "stream",
     "text": [
      "Report of LogisticRegression Polarity\n",
      "Confusion Matrix \n",
      " [[2257  803]\n",
      " [1453  734]]\n",
      "              precision    recall  f1-score   support\n",
      "\n",
      "           0       0.61      0.74      0.67      3060\n",
      "           1       0.48      0.34      0.39      2187\n",
      "\n",
      "    accuracy                           0.57      5247\n",
      "   macro avg       0.54      0.54      0.53      5247\n",
      "weighted avg       0.55      0.57      0.55      5247\n",
      "\n",
      "Accuracy Score 0.5700400228702116\n"
     ]
    }
   ],
   "source": [
    "print(\"Report of LogisticRegression Polarity\")\n",
    "text_clf_lr.fit(X_train, y_train_t)\n",
    "predictions = text_clf_lr.predict(X_test)\n",
    "print(\"Confusion Matrix \\n\",metrics.confusion_matrix(y_test_l,predictions))\n",
    "print(metrics.classification_report(y_test_l,predictions))\n",
    "print(\"Accuracy Score\", metrics.accuracy_score(y_test_l,predictions))"
   ]
  },
  {
   "cell_type": "code",
   "execution_count": null,
   "metadata": {},
   "outputs": [],
   "source": []
  },
  {
   "cell_type": "markdown",
   "metadata": {},
   "source": [
    "# Multiclass Classification"
   ]
  },
  {
   "cell_type": "code",
   "execution_count": 234,
   "metadata": {},
   "outputs": [],
   "source": [
    "data = df[[\"text_clean\", \"label_1\", \"ang\", \"fear\", \"disg\", \"hap\", \"sad\", \"surp\", \"target\", \"label_2_fill\", \"target_name\"]]"
   ]
  },
  {
   "cell_type": "code",
   "execution_count": 235,
   "metadata": {},
   "outputs": [],
   "source": [
    "anticipation = data[data[\"label_1\"] == 2].index\n",
    "data = data.drop(anticipation, inplace= False)"
   ]
  },
  {
   "cell_type": "code",
   "execution_count": 236,
   "metadata": {},
   "outputs": [],
   "source": [
    "trust = data[data[\"label_1\"] == 8].index\n",
    "data = data.drop(trust, inplace= False)"
   ]
  },
  {
   "cell_type": "code",
   "execution_count": 237,
   "metadata": {},
   "outputs": [],
   "source": [
    "data = data.reset_index(drop=True)"
   ]
  },
  {
   "cell_type": "code",
   "execution_count": 238,
   "metadata": {},
   "outputs": [
    {
     "data": {
      "text/plain": [
       "4.0    4927\n",
       "5.0    4079\n",
       "6.0    1880\n",
       "7.0     652\n",
       "1.0     490\n",
       "3.0      72\n",
       "Name: target, dtype: int64"
      ]
     },
     "execution_count": 238,
     "metadata": {},
     "output_type": "execute_result"
    }
   ],
   "source": [
    "data.target.value_counts()"
   ]
  },
  {
   "cell_type": "code",
   "execution_count": 239,
   "metadata": {},
   "outputs": [
    {
     "data": {
      "text/plain": [
       "1    3703\n",
       "5    1843\n",
       "4    1791\n",
       "6    1702\n",
       "3    1639\n",
       "7    1422\n",
       "Name: label_1, dtype: int64"
      ]
     },
     "execution_count": 239,
     "metadata": {},
     "output_type": "execute_result"
    }
   ],
   "source": [
    "data.label_1.value_counts()"
   ]
  },
  {
   "cell_type": "code",
   "execution_count": 240,
   "metadata": {},
   "outputs": [
    {
     "name": "stdout",
     "output_type": "stream",
     "text": [
      "<class 'pandas.core.frame.DataFrame'>\n",
      "RangeIndex: 12100 entries, 0 to 12099\n",
      "Data columns (total 11 columns):\n",
      " #   Column        Non-Null Count  Dtype  \n",
      "---  ------        --------------  -----  \n",
      " 0   text_clean    12100 non-null  object \n",
      " 1   label_1       12100 non-null  int64  \n",
      " 2   ang           12100 non-null  float64\n",
      " 3   fear          12100 non-null  float64\n",
      " 4   disg          12100 non-null  float64\n",
      " 5   hap           12100 non-null  float64\n",
      " 6   sad           12100 non-null  float64\n",
      " 7   surp          12100 non-null  float64\n",
      " 8   target        12100 non-null  float64\n",
      " 9   label_2_fill  12100 non-null  int64  \n",
      " 10  target_name   12100 non-null  object \n",
      "dtypes: float64(7), int64(2), object(2)\n",
      "memory usage: 1.0+ MB\n"
     ]
    }
   ],
   "source": [
    "data.info()"
   ]
  },
  {
   "cell_type": "code",
   "execution_count": 241,
   "metadata": {},
   "outputs": [],
   "source": [
    "X = data[\"text_clean\"]\n",
    "y_target = data[\"target\"]\n",
    "y_label = data[\"label_1\"]\n",
    "\n",
    "X_train, X_test, y_train_t, y_test_t, y_train_l, y_test_l = train_test_split(X, y_target, y_label, test_size=0.30, random_state=42)"
   ]
  },
  {
   "cell_type": "code",
   "execution_count": 242,
   "metadata": {},
   "outputs": [
    {
     "name": "stdout",
     "output_type": "stream",
     "text": [
      "Report of MultinomialNB\n",
      "Confusion Matrix \n",
      " [[  0   0 842 290   5   1]\n",
      " [  0   0 333 143   9   0]\n",
      " [  0   0 426 115   5   0]\n",
      " [  0   0 242 280  14   1]\n",
      " [  0   0 388 117   8   0]\n",
      " [  0   0 284 121   6   0]]\n",
      "              precision    recall  f1-score   support\n",
      "\n",
      "           1       0.00      0.00      0.00      1138\n",
      "           3       0.00      0.00      0.00       485\n",
      "           4       0.17      0.78      0.28       546\n",
      "           5       0.26      0.52      0.35       537\n",
      "           6       0.17      0.02      0.03       513\n",
      "           7       0.00      0.00      0.00       411\n",
      "\n",
      "    accuracy                           0.20      3630\n",
      "   macro avg       0.10      0.22      0.11      3630\n",
      "weighted avg       0.09      0.20      0.10      3630\n",
      "\n",
      "Accuracy Score:  0.19669421487603306\n"
     ]
    }
   ],
   "source": [
    "print(\"Report of MultinomialNB\")\n",
    "text_clf_nb.fit(X_train, y_train_t)\n",
    "predictions = text_clf_nb.predict(X_test)\n",
    "confusion_matrix = metrics.confusion_matrix(y_test_l,predictions)\n",
    "print(\"Confusion Matrix \\n\",confusion_matrix)\n",
    "print(metrics.classification_report(y_test_l,predictions, zero_division = 0))\n",
    "print(\"Accuracy Score: \", metrics.accuracy_score(y_test_l,predictions))"
   ]
  },
  {
   "cell_type": "code",
   "execution_count": 243,
   "metadata": {},
   "outputs": [
    {
     "name": "stdout",
     "output_type": "stream",
     "text": [
      "classes [1. 3. 4. 5. 6. 7.]\n"
     ]
    },
    {
     "data": {
      "image/png": "[encoded data removed]",
      "text/plain": [
       "<Figure size 576x576 with 2 Axes>"
      ]
     },
     "metadata": {
      "needs_background": "light"
     },
     "output_type": "display_data"
    }
   ],
   "source": [
    "print(\"classes\",text_clf_nb.classes_)\n",
    "f,ax = plt.subplots(figsize=(8,8))\n",
    "sns.heatmap(confusion_matrix, annot=True, linewidths=.5, fmt= '.1f',ax=ax, cmap=\"YlGnBu\");\n",
    "plt.title(\"confusion matrix of NB\")\n",
    "plt.xlabel(\"true label\");\n",
    "plt.ylabel(\"predictions\");"
   ]
  },
  {
   "cell_type": "code",
   "execution_count": 244,
   "metadata": {},
   "outputs": [
    {
     "name": "stdout",
     "output_type": "stream",
     "text": [
      "Report of LinearSVC\n",
      "Confusion Matrix \n",
      " [[ 24   1 600 375 109  29]\n",
      " [  8   2 210 174  82   9]\n",
      " [ 16   0 284 157  72  17]\n",
      " [  2   0 138 269  85  43]\n",
      " [ 13   0 274 143  65  18]\n",
      " [ 12   0 179 139  64  17]]\n",
      "              precision    recall  f1-score   support\n",
      "\n",
      "           1       0.32      0.02      0.04      1138\n",
      "           3       0.67      0.00      0.01       485\n",
      "           4       0.17      0.52      0.25       546\n",
      "           5       0.21      0.50      0.30       537\n",
      "           6       0.14      0.13      0.13       513\n",
      "           7       0.13      0.04      0.06       411\n",
      "\n",
      "    accuracy                           0.18      3630\n",
      "   macro avg       0.27      0.20      0.13      3630\n",
      "weighted avg       0.28      0.18      0.12      3630\n",
      "\n",
      "Accuracy Score:  0.18209366391184573\n"
     ]
    }
   ],
   "source": [
    "print(\"Report of LinearSVC\")\n",
    "text_clf_lsvc.fit(X_train, y_train_t)\n",
    "predictions = text_clf_lsvc.predict(X_test)\n",
    "confusion_matrix = metrics.confusion_matrix(y_test_l,predictions)\n",
    "print(\"Confusion Matrix \\n\", metrics.confusion_matrix(y_test_l,predictions))\n",
    "print(metrics.classification_report(y_test_l,predictions))\n",
    "print(\"Accuracy Score: \", metrics.accuracy_score(y_test_l,predictions))"
   ]
  },
  {
   "cell_type": "code",
   "execution_count": 245,
   "metadata": {},
   "outputs": [
    {
     "name": "stdout",
     "output_type": "stream",
     "text": [
      "classes: [1. 3. 4. 5. 6. 7.]\n"
     ]
    },
    {
     "data": {
      "text/plain": [
       "Text(0.5, 1.0, 'confusion matrix of SVC')"
      ]
     },
     "execution_count": 245,
     "metadata": {},
     "output_type": "execute_result"
    },
    {
     "data": {
      "image/png": "[encoded data removed]",
      "text/plain": [
       "<Figure size 576x576 with 2 Axes>"
      ]
     },
     "metadata": {
      "needs_background": "light"
     },
     "output_type": "display_data"
    }
   ],
   "source": [
    "f,ax = plt.subplots(figsize=(8,8))\n",
    "print(\"classes:\" ,text_clf_lsvc.classes_)   \n",
    "sns.heatmap(confusion_matrix, annot=True, linewidths=.5, fmt= '.1f',ax=ax, cmap=\"YlGnBu\");\n",
    "plt.xlabel(\"true label\");\n",
    "plt.ylabel(\"predictions\");\n",
    "plt.title(\"confusion matrix of SVC\")"
   ]
  },
  {
   "cell_type": "markdown",
   "metadata": {},
   "source": [
    "# Polarity 2"
   ]
  },
  {
   "cell_type": "code",
   "execution_count": 246,
   "metadata": {},
   "outputs": [],
   "source": [
    "data[\"label_polarity\"] = data[\"label_1\"].map({1:0, 3:0, 4:0, 5:1, 6:0, 7:0})\n",
    "data[\"target_polarity\"] = data[\"target\"].map({1:0, 3:0, 4:0, 5:1, 6:0, 7:0})\n",
    "X = data[\"text_clean\"]\n",
    "y_target = data[\"target_polarity\"]\n",
    "y_label = data[\"label_polarity\"]\n",
    "\n",
    "X_train, X_test, y_train_t, y_test_t, y_train_l, y_test_l = train_test_split(X, y_target, y_label, test_size=0.30, random_state=42)"
   ]
  },
  {
   "cell_type": "code",
   "execution_count": 247,
   "metadata": {},
   "outputs": [
    {
     "data": {
      "text/plain": [
       "0    10257\n",
       "1     1843\n",
       "Name: label_polarity, dtype: int64"
      ]
     },
     "execution_count": 247,
     "metadata": {},
     "output_type": "execute_result"
    }
   ],
   "source": [
    "data.label_polarity.value_counts()"
   ]
  },
  {
   "cell_type": "code",
   "execution_count": 248,
   "metadata": {},
   "outputs": [
    {
     "data": {
      "text/plain": [
       "0    8021\n",
       "1    4079\n",
       "Name: target_polarity, dtype: int64"
      ]
     },
     "execution_count": 248,
     "metadata": {},
     "output_type": "execute_result"
    }
   ],
   "source": [
    "data.target_polarity.value_counts()"
   ]
  },
  {
   "cell_type": "code",
   "execution_count": 249,
   "metadata": {},
   "outputs": [
    {
     "name": "stdout",
     "output_type": "stream",
     "text": [
      "Report of MultinomialNB Polarity 2\n",
      "Confusion Matrix \n",
      " [[2880  213]\n",
      " [ 452   85]]\n",
      "              precision    recall  f1-score   support\n",
      "\n",
      "           0       0.86      0.93      0.90      3093\n",
      "           1       0.29      0.16      0.20       537\n",
      "\n",
      "    accuracy                           0.82      3630\n",
      "   macro avg       0.57      0.54      0.55      3630\n",
      "weighted avg       0.78      0.82      0.79      3630\n",
      "\n",
      "Accuracy Score:  0.8168044077134986\n"
     ]
    }
   ],
   "source": [
    "print(\"Report of MultinomialNB Polarity 2\")\n",
    "text_clf_nb.fit(X_train, y_train_t)\n",
    "predictions = text_clf_nb.predict(X_test)\n",
    "print(\"Confusion Matrix \\n\",metrics.confusion_matrix(y_test_l,predictions))\n",
    "print(metrics.classification_report(y_test_l,predictions))\n",
    "print(\"Accuracy Score: \", metrics.accuracy_score(y_test_l,predictions))"
   ]
  },
  {
   "cell_type": "code",
   "execution_count": 250,
   "metadata": {},
   "outputs": [
    {
     "name": "stdout",
     "output_type": "stream",
     "text": [
      "Report of LinearSVC Polarity 2\n",
      "Confusion Matrix \n",
      " [[2233  860]\n",
      " [ 301  236]]\n",
      "              precision    recall  f1-score   support\n",
      "\n",
      "           0       0.88      0.72      0.79      3093\n",
      "           1       0.22      0.44      0.29       537\n",
      "\n",
      "    accuracy                           0.68      3630\n",
      "   macro avg       0.55      0.58      0.54      3630\n",
      "weighted avg       0.78      0.68      0.72      3630\n",
      "\n",
      "Accuracy Score:  0.6801652892561983\n"
     ]
    }
   ],
   "source": [
    "print(\"Report of LinearSVC Polarity 2\")\n",
    "text_clf_lsvc.fit(X_train, y_train_t)\n",
    "predictions = text_clf_lsvc.predict(X_test)\n",
    "print(\"Confusion Matrix \\n\", metrics.confusion_matrix(y_test_l,predictions))\n",
    "print(metrics.classification_report(y_test_l,predictions))\n",
    "print(\"Accuracy Score: \", metrics.accuracy_score(y_test_l,predictions))"
   ]
  },
  {
   "cell_type": "code",
   "execution_count": 251,
   "metadata": {},
   "outputs": [
    {
     "name": "stdout",
     "output_type": "stream",
     "text": [
      "Report of LogisticRegression Polarity\n",
      "Confusion Matrix \n",
      " [[2387  706]\n",
      " [ 346  191]]\n",
      "              precision    recall  f1-score   support\n",
      "\n",
      "           0       0.87      0.77      0.82      3093\n",
      "           1       0.21      0.36      0.27       537\n",
      "\n",
      "    accuracy                           0.71      3630\n",
      "   macro avg       0.54      0.56      0.54      3630\n",
      "weighted avg       0.78      0.71      0.74      3630\n",
      "\n",
      "Accuracy Score 0.7101928374655647\n"
     ]
    }
   ],
   "source": [
    "print(\"Report of LogisticRegression Polarity\")\n",
    "text_clf_lr.fit(X_train, y_train_t)\n",
    "predictions = text_clf_lr.predict(X_test)\n",
    "print(\"Confusion Matrix \\n\",metrics.confusion_matrix(y_test_l,predictions))\n",
    "print(metrics.classification_report(y_test_l,predictions))\n",
    "print(\"Accuracy Score\", metrics.accuracy_score(y_test_l,predictions))"
   ]
  },
  {
   "cell_type": "code",
   "execution_count": null,
   "metadata": {},
   "outputs": [],
   "source": []
  },
  {
   "cell_type": "code",
   "execution_count": null,
   "metadata": {},
   "outputs": [],
   "source": []
  },
  {
   "cell_type": "code",
   "execution_count": null,
   "metadata": {},
   "outputs": [],
   "source": []
  },
  {
   "cell_type": "code",
   "execution_count": null,
   "metadata": {},
   "outputs": [],
   "source": []
  }
 ],
 "metadata": {
  "kernelspec": {
   "display_name": "Python 3",
   "language": "python",
   "name": "python3"
  },
  "language_info": {
   "codemirror_mode": {
    "name": "ipython",
    "version": 3
   },
   "file_extension": ".py",
   "mimetype": "text/x-python",
   "name": "python",
   "nbconvert_exporter": "python",
   "pygments_lexer": "ipython3",
   "version": "3.8.3"
  }
 },
 "nbformat": 4,
 "nbformat_minor": 4
}
