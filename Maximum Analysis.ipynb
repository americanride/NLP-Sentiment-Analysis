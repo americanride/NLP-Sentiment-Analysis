{
 "cells": [
  {
   "cell_type": "code",
   "execution_count": 19,
   "metadata": {},
   "outputs": [],
   "source": [
    "import os,codecs\n",
    "import pandas as pd\n",
    "import nltk\n",
    "from nltk import*\n",
    "import matplotlib.pyplot as plt\n",
    "import string\n",
    "import numpy as np\n",
    "import seaborn as sns"
   ]
  },
  {
   "cell_type": "code",
   "execution_count": 2,
   "metadata": {},
   "outputs": [
    {
     "data": {
      "text/html": [
       "<div>\n",
       "<style scoped>\n",
       "    .dataframe tbody tr th:only-of-type {\n",
       "        vertical-align: middle;\n",
       "    }\n",
       "\n",
       "    .dataframe tbody tr th {\n",
       "        vertical-align: top;\n",
       "    }\n",
       "\n",
       "    .dataframe thead th {\n",
       "        text-align: right;\n",
       "    }\n",
       "</style>\n",
       "<table border=\"1\" class=\"dataframe\">\n",
       "  <thead>\n",
       "    <tr style=\"text-align: right;\">\n",
       "      <th></th>\n",
       "      <th>WORD</th>\n",
       "      <th>Val</th>\n",
       "      <th>Val_sd</th>\n",
       "      <th>joy</th>\n",
       "      <th>joy_sd</th>\n",
       "      <th>anger</th>\n",
       "      <th>anger_sd</th>\n",
       "      <th>sadness</th>\n",
       "      <th>sadness_sd</th>\n",
       "      <th>fear</th>\n",
       "      <th>fear_sd</th>\n",
       "      <th>disgust</th>\n",
       "      <th>disgust_sd</th>\n",
       "    </tr>\n",
       "  </thead>\n",
       "  <tbody>\n",
       "    <tr>\n",
       "      <th>0</th>\n",
       "      <td>abart</td>\n",
       "      <td>-1,6</td>\n",
       "      <td>0,6992059</td>\n",
       "      <td>1,4762</td>\n",
       "      <td>0,98076744</td>\n",
       "      <td>1,7143</td>\n",
       "      <td>1,0556</td>\n",
       "      <td>1,7143</td>\n",
       "      <td>1,1019</td>\n",
       "      <td>1,8095</td>\n",
       "      <td>0,9284</td>\n",
       "      <td>2,4762</td>\n",
       "      <td>1,3645</td>\n",
       "    </tr>\n",
       "    <tr>\n",
       "      <th>1</th>\n",
       "      <td>abbau</td>\n",
       "      <td>-1</td>\n",
       "      <td>1,1697953</td>\n",
       "      <td>1,25</td>\n",
       "      <td>0,7163504</td>\n",
       "      <td>2,4</td>\n",
       "      <td>1,1425</td>\n",
       "      <td>2,35</td>\n",
       "      <td>1,2258</td>\n",
       "      <td>2,3</td>\n",
       "      <td>1,4179</td>\n",
       "      <td>1,5</td>\n",
       "      <td>0,8272</td>\n",
       "    </tr>\n",
       "    <tr>\n",
       "      <th>2</th>\n",
       "      <td>abbild</td>\n",
       "      <td>-0,2</td>\n",
       "      <td>0,63245553</td>\n",
       "      <td>1,8636</td>\n",
       "      <td>1,03718734</td>\n",
       "      <td>1,4545</td>\n",
       "      <td>1,0108</td>\n",
       "      <td>1,2273</td>\n",
       "      <td>0,5284</td>\n",
       "      <td>1,3636</td>\n",
       "      <td>0,9021</td>\n",
       "      <td>1,3182</td>\n",
       "      <td>0,9455</td>\n",
       "    </tr>\n",
       "    <tr>\n",
       "      <th>3</th>\n",
       "      <td>abbruch</td>\n",
       "      <td>-0,7</td>\n",
       "      <td>1,15950181</td>\n",
       "      <td>1,1</td>\n",
       "      <td>0,30779351</td>\n",
       "      <td>2,55</td>\n",
       "      <td>1,3169</td>\n",
       "      <td>1,7</td>\n",
       "      <td>0,9234</td>\n",
       "      <td>2,15</td>\n",
       "      <td>1,268</td>\n",
       "      <td>1,2</td>\n",
       "      <td>0,6959</td>\n",
       "    </tr>\n",
       "    <tr>\n",
       "      <th>4</th>\n",
       "      <td>abdruck</td>\n",
       "      <td>-0,1</td>\n",
       "      <td>0,31622777</td>\n",
       "      <td>1,4</td>\n",
       "      <td>0,75393703</td>\n",
       "      <td>1,2</td>\n",
       "      <td>0,5231</td>\n",
       "      <td>1,1</td>\n",
       "      <td>0,4472</td>\n",
       "      <td>1</td>\n",
       "      <td>0</td>\n",
       "      <td>1</td>\n",
       "      <td>0</td>\n",
       "    </tr>\n",
       "  </tbody>\n",
       "</table>\n",
       "</div>"
      ],
      "text/plain": [
       "      WORD   Val      Val_sd     joy      joy_sd   anger anger_sd sadness  \\\n",
       "0    abart  -1,6   0,6992059  1,4762  0,98076744  1,7143   1,0556  1,7143   \n",
       "1    abbau    -1   1,1697953    1,25   0,7163504     2,4   1,1425    2,35   \n",
       "2   abbild  -0,2  0,63245553  1,8636  1,03718734  1,4545   1,0108  1,2273   \n",
       "3  abbruch  -0,7  1,15950181     1,1  0,30779351    2,55   1,3169     1,7   \n",
       "4  abdruck  -0,1  0,31622777     1,4  0,75393703     1,2   0,5231     1,1   \n",
       "\n",
       "  sadness_sd    fear fear_sd disgust disgust_sd  \n",
       "0     1,1019  1,8095  0,9284  2,4762     1,3645  \n",
       "1     1,2258     2,3  1,4179     1,5     0,8272  \n",
       "2     0,5284  1,3636  0,9021  1,3182     0,9455  \n",
       "3     0,9234    2,15   1,268     1,2     0,6959  \n",
       "4     0,4472       1       0       1          0  "
      ]
     },
     "execution_count": 2,
     "metadata": {},
     "output_type": "execute_result"
    }
   ],
   "source": [
    "df = pd.read_csv('/Users/ganiyuopeyemi/desktop/NLP/denn_bawl_german.txt', error_bad_lines=False)\n",
    "df.head()"
   ]
  },
  {
   "cell_type": "code",
   "execution_count": 3,
   "metadata": {},
   "outputs": [
    {
     "data": {
      "text/plain": [
       "(1958, 13)"
      ]
     },
     "execution_count": 3,
     "metadata": {},
     "output_type": "execute_result"
    }
   ],
   "source": [
    "df.shape"
   ]
  },
  {
   "cell_type": "code",
   "execution_count": 4,
   "metadata": {},
   "outputs": [
    {
     "name": "stdout",
     "output_type": "stream",
     "text": [
      "<class 'pandas.core.frame.DataFrame'>\n",
      "RangeIndex: 1958 entries, 0 to 1957\n",
      "Data columns (total 13 columns):\n",
      " #   Column      Non-Null Count  Dtype \n",
      "---  ------      --------------  ----- \n",
      " 0   WORD        1958 non-null   object\n",
      " 1   Val         1958 non-null   object\n",
      " 2   Val_sd      1958 non-null   object\n",
      " 3   joy         1958 non-null   object\n",
      " 4   joy_sd      1958 non-null   object\n",
      " 5   anger       1958 non-null   object\n",
      " 6   anger_sd    1958 non-null   object\n",
      " 7   sadness     1958 non-null   object\n",
      " 8   sadness_sd  1958 non-null   object\n",
      " 9   fear        1958 non-null   object\n",
      " 10  fear_sd     1958 non-null   object\n",
      " 11  disgust     1958 non-null   object\n",
      " 12  disgust_sd  1958 non-null   object\n",
      "dtypes: object(13)\n",
      "memory usage: 199.0+ KB\n"
     ]
    }
   ],
   "source": [
    "df.info()"
   ]
  },
  {
   "cell_type": "code",
   "execution_count": 5,
   "metadata": {},
   "outputs": [],
   "source": [
    "df = df.apply(lambda x: x.str.replace(',','.'))\n",
    "cols = df.columns.drop(\"WORD\")\n",
    "df[cols] = df[cols].apply(pd.to_numeric, errors='coerce')"
   ]
  },
  {
   "cell_type": "code",
   "execution_count": 6,
   "metadata": {},
   "outputs": [
    {
     "name": "stdout",
     "output_type": "stream",
     "text": [
      "              word      wordLC    AAPz  ang_z  fear_z  disg_z   hap_z   sad_z  \\\n",
      "0           Aachen      aachen  0.6557  0.097 -1.0980 -1.2940 -0.4470 -1.3020   \n",
      "1              Aal         aal  0.3076  0.234 -0.4620  1.4168 -0.1940  0.1161   \n",
      "2             Aale        aale  0.0619  0.218 -0.1440  0.4773 -0.1210 -0.1830   \n",
      "3              Aas         aas -1.0440  0.258  0.1618  2.0333  0.3128  0.3957   \n",
      "4       Aasfresser  aasfresser -1.5150  0.327  1.1859  1.9843  0.2766  0.6850   \n",
      "...            ...         ...     ...    ...     ...     ...     ...     ...   \n",
      "116308     üppigem     üppigem  2.1710  0.152 -1.6270 -0.1590  0.9881  0.3765   \n",
      "116309     üppigen     üppigen  2.0481  0.127 -1.6160 -0.7360  0.4093  0.0004   \n",
      "116310     üppiger     üppiger  2.0276  0.143 -1.5920 -0.6580  0.6143  0.1836   \n",
      "116311   üppigeren   üppigeren  1.5157  0.078 -1.6630 -1.2940 -0.3500 -0.7420   \n",
      "116312     üppiges     üppiges  1.6386  0.134 -1.5450 -0.3550  0.6625 -0.1350   \n",
      "\n",
      "        surp_z  \n",
      "0      -0.6360  \n",
      "1      -0.3240  \n",
      "2       0.0135  \n",
      "3      -0.8440  \n",
      "4       0.5720  \n",
      "...        ...  \n",
      "116308 -0.5970  \n",
      "116309  0.0915  \n",
      "116310 -0.2720  \n",
      "116311 -0.6100  \n",
      "116312  0.2473  \n",
      "\n",
      "[116313 rows x 9 columns]\n"
     ]
    }
   ],
   "source": [
    "#TC = '250kSentiArt_EN.xlsx' \n",
    "sa = pd.read_excel('/Users/ganiyuopeyemi/desktop/NLP/SentiArt-main/120kSentiArt_DE.xlsx') #    \n",
    "print(sa)"
   ]
  },
  {
   "cell_type": "code",
   "execution_count": 7,
   "metadata": {},
   "outputs": [],
   "source": [
    "word_AAPz = []\n",
    "word_ang_z = []\n",
    "word_fear_z = []\n",
    "word_disg_z = []\n",
    "word_hap_z = []\n",
    "word_sad_z = []\n",
    "word_surp_z = []"
   ]
  },
  {
   "cell_type": "code",
   "execution_count": 8,
   "metadata": {},
   "outputs": [],
   "source": [
    "for t in df.WORD:\n",
    "    dt = sa.query('wordLC in @t')\n",
    "    word_AAPz.append(dt.AAPz.mean())\n",
    "    word_ang_z.append(dt.ang_z.mean())\n",
    "    word_fear_z.append(dt.fear_z.mean())\n",
    "    word_disg_z.append(dt.disg_z.mean())\n",
    "    word_hap_z.append(dt.hap_z.mean())\n",
    "    word_sad_z.append(dt.sad_z.mean())\n",
    "    word_surp_z.append(dt.surp_z.mean())"
   ]
  },
  {
   "cell_type": "code",
   "execution_count": 9,
   "metadata": {},
   "outputs": [],
   "source": [
    "df['AAPz'] = word_AAPz\n",
    "df['ang_z'] = word_ang_z\n",
    "df['fear_z'] = word_fear_z\n",
    "df['disg_z'] = word_disg_z\n",
    "df['hap_z'] = word_hap_z\n",
    "df['sad_z'] = word_sad_z\n",
    "df['surp_z'] = word_surp_z\n",
    "df = round(df,3)"
   ]
  },
  {
   "cell_type": "code",
   "execution_count": 10,
   "metadata": {},
   "outputs": [
    {
     "data": {
      "text/plain": [
       "WORD            0\n",
       "Val             0\n",
       "Val_sd          0\n",
       "joy             0\n",
       "joy_sd          0\n",
       "anger           0\n",
       "anger_sd        0\n",
       "sadness         0\n",
       "sadness_sd      0\n",
       "fear            0\n",
       "fear_sd         0\n",
       "disgust         0\n",
       "disgust_sd      0\n",
       "AAPz          145\n",
       "ang_z         145\n",
       "fear_z        145\n",
       "disg_z        145\n",
       "hap_z         145\n",
       "sad_z         145\n",
       "surp_z        145\n",
       "dtype: int64"
      ]
     },
     "execution_count": 10,
     "metadata": {},
     "output_type": "execute_result"
    }
   ],
   "source": [
    "df.isna().sum()"
   ]
  },
  {
   "cell_type": "code",
   "execution_count": 11,
   "metadata": {},
   "outputs": [],
   "source": [
    "df = df.drop(columns=['Val_sd','joy_sd','fear_sd','anger_sd','sadness_sd','disgust_sd'], axis=1)"
   ]
  },
  {
   "cell_type": "code",
   "execution_count": 12,
   "metadata": {},
   "outputs": [],
   "source": [
    "df[\"target\"] = df[[\"joy\",\"anger\",\"sadness\",\"fear\",\"disgust\"]].idxmax(axis=1)"
   ]
  },
  {
   "cell_type": "code",
   "execution_count": 13,
   "metadata": {},
   "outputs": [],
   "source": [
    "df[\"new_target\"] = df[[\"ang_z\",\"fear_z\",\"disg_z\",\"hap_z\",\"sad_z\"]].idxmax(axis=1)"
   ]
  },
  {
   "cell_type": "code",
   "execution_count": 14,
   "metadata": {},
   "outputs": [
    {
     "data": {
      "text/html": [
       "<div>\n",
       "<style scoped>\n",
       "    .dataframe tbody tr th:only-of-type {\n",
       "        vertical-align: middle;\n",
       "    }\n",
       "\n",
       "    .dataframe tbody tr th {\n",
       "        vertical-align: top;\n",
       "    }\n",
       "\n",
       "    .dataframe thead th {\n",
       "        text-align: right;\n",
       "    }\n",
       "</style>\n",
       "<table border=\"1\" class=\"dataframe\">\n",
       "  <thead>\n",
       "    <tr style=\"text-align: right;\">\n",
       "      <th></th>\n",
       "      <th>WORD</th>\n",
       "      <th>Val</th>\n",
       "      <th>joy</th>\n",
       "      <th>anger</th>\n",
       "      <th>sadness</th>\n",
       "      <th>fear</th>\n",
       "      <th>disgust</th>\n",
       "      <th>AAPz</th>\n",
       "      <th>ang_z</th>\n",
       "      <th>fear_z</th>\n",
       "      <th>disg_z</th>\n",
       "      <th>hap_z</th>\n",
       "      <th>sad_z</th>\n",
       "      <th>surp_z</th>\n",
       "      <th>target</th>\n",
       "      <th>new_target</th>\n",
       "    </tr>\n",
       "  </thead>\n",
       "  <tbody>\n",
       "    <tr>\n",
       "      <th>0</th>\n",
       "      <td>abart</td>\n",
       "      <td>-1.6</td>\n",
       "      <td>1.476</td>\n",
       "      <td>1.714</td>\n",
       "      <td>1.714</td>\n",
       "      <td>1.810</td>\n",
       "      <td>2.476</td>\n",
       "      <td>-1.003</td>\n",
       "      <td>0.263</td>\n",
       "      <td>-0.027</td>\n",
       "      <td>1.348</td>\n",
       "      <td>-0.507</td>\n",
       "      <td>0.550</td>\n",
       "      <td>0.650</td>\n",
       "      <td>disgust</td>\n",
       "      <td>disg_z</td>\n",
       "    </tr>\n",
       "    <tr>\n",
       "      <th>1</th>\n",
       "      <td>abbau</td>\n",
       "      <td>-1.0</td>\n",
       "      <td>1.250</td>\n",
       "      <td>2.400</td>\n",
       "      <td>2.350</td>\n",
       "      <td>2.300</td>\n",
       "      <td>1.500</td>\n",
       "      <td>-0.900</td>\n",
       "      <td>0.190</td>\n",
       "      <td>-0.497</td>\n",
       "      <td>-0.531</td>\n",
       "      <td>-1.713</td>\n",
       "      <td>-1.041</td>\n",
       "      <td>-2.129</td>\n",
       "      <td>anger</td>\n",
       "      <td>ang_z</td>\n",
       "    </tr>\n",
       "    <tr>\n",
       "      <th>2</th>\n",
       "      <td>abbild</td>\n",
       "      <td>-0.2</td>\n",
       "      <td>1.864</td>\n",
       "      <td>1.454</td>\n",
       "      <td>1.227</td>\n",
       "      <td>1.364</td>\n",
       "      <td>1.318</td>\n",
       "      <td>0.881</td>\n",
       "      <td>0.158</td>\n",
       "      <td>-0.639</td>\n",
       "      <td>0.194</td>\n",
       "      <td>-0.230</td>\n",
       "      <td>-0.154</td>\n",
       "      <td>-0.974</td>\n",
       "      <td>joy</td>\n",
       "      <td>disg_z</td>\n",
       "    </tr>\n",
       "    <tr>\n",
       "      <th>3</th>\n",
       "      <td>abbruch</td>\n",
       "      <td>-0.7</td>\n",
       "      <td>1.100</td>\n",
       "      <td>2.550</td>\n",
       "      <td>1.700</td>\n",
       "      <td>2.150</td>\n",
       "      <td>1.200</td>\n",
       "      <td>-0.552</td>\n",
       "      <td>0.174</td>\n",
       "      <td>-0.697</td>\n",
       "      <td>-0.540</td>\n",
       "      <td>-0.278</td>\n",
       "      <td>-0.366</td>\n",
       "      <td>-0.181</td>\n",
       "      <td>anger</td>\n",
       "      <td>ang_z</td>\n",
       "    </tr>\n",
       "    <tr>\n",
       "      <th>4</th>\n",
       "      <td>abdruck</td>\n",
       "      <td>-0.1</td>\n",
       "      <td>1.400</td>\n",
       "      <td>1.200</td>\n",
       "      <td>1.100</td>\n",
       "      <td>1.000</td>\n",
       "      <td>1.000</td>\n",
       "      <td>0.164</td>\n",
       "      <td>0.121</td>\n",
       "      <td>-1.780</td>\n",
       "      <td>-0.208</td>\n",
       "      <td>-0.977</td>\n",
       "      <td>-1.080</td>\n",
       "      <td>-1.194</td>\n",
       "      <td>joy</td>\n",
       "      <td>ang_z</td>\n",
       "    </tr>\n",
       "  </tbody>\n",
       "</table>\n",
       "</div>"
      ],
      "text/plain": [
       "      WORD  Val    joy  anger  sadness   fear  disgust   AAPz  ang_z  fear_z  \\\n",
       "0    abart -1.6  1.476  1.714    1.714  1.810    2.476 -1.003  0.263  -0.027   \n",
       "1    abbau -1.0  1.250  2.400    2.350  2.300    1.500 -0.900  0.190  -0.497   \n",
       "2   abbild -0.2  1.864  1.454    1.227  1.364    1.318  0.881  0.158  -0.639   \n",
       "3  abbruch -0.7  1.100  2.550    1.700  2.150    1.200 -0.552  0.174  -0.697   \n",
       "4  abdruck -0.1  1.400  1.200    1.100  1.000    1.000  0.164  0.121  -1.780   \n",
       "\n",
       "   disg_z  hap_z  sad_z  surp_z   target new_target  \n",
       "0   1.348 -0.507  0.550   0.650  disgust     disg_z  \n",
       "1  -0.531 -1.713 -1.041  -2.129    anger      ang_z  \n",
       "2   0.194 -0.230 -0.154  -0.974      joy     disg_z  \n",
       "3  -0.540 -0.278 -0.366  -0.181    anger      ang_z  \n",
       "4  -0.208 -0.977 -1.080  -1.194      joy      ang_z  "
      ]
     },
     "execution_count": 14,
     "metadata": {},
     "output_type": "execute_result"
    }
   ],
   "source": [
    "df.head()"
   ]
  },
  {
   "cell_type": "code",
   "execution_count": 15,
   "metadata": {},
   "outputs": [
    {
     "data": {
      "text/html": [
       "<div>\n",
       "<style scoped>\n",
       "    .dataframe tbody tr th:only-of-type {\n",
       "        vertical-align: middle;\n",
       "    }\n",
       "\n",
       "    .dataframe tbody tr th {\n",
       "        vertical-align: top;\n",
       "    }\n",
       "\n",
       "    .dataframe thead th {\n",
       "        text-align: right;\n",
       "    }\n",
       "</style>\n",
       "<table border=\"1\" class=\"dataframe\">\n",
       "  <thead>\n",
       "    <tr style=\"text-align: right;\">\n",
       "      <th></th>\n",
       "      <th>WORD</th>\n",
       "      <th>Val</th>\n",
       "      <th>joy</th>\n",
       "      <th>anger</th>\n",
       "      <th>sadness</th>\n",
       "      <th>fear</th>\n",
       "      <th>disgust</th>\n",
       "      <th>AAPz</th>\n",
       "      <th>ang_z</th>\n",
       "      <th>fear_z</th>\n",
       "      <th>disg_z</th>\n",
       "      <th>hap_z</th>\n",
       "      <th>sad_z</th>\n",
       "      <th>surp_z</th>\n",
       "      <th>target</th>\n",
       "      <th>new_target</th>\n",
       "    </tr>\n",
       "  </thead>\n",
       "  <tbody>\n",
       "    <tr>\n",
       "      <th>0</th>\n",
       "      <td>abart</td>\n",
       "      <td>-1.6</td>\n",
       "      <td>1.476</td>\n",
       "      <td>1.714</td>\n",
       "      <td>1.714</td>\n",
       "      <td>1.810</td>\n",
       "      <td>2.476</td>\n",
       "      <td>-1.003</td>\n",
       "      <td>0.263</td>\n",
       "      <td>-0.027</td>\n",
       "      <td>1.348</td>\n",
       "      <td>-0.507</td>\n",
       "      <td>0.550</td>\n",
       "      <td>0.650</td>\n",
       "      <td>disgust</td>\n",
       "      <td>disgust</td>\n",
       "    </tr>\n",
       "    <tr>\n",
       "      <th>1</th>\n",
       "      <td>abbau</td>\n",
       "      <td>-1.0</td>\n",
       "      <td>1.250</td>\n",
       "      <td>2.400</td>\n",
       "      <td>2.350</td>\n",
       "      <td>2.300</td>\n",
       "      <td>1.500</td>\n",
       "      <td>-0.900</td>\n",
       "      <td>0.190</td>\n",
       "      <td>-0.497</td>\n",
       "      <td>-0.531</td>\n",
       "      <td>-1.713</td>\n",
       "      <td>-1.041</td>\n",
       "      <td>-2.129</td>\n",
       "      <td>anger</td>\n",
       "      <td>anger</td>\n",
       "    </tr>\n",
       "    <tr>\n",
       "      <th>2</th>\n",
       "      <td>abbild</td>\n",
       "      <td>-0.2</td>\n",
       "      <td>1.864</td>\n",
       "      <td>1.454</td>\n",
       "      <td>1.227</td>\n",
       "      <td>1.364</td>\n",
       "      <td>1.318</td>\n",
       "      <td>0.881</td>\n",
       "      <td>0.158</td>\n",
       "      <td>-0.639</td>\n",
       "      <td>0.194</td>\n",
       "      <td>-0.230</td>\n",
       "      <td>-0.154</td>\n",
       "      <td>-0.974</td>\n",
       "      <td>joy</td>\n",
       "      <td>disgust</td>\n",
       "    </tr>\n",
       "    <tr>\n",
       "      <th>3</th>\n",
       "      <td>abbruch</td>\n",
       "      <td>-0.7</td>\n",
       "      <td>1.100</td>\n",
       "      <td>2.550</td>\n",
       "      <td>1.700</td>\n",
       "      <td>2.150</td>\n",
       "      <td>1.200</td>\n",
       "      <td>-0.552</td>\n",
       "      <td>0.174</td>\n",
       "      <td>-0.697</td>\n",
       "      <td>-0.540</td>\n",
       "      <td>-0.278</td>\n",
       "      <td>-0.366</td>\n",
       "      <td>-0.181</td>\n",
       "      <td>anger</td>\n",
       "      <td>anger</td>\n",
       "    </tr>\n",
       "    <tr>\n",
       "      <th>4</th>\n",
       "      <td>abdruck</td>\n",
       "      <td>-0.1</td>\n",
       "      <td>1.400</td>\n",
       "      <td>1.200</td>\n",
       "      <td>1.100</td>\n",
       "      <td>1.000</td>\n",
       "      <td>1.000</td>\n",
       "      <td>0.164</td>\n",
       "      <td>0.121</td>\n",
       "      <td>-1.780</td>\n",
       "      <td>-0.208</td>\n",
       "      <td>-0.977</td>\n",
       "      <td>-1.080</td>\n",
       "      <td>-1.194</td>\n",
       "      <td>joy</td>\n",
       "      <td>anger</td>\n",
       "    </tr>\n",
       "  </tbody>\n",
       "</table>\n",
       "</div>"
      ],
      "text/plain": [
       "      WORD  Val    joy  anger  sadness   fear  disgust   AAPz  ang_z  fear_z  \\\n",
       "0    abart -1.6  1.476  1.714    1.714  1.810    2.476 -1.003  0.263  -0.027   \n",
       "1    abbau -1.0  1.250  2.400    2.350  2.300    1.500 -0.900  0.190  -0.497   \n",
       "2   abbild -0.2  1.864  1.454    1.227  1.364    1.318  0.881  0.158  -0.639   \n",
       "3  abbruch -0.7  1.100  2.550    1.700  2.150    1.200 -0.552  0.174  -0.697   \n",
       "4  abdruck -0.1  1.400  1.200    1.100  1.000    1.000  0.164  0.121  -1.780   \n",
       "\n",
       "   disg_z  hap_z  sad_z  surp_z   target new_target  \n",
       "0   1.348 -0.507  0.550   0.650  disgust    disgust  \n",
       "1  -0.531 -1.713 -1.041  -2.129    anger      anger  \n",
       "2   0.194 -0.230 -0.154  -0.974      joy    disgust  \n",
       "3  -0.540 -0.278 -0.366  -0.181    anger      anger  \n",
       "4  -0.208 -0.977 -1.080  -1.194      joy      anger  "
      ]
     },
     "execution_count": 15,
     "metadata": {},
     "output_type": "execute_result"
    }
   ],
   "source": [
    "df[\"new_target\"] = df[\"new_target\"].map({\"hap_z\": \"joy\", \"ang_z\": \"anger\", \"fear_z\": \"fear\", \"disg_z\": \"disgust\",\"sad_z\": \"sadness\"})\n",
    "df.head()"
   ]
  },
  {
   "cell_type": "code",
   "execution_count": 16,
   "metadata": {},
   "outputs": [
    {
     "data": {
      "text/plain": [
       "Text(0, 0.5, 'Label')"
      ]
     },
     "execution_count": 16,
     "metadata": {},
     "output_type": "execute_result"
    },
    {
     "data": {
      "image/png": "[encoded data removed]",
      "text/plain": [
       "<Figure size 432x288 with 1 Axes>"
      ]
     },
     "metadata": {
      "needs_background": "light"
     },
     "output_type": "display_data"
    }
   ],
   "source": [
    "ax = df.target.value_counts(sort=False).plot(kind=\"barh\")\n",
    "ax.set_xlabel(\"Number of Samples\")\n",
    "ax.set_ylabel(\"Label\")"
   ]
  },
  {
   "cell_type": "code",
   "execution_count": 17,
   "metadata": {},
   "outputs": [
    {
     "data": {
      "text/plain": [
       "Text(0, 0.5, 'Label')"
      ]
     },
     "execution_count": 17,
     "metadata": {},
     "output_type": "execute_result"
    },
    {
     "data": {
      "image/png": "[encoded data removed]",
      "text/plain": [
       "<Figure size 432x288 with 1 Axes>"
      ]
     },
     "metadata": {
      "needs_background": "light"
     },
     "output_type": "display_data"
    }
   ],
   "source": [
    "ax = df.new_target.value_counts(sort=False).plot(kind=\"barh\")\n",
    "ax.set_xlabel(\"Number of Samples\")\n",
    "ax.set_ylabel(\"Label\")"
   ]
  },
  {
   "cell_type": "code",
   "execution_count": 21,
   "metadata": {},
   "outputs": [
    {
     "name": "stdout",
     "output_type": "stream",
     "text": [
      "<class 'pandas.core.frame.DataFrame'>\n",
      "RangeIndex: 1958 entries, 0 to 1957\n",
      "Data columns (total 16 columns):\n",
      " #   Column      Non-Null Count  Dtype  \n",
      "---  ------      --------------  -----  \n",
      " 0   WORD        1958 non-null   object \n",
      " 1   Val         1958 non-null   float64\n",
      " 2   joy         1958 non-null   float64\n",
      " 3   anger       1958 non-null   float64\n",
      " 4   sadness     1958 non-null   float64\n",
      " 5   fear        1958 non-null   float64\n",
      " 6   disgust     1958 non-null   float64\n",
      " 7   AAPz        1813 non-null   float64\n",
      " 8   ang_z       1813 non-null   float64\n",
      " 9   fear_z      1813 non-null   float64\n",
      " 10  disg_z      1813 non-null   float64\n",
      " 11  hap_z       1813 non-null   float64\n",
      " 12  sad_z       1813 non-null   float64\n",
      " 13  surp_z      1813 non-null   float64\n",
      " 14  target      1958 non-null   object \n",
      " 15  new_target  1813 non-null   object \n",
      "dtypes: float64(13), object(3)\n",
      "memory usage: 244.9+ KB\n"
     ]
    }
   ],
   "source": [
    "df.info()"
   ]
  },
  {
   "cell_type": "code",
   "execution_count": 25,
   "metadata": {},
   "outputs": [
    {
     "data": {
      "text/html": [
       "<div>\n",
       "<style scoped>\n",
       "    .dataframe tbody tr th:only-of-type {\n",
       "        vertical-align: middle;\n",
       "    }\n",
       "\n",
       "    .dataframe tbody tr th {\n",
       "        vertical-align: top;\n",
       "    }\n",
       "\n",
       "    .dataframe thead th {\n",
       "        text-align: right;\n",
       "    }\n",
       "</style>\n",
       "<table border=\"1\" class=\"dataframe\">\n",
       "  <thead>\n",
       "    <tr style=\"text-align: right;\">\n",
       "      <th></th>\n",
       "      <th>WORD</th>\n",
       "      <th>Val</th>\n",
       "      <th>joy</th>\n",
       "      <th>anger</th>\n",
       "      <th>sadness</th>\n",
       "      <th>fear</th>\n",
       "      <th>disgust</th>\n",
       "      <th>AAPz</th>\n",
       "      <th>ang_z</th>\n",
       "      <th>fear_z</th>\n",
       "      <th>disg_z</th>\n",
       "      <th>hap_z</th>\n",
       "      <th>sad_z</th>\n",
       "      <th>surp_z</th>\n",
       "      <th>target</th>\n",
       "      <th>new_target</th>\n",
       "    </tr>\n",
       "  </thead>\n",
       "  <tbody>\n",
       "    <tr>\n",
       "      <th>0</th>\n",
       "      <td>abart</td>\n",
       "      <td>-1.6</td>\n",
       "      <td>1.476</td>\n",
       "      <td>1.714</td>\n",
       "      <td>1.714</td>\n",
       "      <td>1.810</td>\n",
       "      <td>2.476</td>\n",
       "      <td>-1.003</td>\n",
       "      <td>0.263</td>\n",
       "      <td>-0.027</td>\n",
       "      <td>1.348</td>\n",
       "      <td>-0.507</td>\n",
       "      <td>0.550</td>\n",
       "      <td>0.650</td>\n",
       "      <td>disgust</td>\n",
       "      <td>disgust</td>\n",
       "    </tr>\n",
       "    <tr>\n",
       "      <th>1</th>\n",
       "      <td>abbau</td>\n",
       "      <td>-1.0</td>\n",
       "      <td>1.250</td>\n",
       "      <td>2.400</td>\n",
       "      <td>2.350</td>\n",
       "      <td>2.300</td>\n",
       "      <td>1.500</td>\n",
       "      <td>-0.900</td>\n",
       "      <td>0.190</td>\n",
       "      <td>-0.497</td>\n",
       "      <td>-0.531</td>\n",
       "      <td>-1.713</td>\n",
       "      <td>-1.041</td>\n",
       "      <td>-2.129</td>\n",
       "      <td>anger</td>\n",
       "      <td>anger</td>\n",
       "    </tr>\n",
       "    <tr>\n",
       "      <th>2</th>\n",
       "      <td>abbild</td>\n",
       "      <td>-0.2</td>\n",
       "      <td>1.864</td>\n",
       "      <td>1.454</td>\n",
       "      <td>1.227</td>\n",
       "      <td>1.364</td>\n",
       "      <td>1.318</td>\n",
       "      <td>0.881</td>\n",
       "      <td>0.158</td>\n",
       "      <td>-0.639</td>\n",
       "      <td>0.194</td>\n",
       "      <td>-0.230</td>\n",
       "      <td>-0.154</td>\n",
       "      <td>-0.974</td>\n",
       "      <td>joy</td>\n",
       "      <td>disgust</td>\n",
       "    </tr>\n",
       "    <tr>\n",
       "      <th>3</th>\n",
       "      <td>abbruch</td>\n",
       "      <td>-0.7</td>\n",
       "      <td>1.100</td>\n",
       "      <td>2.550</td>\n",
       "      <td>1.700</td>\n",
       "      <td>2.150</td>\n",
       "      <td>1.200</td>\n",
       "      <td>-0.552</td>\n",
       "      <td>0.174</td>\n",
       "      <td>-0.697</td>\n",
       "      <td>-0.540</td>\n",
       "      <td>-0.278</td>\n",
       "      <td>-0.366</td>\n",
       "      <td>-0.181</td>\n",
       "      <td>anger</td>\n",
       "      <td>anger</td>\n",
       "    </tr>\n",
       "    <tr>\n",
       "      <th>4</th>\n",
       "      <td>abdruck</td>\n",
       "      <td>-0.1</td>\n",
       "      <td>1.400</td>\n",
       "      <td>1.200</td>\n",
       "      <td>1.100</td>\n",
       "      <td>1.000</td>\n",
       "      <td>1.000</td>\n",
       "      <td>0.164</td>\n",
       "      <td>0.121</td>\n",
       "      <td>-1.780</td>\n",
       "      <td>-0.208</td>\n",
       "      <td>-0.977</td>\n",
       "      <td>-1.080</td>\n",
       "      <td>-1.194</td>\n",
       "      <td>joy</td>\n",
       "      <td>anger</td>\n",
       "    </tr>\n",
       "  </tbody>\n",
       "</table>\n",
       "</div>"
      ],
      "text/plain": [
       "      WORD  Val    joy  anger  sadness   fear  disgust   AAPz  ang_z  fear_z  \\\n",
       "0    abart -1.6  1.476  1.714    1.714  1.810    2.476 -1.003  0.263  -0.027   \n",
       "1    abbau -1.0  1.250  2.400    2.350  2.300    1.500 -0.900  0.190  -0.497   \n",
       "2   abbild -0.2  1.864  1.454    1.227  1.364    1.318  0.881  0.158  -0.639   \n",
       "3  abbruch -0.7  1.100  2.550    1.700  2.150    1.200 -0.552  0.174  -0.697   \n",
       "4  abdruck -0.1  1.400  1.200    1.100  1.000    1.000  0.164  0.121  -1.780   \n",
       "\n",
       "   disg_z  hap_z  sad_z  surp_z   target new_target  \n",
       "0   1.348 -0.507  0.550   0.650  disgust    disgust  \n",
       "1  -0.531 -1.713 -1.041  -2.129    anger      anger  \n",
       "2   0.194 -0.230 -0.154  -0.974      joy    disgust  \n",
       "3  -0.540 -0.278 -0.366  -0.181    anger      anger  \n",
       "4  -0.208 -0.977 -1.080  -1.194      joy      anger  "
      ]
     },
     "execution_count": 25,
     "metadata": {},
     "output_type": "execute_result"
    }
   ],
   "source": [
    "df = df.dropna().reset_index(drop=True)\n",
    "df.head()"
   ]
  },
  {
   "cell_type": "code",
   "execution_count": 26,
   "metadata": {},
   "outputs": [
    {
     "data": {
      "image/png": "[encoded data removed]",
      "text/plain": [
       "<Figure size 432x288 with 1 Axes>"
      ]
     },
     "metadata": {
      "needs_background": "light"
     },
     "output_type": "display_data"
    }
   ],
   "source": [
    "plt.hist([df.target, df.new_target], label=[\"True\", \"predicted\"])\n",
    "plt.legend(loc='upper right')\n",
    "plt.show()"
   ]
  },
  {
   "cell_type": "code",
   "execution_count": 30,
   "metadata": {},
   "outputs": [],
   "source": [
    "from sklearn.metrics import f1_score, accuracy_score\n",
    "from sklearn import metrics"
   ]
  },
  {
   "cell_type": "code",
   "execution_count": 31,
   "metadata": {},
   "outputs": [
    {
     "name": "stdout",
     "output_type": "stream",
     "text": [
      "f1_macro of SentiArt: 0.305\n",
      "accuracy of SentiArt: 36.845 %\n"
     ]
    },
    {
     "data": {
      "image/png": "[encoded data removed]",
      "text/plain": [
       "<Figure size 360x360 with 2 Axes>"
      ]
     },
     "metadata": {
      "needs_background": "light"
     },
     "output_type": "display_data"
    }
   ],
   "source": [
    "f1_macro = f1_score(df.target, df.new_target, average=\"macro\")\n",
    "acc = accuracy_score(df.target, df.new_target)*100\n",
    "print(\"f1_macro of SentiArt:\", round(f1_macro, 3))\n",
    "print(\"accuracy of SentiArt:\", round(acc,3), \"%\")\n",
    "confusion_matrix = metrics.confusion_matrix(df.target, df.new_target)\n",
    "f,ax = plt.subplots(figsize=(5,5))\n",
    "sns.heatmap(confusion_matrix, annot=True, linewidths=.5, fmt= \"d\",ax=ax, cmap=\"YlGnBu\");\n",
    "plt.title(\"confusion matrix\")\n",
    "plt.xlabel(\"true label\");\n",
    "plt.ylabel(\"predictions\");"
   ]
  },
  {
   "cell_type": "code",
   "execution_count": 32,
   "metadata": {},
   "outputs": [],
   "source": [
    "from sklearn.model_selection import train_test_split\n",
    "from sklearn.pipeline import Pipeline\n",
    "from sklearn.feature_extraction.text import TfidfVectorizer\n",
    "from sklearn.naive_bayes import MultinomialNB\n",
    "from sklearn.svm import LinearSVC\n",
    "from sklearn import metrics\n",
    "from sklearn.linear_model import LogisticRegression"
   ]
  },
  {
   "cell_type": "code",
   "execution_count": 33,
   "metadata": {},
   "outputs": [],
   "source": [
    "X = df[\"WORD\"]\n",
    "y_target = df[\"target\"]\n",
    "y_label = df[\"new_target\"]\n",
    "\n",
    "X_train, X_test, y_train_t, y_test_t, y_train_l, y_test_l = train_test_split(X, y_target, y_label, test_size=0.30, random_state=42)"
   ]
  },
  {
   "cell_type": "code",
   "execution_count": 34,
   "metadata": {},
   "outputs": [],
   "source": [
    "# Naïve Bayes:\n",
    "text_clf_nb = Pipeline([('tfidf', TfidfVectorizer()),\n",
    "                     ('clf', MultinomialNB()),\n",
    "])\n",
    "\n",
    "# Linear SVC:\n",
    "text_clf_lsvc = Pipeline([('tfidf', TfidfVectorizer()),\n",
    "                     ('clf', LinearSVC()),\n",
    "])\n",
    "\n",
    "# LogisticRegression \n",
    "text_clf_lr = Pipeline([('tfidf', TfidfVectorizer()),\n",
    "                     ('clf', LogisticRegression()),\n",
    "])"
   ]
  },
  {
   "cell_type": "code",
   "execution_count": 35,
   "metadata": {},
   "outputs": [
    {
     "name": "stdout",
     "output_type": "stream",
     "text": [
      "Report of MultinomialNB\n",
      "Confusion Matrix \n",
      " [[  0   0   0 144   0]\n",
      " [  0   0   0 116   0]\n",
      " [  0   0   0  95   0]\n",
      " [  0   0   0 128   0]\n",
      " [  0   0   0  61   0]]\n",
      "              precision    recall  f1-score   support\n",
      "\n",
      "       anger       0.00      0.00      0.00       144\n",
      "     disgust       0.00      0.00      0.00       116\n",
      "        fear       0.00      0.00      0.00        95\n",
      "         joy       0.24      1.00      0.38       128\n",
      "     sadness       0.00      0.00      0.00        61\n",
      "\n",
      "    accuracy                           0.24       544\n",
      "   macro avg       0.05      0.20      0.08       544\n",
      "weighted avg       0.06      0.24      0.09       544\n",
      "\n",
      "Accuracy Score:  0.23529411764705882\n"
     ]
    }
   ],
   "source": [
    "print(\"Report of MultinomialNB\")\n",
    "text_clf_nb.fit(X_train, y_train_t)\n",
    "predictions = text_clf_nb.predict(X_test)\n",
    "print(\"Confusion Matrix \\n\",metrics.confusion_matrix(y_test_l,predictions))\n",
    "print(metrics.classification_report(y_test_l,predictions))\n",
    "print(\"Accuracy Score: \", metrics.accuracy_score(y_test_l,predictions))"
   ]
  },
  {
   "cell_type": "code",
   "execution_count": 36,
   "metadata": {},
   "outputs": [
    {
     "name": "stdout",
     "output_type": "stream",
     "text": [
      "Report of LinearSVC\n",
      "Confusion Matrix \n",
      " [[  0   0   0 144   0]\n",
      " [  0   0   0 116   0]\n",
      " [  0   0   0  95   0]\n",
      " [  0   0   0 128   0]\n",
      " [  0   0   0  61   0]]\n",
      "              precision    recall  f1-score   support\n",
      "\n",
      "       anger       0.00      0.00      0.00       144\n",
      "     disgust       0.00      0.00      0.00       116\n",
      "        fear       0.00      0.00      0.00        95\n",
      "         joy       0.24      1.00      0.38       128\n",
      "     sadness       0.00      0.00      0.00        61\n",
      "\n",
      "    accuracy                           0.24       544\n",
      "   macro avg       0.05      0.20      0.08       544\n",
      "weighted avg       0.06      0.24      0.09       544\n",
      "\n",
      "Accuracy Score:  0.23529411764705882\n"
     ]
    }
   ],
   "source": [
    "print(\"Report of LinearSVC\")\n",
    "text_clf_lsvc.fit(X_train, y_train_t)\n",
    "predictions = text_clf_lsvc.predict(X_test)\n",
    "print(\"Confusion Matrix \\n\", metrics.confusion_matrix(y_test_l,predictions))\n",
    "print(metrics.classification_report(y_test_l,predictions))\n",
    "print(\"Accuracy Score: \", metrics.accuracy_score(y_test_l,predictions))"
   ]
  },
  {
   "cell_type": "code",
   "execution_count": 37,
   "metadata": {},
   "outputs": [
    {
     "name": "stdout",
     "output_type": "stream",
     "text": [
      "Report of LogisticRegression\n",
      "Confusion Matrix \n",
      " [[  0   0   0 144   0]\n",
      " [  0   0   0 116   0]\n",
      " [  0   0   0  95   0]\n",
      " [  0   0   0 128   0]\n",
      " [  0   0   0  61   0]]\n",
      "              precision    recall  f1-score   support\n",
      "\n",
      "       anger       0.00      0.00      0.00       144\n",
      "     disgust       0.00      0.00      0.00       116\n",
      "        fear       0.00      0.00      0.00        95\n",
      "         joy       0.24      1.00      0.38       128\n",
      "     sadness       0.00      0.00      0.00        61\n",
      "\n",
      "    accuracy                           0.24       544\n",
      "   macro avg       0.05      0.20      0.08       544\n",
      "weighted avg       0.06      0.24      0.09       544\n",
      "\n",
      "Accuracy Score:  0.23529411764705882\n"
     ]
    }
   ],
   "source": [
    "print(\"Report of LogisticRegression\")\n",
    "text_clf_lr.fit(X_train, y_train_t)\n",
    "predictions = text_clf_lr.predict(X_test)\n",
    "print(\"Confusion Matrix \\n\", metrics.confusion_matrix(y_test_l,predictions))\n",
    "print(metrics.classification_report(y_test_l,predictions))\n",
    "print(\"Accuracy Score: \", metrics.accuracy_score(y_test_l,predictions))"
   ]
  },
  {
   "cell_type": "code",
   "execution_count": null,
   "metadata": {},
   "outputs": [],
   "source": []
  }
 ],
 "metadata": {
  "kernelspec": {
   "display_name": "Python 3",
   "language": "python",
   "name": "python3"
  },
  "language_info": {
   "codemirror_mode": {
    "name": "ipython",
    "version": 3
   },
   "file_extension": ".py",
   "mimetype": "text/x-python",
   "name": "python",
   "nbconvert_exporter": "python",
   "pygments_lexer": "ipython3",
   "version": "3.8.3"
  }
 },
 "nbformat": 4,
 "nbformat_minor": 4
}
