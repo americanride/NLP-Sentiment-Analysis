{
 "cells": [
  {
   "cell_type": "code",
   "execution_count": 1,
   "metadata": {},
   "outputs": [],
   "source": [
    "import os,codecs\n",
    "import pandas as pd\n",
    "import nltk\n",
    "from nltk import*\n",
    "import matplotlib.pyplot as plt\n",
    "import string\n",
    "import numpy as np\n",
    "import seaborn as sns"
   ]
  },
  {
   "cell_type": "code",
   "execution_count": 2,
   "metadata": {},
   "outputs": [
    {
     "data": {
      "text/html": [
       "<div>\n",
       "<style scoped>\n",
       "    .dataframe tbody tr th:only-of-type {\n",
       "        vertical-align: middle;\n",
       "    }\n",
       "\n",
       "    .dataframe tbody tr th {\n",
       "        vertical-align: top;\n",
       "    }\n",
       "\n",
       "    .dataframe thead th {\n",
       "        text-align: right;\n",
       "    }\n",
       "</style>\n",
       "<table border=\"1\" class=\"dataframe\">\n",
       "  <thead>\n",
       "    <tr style=\"text-align: right;\">\n",
       "      <th></th>\n",
       "      <th>WORD</th>\n",
       "      <th>Val</th>\n",
       "      <th>Val_sd</th>\n",
       "      <th>joy</th>\n",
       "      <th>joy_sd</th>\n",
       "      <th>anger</th>\n",
       "      <th>anger_sd</th>\n",
       "      <th>sadness</th>\n",
       "      <th>sadness_sd</th>\n",
       "      <th>fear</th>\n",
       "      <th>fear_sd</th>\n",
       "      <th>disgust</th>\n",
       "      <th>disgust_sd</th>\n",
       "    </tr>\n",
       "  </thead>\n",
       "  <tbody>\n",
       "    <tr>\n",
       "      <th>0</th>\n",
       "      <td>abart</td>\n",
       "      <td>-1,6</td>\n",
       "      <td>0,6992059</td>\n",
       "      <td>1,4762</td>\n",
       "      <td>0,98076744</td>\n",
       "      <td>1,7143</td>\n",
       "      <td>1,0556</td>\n",
       "      <td>1,7143</td>\n",
       "      <td>1,1019</td>\n",
       "      <td>1,8095</td>\n",
       "      <td>0,9284</td>\n",
       "      <td>2,4762</td>\n",
       "      <td>1,3645</td>\n",
       "    </tr>\n",
       "    <tr>\n",
       "      <th>1</th>\n",
       "      <td>abbau</td>\n",
       "      <td>-1</td>\n",
       "      <td>1,1697953</td>\n",
       "      <td>1,25</td>\n",
       "      <td>0,7163504</td>\n",
       "      <td>2,4</td>\n",
       "      <td>1,1425</td>\n",
       "      <td>2,35</td>\n",
       "      <td>1,2258</td>\n",
       "      <td>2,3</td>\n",
       "      <td>1,4179</td>\n",
       "      <td>1,5</td>\n",
       "      <td>0,8272</td>\n",
       "    </tr>\n",
       "    <tr>\n",
       "      <th>2</th>\n",
       "      <td>abbild</td>\n",
       "      <td>-0,2</td>\n",
       "      <td>0,63245553</td>\n",
       "      <td>1,8636</td>\n",
       "      <td>1,03718734</td>\n",
       "      <td>1,4545</td>\n",
       "      <td>1,0108</td>\n",
       "      <td>1,2273</td>\n",
       "      <td>0,5284</td>\n",
       "      <td>1,3636</td>\n",
       "      <td>0,9021</td>\n",
       "      <td>1,3182</td>\n",
       "      <td>0,9455</td>\n",
       "    </tr>\n",
       "    <tr>\n",
       "      <th>3</th>\n",
       "      <td>abbruch</td>\n",
       "      <td>-0,7</td>\n",
       "      <td>1,15950181</td>\n",
       "      <td>1,1</td>\n",
       "      <td>0,30779351</td>\n",
       "      <td>2,55</td>\n",
       "      <td>1,3169</td>\n",
       "      <td>1,7</td>\n",
       "      <td>0,9234</td>\n",
       "      <td>2,15</td>\n",
       "      <td>1,268</td>\n",
       "      <td>1,2</td>\n",
       "      <td>0,6959</td>\n",
       "    </tr>\n",
       "    <tr>\n",
       "      <th>4</th>\n",
       "      <td>abdruck</td>\n",
       "      <td>-0,1</td>\n",
       "      <td>0,31622777</td>\n",
       "      <td>1,4</td>\n",
       "      <td>0,75393703</td>\n",
       "      <td>1,2</td>\n",
       "      <td>0,5231</td>\n",
       "      <td>1,1</td>\n",
       "      <td>0,4472</td>\n",
       "      <td>1</td>\n",
       "      <td>0</td>\n",
       "      <td>1</td>\n",
       "      <td>0</td>\n",
       "    </tr>\n",
       "  </tbody>\n",
       "</table>\n",
       "</div>"
      ],
      "text/plain": [
       "      WORD   Val      Val_sd     joy      joy_sd   anger anger_sd sadness  \\\n",
       "0    abart  -1,6   0,6992059  1,4762  0,98076744  1,7143   1,0556  1,7143   \n",
       "1    abbau    -1   1,1697953    1,25   0,7163504     2,4   1,1425    2,35   \n",
       "2   abbild  -0,2  0,63245553  1,8636  1,03718734  1,4545   1,0108  1,2273   \n",
       "3  abbruch  -0,7  1,15950181     1,1  0,30779351    2,55   1,3169     1,7   \n",
       "4  abdruck  -0,1  0,31622777     1,4  0,75393703     1,2   0,5231     1,1   \n",
       "\n",
       "  sadness_sd    fear fear_sd disgust disgust_sd  \n",
       "0     1,1019  1,8095  0,9284  2,4762     1,3645  \n",
       "1     1,2258     2,3  1,4179     1,5     0,8272  \n",
       "2     0,5284  1,3636  0,9021  1,3182     0,9455  \n",
       "3     0,9234    2,15   1,268     1,2     0,6959  \n",
       "4     0,4472       1       0       1          0  "
      ]
     },
     "execution_count": 2,
     "metadata": {},
     "output_type": "execute_result"
    }
   ],
   "source": [
    "df = pd.read_csv('/Users/ganiyuopeyemi/desktop/NLP/denn_bawl_german.txt', error_bad_lines=False)\n",
    "df.head()"
   ]
  },
  {
   "cell_type": "code",
   "execution_count": 3,
   "metadata": {},
   "outputs": [
    {
     "data": {
      "text/plain": [
       "(1958, 13)"
      ]
     },
     "execution_count": 3,
     "metadata": {},
     "output_type": "execute_result"
    }
   ],
   "source": [
    "df.shape"
   ]
  },
  {
   "cell_type": "code",
   "execution_count": 4,
   "metadata": {},
   "outputs": [],
   "source": [
    "#German words, including nouns (2,107), verbs (504), and adjectives (291)"
   ]
  },
  {
   "cell_type": "code",
   "execution_count": 5,
   "metadata": {},
   "outputs": [
    {
     "name": "stdout",
     "output_type": "stream",
     "text": [
      "<class 'pandas.core.frame.DataFrame'>\n",
      "RangeIndex: 1958 entries, 0 to 1957\n",
      "Data columns (total 13 columns):\n",
      " #   Column      Non-Null Count  Dtype \n",
      "---  ------      --------------  ----- \n",
      " 0   WORD        1958 non-null   object\n",
      " 1   Val         1958 non-null   object\n",
      " 2   Val_sd      1958 non-null   object\n",
      " 3   joy         1958 non-null   object\n",
      " 4   joy_sd      1958 non-null   object\n",
      " 5   anger       1958 non-null   object\n",
      " 6   anger_sd    1958 non-null   object\n",
      " 7   sadness     1958 non-null   object\n",
      " 8   sadness_sd  1958 non-null   object\n",
      " 9   fear        1958 non-null   object\n",
      " 10  fear_sd     1958 non-null   object\n",
      " 11  disgust     1958 non-null   object\n",
      " 12  disgust_sd  1958 non-null   object\n",
      "dtypes: object(13)\n",
      "memory usage: 199.0+ KB\n"
     ]
    }
   ],
   "source": [
    "df.info()"
   ]
  },
  {
   "cell_type": "code",
   "execution_count": 6,
   "metadata": {},
   "outputs": [
    {
     "data": {
      "text/plain": [
       "WORD          object\n",
       "Val           object\n",
       "Val_sd        object\n",
       "joy           object\n",
       "joy_sd        object\n",
       "anger         object\n",
       "anger_sd      object\n",
       "sadness       object\n",
       "sadness_sd    object\n",
       "fear          object\n",
       "fear_sd       object\n",
       "disgust       object\n",
       "disgust_sd    object\n",
       "dtype: object"
      ]
     },
     "execution_count": 6,
     "metadata": {},
     "output_type": "execute_result"
    }
   ],
   "source": [
    "df.dtypes"
   ]
  },
  {
   "cell_type": "code",
   "execution_count": 7,
   "metadata": {},
   "outputs": [
    {
     "name": "stdout",
     "output_type": "stream",
     "text": [
      "<class 'pandas.core.frame.DataFrame'>\n",
      "RangeIndex: 1958 entries, 0 to 1957\n",
      "Data columns (total 13 columns):\n",
      " #   Column      Non-Null Count  Dtype \n",
      "---  ------      --------------  ----- \n",
      " 0   WORD        1958 non-null   object\n",
      " 1   Val         1958 non-null   object\n",
      " 2   Val_sd      1958 non-null   object\n",
      " 3   joy         1958 non-null   object\n",
      " 4   joy_sd      1958 non-null   object\n",
      " 5   anger       1958 non-null   object\n",
      " 6   anger_sd    1958 non-null   object\n",
      " 7   sadness     1958 non-null   object\n",
      " 8   sadness_sd  1958 non-null   object\n",
      " 9   fear        1958 non-null   object\n",
      " 10  fear_sd     1958 non-null   object\n",
      " 11  disgust     1958 non-null   object\n",
      " 12  disgust_sd  1958 non-null   object\n",
      "dtypes: object(13)\n",
      "memory usage: 199.0+ KB\n"
     ]
    }
   ],
   "source": [
    "df.info()"
   ]
  },
  {
   "cell_type": "code",
   "execution_count": 8,
   "metadata": {},
   "outputs": [],
   "source": [
    "df = df.apply(lambda x: x.str.replace(',','.'))\n",
    "cols = df.columns.drop(\"WORD\")\n",
    "df[cols] = df[cols].apply(pd.to_numeric, errors='coerce')"
   ]
  },
  {
   "cell_type": "code",
   "execution_count": 9,
   "metadata": {},
   "outputs": [
    {
     "name": "stdout",
     "output_type": "stream",
     "text": [
      "              word      wordLC    AAPz  ang_z  fear_z  disg_z   hap_z   sad_z  \\\n",
      "0           Aachen      aachen  0.6557  0.097 -1.0980 -1.2940 -0.4470 -1.3020   \n",
      "1              Aal         aal  0.3076  0.234 -0.4620  1.4168 -0.1940  0.1161   \n",
      "2             Aale        aale  0.0619  0.218 -0.1440  0.4773 -0.1210 -0.1830   \n",
      "3              Aas         aas -1.0440  0.258  0.1618  2.0333  0.3128  0.3957   \n",
      "4       Aasfresser  aasfresser -1.5150  0.327  1.1859  1.9843  0.2766  0.6850   \n",
      "...            ...         ...     ...    ...     ...     ...     ...     ...   \n",
      "116308     üppigem     üppigem  2.1710  0.152 -1.6270 -0.1590  0.9881  0.3765   \n",
      "116309     üppigen     üppigen  2.0481  0.127 -1.6160 -0.7360  0.4093  0.0004   \n",
      "116310     üppiger     üppiger  2.0276  0.143 -1.5920 -0.6580  0.6143  0.1836   \n",
      "116311   üppigeren   üppigeren  1.5157  0.078 -1.6630 -1.2940 -0.3500 -0.7420   \n",
      "116312     üppiges     üppiges  1.6386  0.134 -1.5450 -0.3550  0.6625 -0.1350   \n",
      "\n",
      "        surp_z  \n",
      "0      -0.6360  \n",
      "1      -0.3240  \n",
      "2       0.0135  \n",
      "3      -0.8440  \n",
      "4       0.5720  \n",
      "...        ...  \n",
      "116308 -0.5970  \n",
      "116309  0.0915  \n",
      "116310 -0.2720  \n",
      "116311 -0.6100  \n",
      "116312  0.2473  \n",
      "\n",
      "[116313 rows x 9 columns]\n"
     ]
    }
   ],
   "source": [
    "#TC = '250kSentiArt_EN.xlsx' \n",
    "sa = pd.read_excel('/Users/ganiyuopeyemi/desktop/NLP/SentiArt-main/120kSentiArt_DE.xlsx') #    \n",
    "print(sa)"
   ]
  },
  {
   "cell_type": "code",
   "execution_count": 10,
   "metadata": {},
   "outputs": [],
   "source": [
    "word_AAPz = []\n",
    "word_ang_z = []\n",
    "word_fear_z = []\n",
    "word_disg_z = []\n",
    "word_hap_z = []\n",
    "word_sad_z = []\n",
    "word_surp_z = []"
   ]
  },
  {
   "cell_type": "code",
   "execution_count": 11,
   "metadata": {},
   "outputs": [],
   "source": [
    "for t in df.WORD:\n",
    "    dt = sa.query('wordLC in @t')\n",
    "    word_AAPz.append(dt.AAPz.mean())\n",
    "    word_ang_z.append(dt.ang_z.mean())\n",
    "    word_fear_z.append(dt.fear_z.mean())\n",
    "    word_disg_z.append(dt.disg_z.mean())\n",
    "    word_hap_z.append(dt.hap_z.mean())\n",
    "    word_sad_z.append(dt.sad_z.mean())\n",
    "    word_surp_z.append(dt.surp_z.mean())\n",
    "\n"
   ]
  },
  {
   "cell_type": "code",
   "execution_count": 12,
   "metadata": {},
   "outputs": [],
   "source": [
    "df['AAPz'] = word_AAPz\n",
    "df['ang_z'] = word_ang_z\n",
    "df['fear_z'] = word_fear_z\n",
    "df['disg_z'] = word_disg_z\n",
    "df['hap_z'] = word_hap_z\n",
    "df['sad_z'] = word_sad_z\n",
    "df['surp_z'] = word_surp_z\n",
    "df = round(df,3)"
   ]
  },
  {
   "cell_type": "code",
   "execution_count": 13,
   "metadata": {},
   "outputs": [
    {
     "data": {
      "text/plain": [
       "WORD            0\n",
       "Val             0\n",
       "Val_sd          0\n",
       "joy             0\n",
       "joy_sd          0\n",
       "anger           0\n",
       "anger_sd        0\n",
       "sadness         0\n",
       "sadness_sd      0\n",
       "fear            0\n",
       "fear_sd         0\n",
       "disgust         0\n",
       "disgust_sd      0\n",
       "AAPz          145\n",
       "ang_z         145\n",
       "fear_z        145\n",
       "disg_z        145\n",
       "hap_z         145\n",
       "sad_z         145\n",
       "surp_z        145\n",
       "dtype: int64"
      ]
     },
     "execution_count": 13,
     "metadata": {},
     "output_type": "execute_result"
    }
   ],
   "source": [
    "df.isna().sum()"
   ]
  },
  {
   "cell_type": "code",
   "execution_count": 14,
   "metadata": {},
   "outputs": [],
   "source": [
    "df = df.drop(columns=['Val_sd','joy_sd','fear_sd','anger_sd','sadness_sd','disgust_sd'], axis=1)"
   ]
  },
  {
   "cell_type": "code",
   "execution_count": 15,
   "metadata": {},
   "outputs": [],
   "source": [
    "word_list = []\n",
    "for word in df.WORD:\n",
    "    word_list.append(word)"
   ]
  },
  {
   "cell_type": "code",
   "execution_count": 16,
   "metadata": {},
   "outputs": [
    {
     "name": "stdout",
     "output_type": "stream",
     "text": [
      "1958\n",
      "1958\n"
     ]
    }
   ],
   "source": [
    "print(len(word_list))\n",
    "print(len(set(word_list)))"
   ]
  },
  {
   "cell_type": "code",
   "execution_count": 17,
   "metadata": {},
   "outputs": [],
   "source": [
    "st_words = []\n",
    "for word in sa.wordLC:\n",
    "    st_words.append(word)"
   ]
  },
  {
   "cell_type": "code",
   "execution_count": 18,
   "metadata": {},
   "outputs": [
    {
     "name": "stdout",
     "output_type": "stream",
     "text": [
      "116313\n",
      "116313\n"
     ]
    }
   ],
   "source": [
    "print(len(st_words))\n",
    "print(len(set((st_words))))"
   ]
  },
  {
   "cell_type": "code",
   "execution_count": 19,
   "metadata": {},
   "outputs": [],
   "source": [
    "match = []\n",
    "for word in word_list:\n",
    "    if word in st_words:\n",
    "        match.append(word)"
   ]
  },
  {
   "cell_type": "code",
   "execution_count": 20,
   "metadata": {},
   "outputs": [
    {
     "name": "stdout",
     "output_type": "stream",
     "text": [
      "1813\n",
      "1813\n"
     ]
    }
   ],
   "source": [
    "print(len(match))\n",
    "print(len(set(match)))"
   ]
  },
  {
   "cell_type": "code",
   "execution_count": 21,
   "metadata": {},
   "outputs": [
    {
     "data": {
      "text/plain": [
       "92.59448416751788"
      ]
     },
     "execution_count": 21,
     "metadata": {},
     "output_type": "execute_result"
    }
   ],
   "source": [
    "(len(set(match))/len(set(word_list)))*100"
   ]
  },
  {
   "cell_type": "code",
   "execution_count": 22,
   "metadata": {},
   "outputs": [],
   "source": [
    "df = df.dropna().reset_index(drop=True)"
   ]
  },
  {
   "cell_type": "code",
   "execution_count": 23,
   "metadata": {},
   "outputs": [
    {
     "data": {
      "text/html": [
       "<div>\n",
       "<style scoped>\n",
       "    .dataframe tbody tr th:only-of-type {\n",
       "        vertical-align: middle;\n",
       "    }\n",
       "\n",
       "    .dataframe tbody tr th {\n",
       "        vertical-align: top;\n",
       "    }\n",
       "\n",
       "    .dataframe thead th {\n",
       "        text-align: right;\n",
       "    }\n",
       "</style>\n",
       "<table border=\"1\" class=\"dataframe\">\n",
       "  <thead>\n",
       "    <tr style=\"text-align: right;\">\n",
       "      <th></th>\n",
       "      <th>Val</th>\n",
       "      <th>joy</th>\n",
       "      <th>anger</th>\n",
       "      <th>sadness</th>\n",
       "      <th>fear</th>\n",
       "      <th>disgust</th>\n",
       "    </tr>\n",
       "  </thead>\n",
       "  <tbody>\n",
       "    <tr>\n",
       "      <th>Val</th>\n",
       "      <td>1.000000</td>\n",
       "      <td>0.835330</td>\n",
       "      <td>-0.721242</td>\n",
       "      <td>-0.504486</td>\n",
       "      <td>-0.643262</td>\n",
       "      <td>-0.444431</td>\n",
       "    </tr>\n",
       "    <tr>\n",
       "      <th>joy</th>\n",
       "      <td>0.835330</td>\n",
       "      <td>1.000000</td>\n",
       "      <td>-0.517698</td>\n",
       "      <td>-0.271411</td>\n",
       "      <td>-0.420272</td>\n",
       "      <td>-0.335091</td>\n",
       "    </tr>\n",
       "    <tr>\n",
       "      <th>anger</th>\n",
       "      <td>-0.721242</td>\n",
       "      <td>-0.517698</td>\n",
       "      <td>1.000000</td>\n",
       "      <td>0.548810</td>\n",
       "      <td>0.619848</td>\n",
       "      <td>0.367870</td>\n",
       "    </tr>\n",
       "    <tr>\n",
       "      <th>sadness</th>\n",
       "      <td>-0.504486</td>\n",
       "      <td>-0.271411</td>\n",
       "      <td>0.548810</td>\n",
       "      <td>1.000000</td>\n",
       "      <td>0.703243</td>\n",
       "      <td>0.307711</td>\n",
       "    </tr>\n",
       "    <tr>\n",
       "      <th>fear</th>\n",
       "      <td>-0.643262</td>\n",
       "      <td>-0.420272</td>\n",
       "      <td>0.619848</td>\n",
       "      <td>0.703243</td>\n",
       "      <td>1.000000</td>\n",
       "      <td>0.390473</td>\n",
       "    </tr>\n",
       "    <tr>\n",
       "      <th>disgust</th>\n",
       "      <td>-0.444431</td>\n",
       "      <td>-0.335091</td>\n",
       "      <td>0.367870</td>\n",
       "      <td>0.307711</td>\n",
       "      <td>0.390473</td>\n",
       "      <td>1.000000</td>\n",
       "    </tr>\n",
       "  </tbody>\n",
       "</table>\n",
       "</div>"
      ],
      "text/plain": [
       "              Val       joy     anger   sadness      fear   disgust\n",
       "Val      1.000000  0.835330 -0.721242 -0.504486 -0.643262 -0.444431\n",
       "joy      0.835330  1.000000 -0.517698 -0.271411 -0.420272 -0.335091\n",
       "anger   -0.721242 -0.517698  1.000000  0.548810  0.619848  0.367870\n",
       "sadness -0.504486 -0.271411  0.548810  1.000000  0.703243  0.307711\n",
       "fear    -0.643262 -0.420272  0.619848  0.703243  1.000000  0.390473\n",
       "disgust -0.444431 -0.335091  0.367870  0.307711  0.390473  1.000000"
      ]
     },
     "execution_count": 23,
     "metadata": {},
     "output_type": "execute_result"
    }
   ],
   "source": [
    "corrMatrix = df[['Val', 'joy', 'anger', 'sadness', 'fear', 'disgust']].corr()\n",
    "corrMatrix"
   ]
  },
  {
   "cell_type": "code",
   "execution_count": 24,
   "metadata": {},
   "outputs": [
    {
     "data": {
      "text/html": [
       "<div>\n",
       "<style scoped>\n",
       "    .dataframe tbody tr th:only-of-type {\n",
       "        vertical-align: middle;\n",
       "    }\n",
       "\n",
       "    .dataframe tbody tr th {\n",
       "        vertical-align: top;\n",
       "    }\n",
       "\n",
       "    .dataframe thead th {\n",
       "        text-align: right;\n",
       "    }\n",
       "</style>\n",
       "<table border=\"1\" class=\"dataframe\">\n",
       "  <thead>\n",
       "    <tr style=\"text-align: right;\">\n",
       "      <th></th>\n",
       "      <th>AAPz</th>\n",
       "      <th>ang_z</th>\n",
       "      <th>fear_z</th>\n",
       "      <th>disg_z</th>\n",
       "      <th>hap_z</th>\n",
       "      <th>hap_z</th>\n",
       "      <th>sad_z</th>\n",
       "      <th>surp_z</th>\n",
       "    </tr>\n",
       "  </thead>\n",
       "  <tbody>\n",
       "    <tr>\n",
       "      <th>AAPz</th>\n",
       "      <td>1.000000</td>\n",
       "      <td>-0.504830</td>\n",
       "      <td>-0.554673</td>\n",
       "      <td>-0.424148</td>\n",
       "      <td>0.149612</td>\n",
       "      <td>0.149612</td>\n",
       "      <td>-0.178172</td>\n",
       "      <td>-0.021142</td>\n",
       "    </tr>\n",
       "    <tr>\n",
       "      <th>ang_z</th>\n",
       "      <td>-0.504830</td>\n",
       "      <td>1.000000</td>\n",
       "      <td>0.868058</td>\n",
       "      <td>0.788438</td>\n",
       "      <td>0.615961</td>\n",
       "      <td>0.615961</td>\n",
       "      <td>0.812234</td>\n",
       "      <td>0.495355</td>\n",
       "    </tr>\n",
       "    <tr>\n",
       "      <th>fear_z</th>\n",
       "      <td>-0.554673</td>\n",
       "      <td>0.868058</td>\n",
       "      <td>1.000000</td>\n",
       "      <td>0.739082</td>\n",
       "      <td>0.569993</td>\n",
       "      <td>0.569993</td>\n",
       "      <td>0.768103</td>\n",
       "      <td>0.472010</td>\n",
       "    </tr>\n",
       "    <tr>\n",
       "      <th>disg_z</th>\n",
       "      <td>-0.424148</td>\n",
       "      <td>0.788438</td>\n",
       "      <td>0.739082</td>\n",
       "      <td>1.000000</td>\n",
       "      <td>0.576293</td>\n",
       "      <td>0.576293</td>\n",
       "      <td>0.790653</td>\n",
       "      <td>0.407557</td>\n",
       "    </tr>\n",
       "    <tr>\n",
       "      <th>hap_z</th>\n",
       "      <td>0.149612</td>\n",
       "      <td>0.615961</td>\n",
       "      <td>0.569993</td>\n",
       "      <td>0.576293</td>\n",
       "      <td>1.000000</td>\n",
       "      <td>1.000000</td>\n",
       "      <td>0.768649</td>\n",
       "      <td>0.611362</td>\n",
       "    </tr>\n",
       "    <tr>\n",
       "      <th>hap_z</th>\n",
       "      <td>0.149612</td>\n",
       "      <td>0.615961</td>\n",
       "      <td>0.569993</td>\n",
       "      <td>0.576293</td>\n",
       "      <td>1.000000</td>\n",
       "      <td>1.000000</td>\n",
       "      <td>0.768649</td>\n",
       "      <td>0.611362</td>\n",
       "    </tr>\n",
       "    <tr>\n",
       "      <th>sad_z</th>\n",
       "      <td>-0.178172</td>\n",
       "      <td>0.812234</td>\n",
       "      <td>0.768103</td>\n",
       "      <td>0.790653</td>\n",
       "      <td>0.768649</td>\n",
       "      <td>0.768649</td>\n",
       "      <td>1.000000</td>\n",
       "      <td>0.515230</td>\n",
       "    </tr>\n",
       "    <tr>\n",
       "      <th>surp_z</th>\n",
       "      <td>-0.021142</td>\n",
       "      <td>0.495355</td>\n",
       "      <td>0.472010</td>\n",
       "      <td>0.407557</td>\n",
       "      <td>0.611362</td>\n",
       "      <td>0.611362</td>\n",
       "      <td>0.515230</td>\n",
       "      <td>1.000000</td>\n",
       "    </tr>\n",
       "  </tbody>\n",
       "</table>\n",
       "</div>"
      ],
      "text/plain": [
       "            AAPz     ang_z    fear_z    disg_z     hap_z     hap_z     sad_z  \\\n",
       "AAPz    1.000000 -0.504830 -0.554673 -0.424148  0.149612  0.149612 -0.178172   \n",
       "ang_z  -0.504830  1.000000  0.868058  0.788438  0.615961  0.615961  0.812234   \n",
       "fear_z -0.554673  0.868058  1.000000  0.739082  0.569993  0.569993  0.768103   \n",
       "disg_z -0.424148  0.788438  0.739082  1.000000  0.576293  0.576293  0.790653   \n",
       "hap_z   0.149612  0.615961  0.569993  0.576293  1.000000  1.000000  0.768649   \n",
       "hap_z   0.149612  0.615961  0.569993  0.576293  1.000000  1.000000  0.768649   \n",
       "sad_z  -0.178172  0.812234  0.768103  0.790653  0.768649  0.768649  1.000000   \n",
       "surp_z -0.021142  0.495355  0.472010  0.407557  0.611362  0.611362  0.515230   \n",
       "\n",
       "          surp_z  \n",
       "AAPz   -0.021142  \n",
       "ang_z   0.495355  \n",
       "fear_z  0.472010  \n",
       "disg_z  0.407557  \n",
       "hap_z   0.611362  \n",
       "hap_z   0.611362  \n",
       "sad_z   0.515230  \n",
       "surp_z  1.000000  "
      ]
     },
     "execution_count": 24,
     "metadata": {},
     "output_type": "execute_result"
    }
   ],
   "source": [
    "corrMatrix_s = df[[\"AAPz\", \"ang_z\", \"fear_z\", \"disg_z\",\"hap_z\",\"hap_z\",\"sad_z\",\"surp_z\"]].corr()\n",
    "corrMatrix_s"
   ]
  },
  {
   "cell_type": "code",
   "execution_count": 70,
   "metadata": {},
   "outputs": [],
   "source": [
    "#from sklearn.linear_model import LinearRegression\n",
    "from scipy import stats"
   ]
  },
  {
   "cell_type": "code",
   "execution_count": 71,
   "metadata": {},
   "outputs": [
    {
     "data": {
      "image/png": "[encoded data removed]",
      "text/plain": [
       "<Figure size 1080x720 with 1 Axes>"
      ]
     },
     "metadata": {
      "needs_background": "light"
     },
     "output_type": "display_data"
    },
    {
     "name": "stdout",
     "output_type": "stream",
     "text": [
      "Gradient =  0.864\n",
      "R-squared=  0.725\n",
      "p_value=  0.0\n",
      "std_err=  0.019\n"
     ]
    }
   ],
   "source": [
    "x = df[\"AAPz\"]\n",
    "y = df[\"Val\"]\n",
    "gradient, intercept, r_value, p_value, std_err = stats.linregress(x,y)\n",
    "mn=np.min(x)\n",
    "mx=np.max(x)\n",
    "x1=np.linspace(mn,mx,500)\n",
    "y1 = gradient*x1 + intercept\n",
    "plt.plot(x,y,'ob')\n",
    "plt.plot(x1, y1,'-r')\n",
    "plt.xlabel(\"APPz\")\n",
    "plt.ylabel(\"valence rating\")\n",
    "plt.show()\n",
    "print(\"Gradient = \", round(gradient, 3))\n",
    "print(\"R-squared= \", round(r_value, 3))\n",
    "print(\"p_value= \", round(p_value, 3))\n",
    "print(\"std_err= \", round(std_err, 3))"
   ]
  },
  {
   "cell_type": "markdown",
   "metadata": {},
   "source": [
    "Positive relation visible between AAPz and Valence rating"
   ]
  },
  {
   "cell_type": "markdown",
   "metadata": {},
   "source": [
    "Interpretation\n",
    "1. between both indicators exist a fairly strong positive correlation\n",
    "2. normal as Valence rating is a part of Affective-Aesthetic Potential\n",
    "3. some outliers are in the data but in this case they do have no direct influence on relation"
   ]
  },
  {
   "cell_type": "code",
   "execution_count": 27,
   "metadata": {},
   "outputs": [],
   "source": [
    "df_categories = pd.DataFrame()"
   ]
  },
  {
   "cell_type": "code",
   "execution_count": 28,
   "metadata": {},
   "outputs": [],
   "source": [
    "df_categories[\"Val\"] = pd.cut(df[\"Val\"], bins = 3, labels=[1, 2, 3])\n",
    "df_categories[\"joy\"] = pd.cut(df[\"joy\"], bins = 3, labels=[1, 2, 3])\n",
    "df_categories[\"anger\"] = pd.cut(df[\"anger\"], bins = 3, labels=[1, 2, 3])\n",
    "df_categories[\"sadness\"] = pd.cut(df[\"sadness\"], bins = 3, labels=[1, 2, 3])\n",
    "df_categories[\"fear\"] = pd.cut(df[\"fear\"], bins = 3, labels=[1, 2, 3])\n",
    "df_categories[\"disgust\"] = pd.cut(df[\"disgust\"], bins = 3, labels=[1, 2, 3])\n",
    "df_categories[\"AAPz\"] = pd.cut(df[\"AAPz\"], bins = 3, labels=[1, 2, 3])\n",
    "df_categories[\"ang_z\"] = pd.cut(df[\"ang_z\"], bins = 3, labels=[1, 2, 3])\n",
    "df_categories[\"fear_z\"] = pd.cut(df[\"fear_z\"], bins = 3, labels=[1, 2, 3])\n",
    "df_categories[\"disg_z\"] = pd.cut(df[\"disg_z\"], bins = 3, labels=[1, 2, 3])\n",
    "df_categories[\"hap_z\"] = pd.cut(df[\"hap_z\"], bins = 3, labels=[1, 2, 3])\n",
    "df_categories[\"sad_z\"] = pd.cut(df[\"sad_z\"], bins = 3, labels=[1, 2, 3])"
   ]
  },
  {
   "cell_type": "code",
   "execution_count": 29,
   "metadata": {},
   "outputs": [
    {
     "data": {
      "text/html": [
       "<div>\n",
       "<style scoped>\n",
       "    .dataframe tbody tr th:only-of-type {\n",
       "        vertical-align: middle;\n",
       "    }\n",
       "\n",
       "    .dataframe tbody tr th {\n",
       "        vertical-align: top;\n",
       "    }\n",
       "\n",
       "    .dataframe thead th {\n",
       "        text-align: right;\n",
       "    }\n",
       "</style>\n",
       "<table border=\"1\" class=\"dataframe\">\n",
       "  <thead>\n",
       "    <tr style=\"text-align: right;\">\n",
       "      <th></th>\n",
       "      <th>Val</th>\n",
       "      <th>joy</th>\n",
       "      <th>anger</th>\n",
       "      <th>sadness</th>\n",
       "      <th>fear</th>\n",
       "      <th>disgust</th>\n",
       "      <th>AAPz</th>\n",
       "      <th>ang_z</th>\n",
       "      <th>fear_z</th>\n",
       "      <th>disg_z</th>\n",
       "      <th>hap_z</th>\n",
       "      <th>sad_z</th>\n",
       "    </tr>\n",
       "  </thead>\n",
       "  <tbody>\n",
       "    <tr>\n",
       "      <th>0</th>\n",
       "      <td>1</td>\n",
       "      <td>1</td>\n",
       "      <td>1</td>\n",
       "      <td>1</td>\n",
       "      <td>1</td>\n",
       "      <td>2</td>\n",
       "      <td>2</td>\n",
       "      <td>1</td>\n",
       "      <td>1</td>\n",
       "      <td>2</td>\n",
       "      <td>1</td>\n",
       "      <td>2</td>\n",
       "    </tr>\n",
       "    <tr>\n",
       "      <th>1</th>\n",
       "      <td>2</td>\n",
       "      <td>1</td>\n",
       "      <td>2</td>\n",
       "      <td>2</td>\n",
       "      <td>2</td>\n",
       "      <td>1</td>\n",
       "      <td>2</td>\n",
       "      <td>1</td>\n",
       "      <td>1</td>\n",
       "      <td>1</td>\n",
       "      <td>1</td>\n",
       "      <td>1</td>\n",
       "    </tr>\n",
       "    <tr>\n",
       "      <th>2</th>\n",
       "      <td>2</td>\n",
       "      <td>1</td>\n",
       "      <td>1</td>\n",
       "      <td>1</td>\n",
       "      <td>1</td>\n",
       "      <td>1</td>\n",
       "      <td>2</td>\n",
       "      <td>1</td>\n",
       "      <td>1</td>\n",
       "      <td>1</td>\n",
       "      <td>1</td>\n",
       "      <td>2</td>\n",
       "    </tr>\n",
       "    <tr>\n",
       "      <th>3</th>\n",
       "      <td>2</td>\n",
       "      <td>1</td>\n",
       "      <td>2</td>\n",
       "      <td>1</td>\n",
       "      <td>2</td>\n",
       "      <td>1</td>\n",
       "      <td>2</td>\n",
       "      <td>1</td>\n",
       "      <td>1</td>\n",
       "      <td>1</td>\n",
       "      <td>1</td>\n",
       "      <td>1</td>\n",
       "    </tr>\n",
       "    <tr>\n",
       "      <th>4</th>\n",
       "      <td>2</td>\n",
       "      <td>1</td>\n",
       "      <td>1</td>\n",
       "      <td>1</td>\n",
       "      <td>1</td>\n",
       "      <td>1</td>\n",
       "      <td>2</td>\n",
       "      <td>1</td>\n",
       "      <td>1</td>\n",
       "      <td>1</td>\n",
       "      <td>1</td>\n",
       "      <td>1</td>\n",
       "    </tr>\n",
       "  </tbody>\n",
       "</table>\n",
       "</div>"
      ],
      "text/plain": [
       "  Val joy anger sadness fear disgust AAPz ang_z fear_z disg_z hap_z sad_z\n",
       "0   1   1     1       1    1       2    2     1      1      2     1     2\n",
       "1   2   1     2       2    2       1    2     1      1      1     1     1\n",
       "2   2   1     1       1    1       1    2     1      1      1     1     2\n",
       "3   2   1     2       1    2       1    2     1      1      1     1     1\n",
       "4   2   1     1       1    1       1    2     1      1      1     1     1"
      ]
     },
     "execution_count": 29,
     "metadata": {},
     "output_type": "execute_result"
    }
   ],
   "source": [
    "df_categories.head()"
   ]
  },
  {
   "cell_type": "code",
   "execution_count": 30,
   "metadata": {},
   "outputs": [],
   "source": [
    "import sklearn.metrics as metrics\n",
    "from sklearn.metrics import accuracy_score,f1_score"
   ]
  },
  {
   "cell_type": "code",
   "execution_count": 31,
   "metadata": {},
   "outputs": [
    {
     "name": "stdout",
     "output_type": "stream",
     "text": [
      "f1_macro : 0.641\n",
      "accuracy: 66.189 %\n"
     ]
    },
    {
     "data": {
      "image/png": "[encoded data removed]",
      "text/plain": [
       "<Figure size 288x288 with 2 Axes>"
      ]
     },
     "metadata": {
      "needs_background": "light"
     },
     "output_type": "display_data"
    }
   ],
   "source": [
    "f1_macro = f1_score(df_categories[\"Val\"], df_categories[\"AAPz\"], average=\"macro\")\n",
    "acc = accuracy_score(df_categories[\"Val\"], df_categories[\"AAPz\"])*100\n",
    "print(\"f1_macro :\", round(f1_macro, 3))\n",
    "print(\"accuracy:\", round(acc,3), \"%\")\n",
    "confusion_matrix = metrics.confusion_matrix(df_categories[\"Val\"], df_categories[\"AAPz\"])\n",
    "f,ax = plt.subplots(figsize=(4,4))\n",
    "sns.heatmap(confusion_matrix, annot=True, linewidths=.5, fmt= \"d\",ax=ax, cmap=\"YlGnBu\");\n",
    "plt.title(\"confusion matrix\")\n",
    "plt.xlabel(\"true label\");\n",
    "plt.ylabel(\"predictions\");"
   ]
  },
  {
   "cell_type": "code",
   "execution_count": 32,
   "metadata": {},
   "outputs": [
    {
     "name": "stdout",
     "output_type": "stream",
     "text": [
      "f1_macro : 0.317\n",
      "accuracy: 59.901 %\n"
     ]
    }
   ],
   "source": [
    "f1_macro = f1_score(df_categories[\"joy\"], df_categories[\"hap_z\"], average=\"macro\")\n",
    "acc = accuracy_score(df_categories[\"joy\"], df_categories[\"hap_z\"])*100\n",
    "print(\"f1_macro :\", round(f1_macro, 3))\n",
    "print(\"accuracy:\", round(acc,3), \"%\")\n"
   ]
  },
  {
   "cell_type": "code",
   "execution_count": 33,
   "metadata": {},
   "outputs": [
    {
     "name": "stdout",
     "output_type": "stream",
     "text": [
      "f1_macro : 0.449\n",
      "accuracy: 68.064 %\n"
     ]
    }
   ],
   "source": [
    "f1_macro = f1_score(df_categories[\"anger\"], df_categories[\"ang_z\"], average=\"macro\")\n",
    "acc = accuracy_score(df_categories[\"anger\"], df_categories[\"ang_z\"])*100\n",
    "print(\"f1_macro :\", round(f1_macro, 3))\n",
    "print(\"accuracy:\", round(acc,3), \"%\")"
   ]
  },
  {
   "cell_type": "code",
   "execution_count": 34,
   "metadata": {},
   "outputs": [
    {
     "name": "stdout",
     "output_type": "stream",
     "text": [
      "f1_macro : 0.265\n",
      "accuracy: 37.121 %\n"
     ]
    }
   ],
   "source": [
    "f1_macro = f1_score(df_categories[\"sadness\"], df_categories[\"sad_z\"], average=\"macro\")\n",
    "acc = accuracy_score(df_categories[\"sadness\"], df_categories[\"sad_z\"])*100\n",
    "print(\"f1_macro :\", round(f1_macro, 3))\n",
    "print(\"accuracy:\", round(acc,3), \"%\")\n"
   ]
  },
  {
   "cell_type": "code",
   "execution_count": 35,
   "metadata": {},
   "outputs": [
    {
     "name": "stdout",
     "output_type": "stream",
     "text": [
      "f1_macro : 0.415\n",
      "accuracy: 73.469 %\n"
     ]
    }
   ],
   "source": [
    "f1_macro = f1_score(df_categories[\"fear\"], df_categories[\"fear_z\"], average=\"macro\")\n",
    "acc = accuracy_score(df_categories[\"fear\"], df_categories[\"fear_z\"])*100\n",
    "print(\"f1_macro :\", round(f1_macro, 3))\n",
    "print(\"accuracy:\", round(acc,3), \"%\")"
   ]
  },
  {
   "cell_type": "code",
   "execution_count": 36,
   "metadata": {},
   "outputs": [
    {
     "name": "stdout",
     "output_type": "stream",
     "text": [
      "f1_macro : 0.382\n",
      "accuracy: 70.877 %\n"
     ]
    }
   ],
   "source": [
    "f1_macro = f1_score(df_categories[\"disgust\"], df_categories[\"disg_z\"], average=\"macro\")\n",
    "acc = accuracy_score(df_categories[\"disgust\"], df_categories[\"disg_z\"])*100\n",
    "print(\"f1_macro :\", round(f1_macro, 3))\n",
    "print(\"accuracy:\", round(acc,3), \"%\")"
   ]
  },
  {
   "cell_type": "markdown",
   "metadata": {},
   "source": [
    "# Evaluating the performance of SentiArt: The Polarity\n",
    "The neutral words in Denn_BAWL have scores between -0.5 and 0.5\n",
    "The neutral words according to APPz in SentiArt have scores between -0.05 and 0.05"
   ]
  },
  {
   "cell_type": "code",
   "execution_count": 37,
   "metadata": {},
   "outputs": [],
   "source": [
    "polarity = pd.DataFrame()\n",
    "polarity[\"true\"] = np.where((df[\"Val\"] <= - 0.5), -1, np.where((df[\"Val\"] >= 0.5), 1, 0))\n",
    "polarity[\"predicted\"] = np.where((df[\"AAPz\"] <= - 0.05), -1, np.where((df[\"AAPz\"] >= 0.05), 1, 0))"
   ]
  },
  {
   "cell_type": "code",
   "execution_count": 38,
   "metadata": {},
   "outputs": [
    {
     "data": {
      "text/html": [
       "<div>\n",
       "<style scoped>\n",
       "    .dataframe tbody tr th:only-of-type {\n",
       "        vertical-align: middle;\n",
       "    }\n",
       "\n",
       "    .dataframe tbody tr th {\n",
       "        vertical-align: top;\n",
       "    }\n",
       "\n",
       "    .dataframe thead th {\n",
       "        text-align: right;\n",
       "    }\n",
       "</style>\n",
       "<table border=\"1\" class=\"dataframe\">\n",
       "  <thead>\n",
       "    <tr style=\"text-align: right;\">\n",
       "      <th></th>\n",
       "      <th>true</th>\n",
       "      <th>predicted</th>\n",
       "    </tr>\n",
       "  </thead>\n",
       "  <tbody>\n",
       "    <tr>\n",
       "      <th>0</th>\n",
       "      <td>-1</td>\n",
       "      <td>-1</td>\n",
       "    </tr>\n",
       "    <tr>\n",
       "      <th>1</th>\n",
       "      <td>-1</td>\n",
       "      <td>-1</td>\n",
       "    </tr>\n",
       "    <tr>\n",
       "      <th>2</th>\n",
       "      <td>0</td>\n",
       "      <td>1</td>\n",
       "    </tr>\n",
       "    <tr>\n",
       "      <th>3</th>\n",
       "      <td>-1</td>\n",
       "      <td>-1</td>\n",
       "    </tr>\n",
       "    <tr>\n",
       "      <th>4</th>\n",
       "      <td>0</td>\n",
       "      <td>1</td>\n",
       "    </tr>\n",
       "  </tbody>\n",
       "</table>\n",
       "</div>"
      ],
      "text/plain": [
       "   true  predicted\n",
       "0    -1         -1\n",
       "1    -1         -1\n",
       "2     0          1\n",
       "3    -1         -1\n",
       "4     0          1"
      ]
     },
     "execution_count": 38,
     "metadata": {},
     "output_type": "execute_result"
    }
   ],
   "source": [
    "polarity.head()"
   ]
  },
  {
   "cell_type": "code",
   "execution_count": 39,
   "metadata": {},
   "outputs": [
    {
     "data": {
      "text/plain": [
       " 1    794\n",
       "-1    562\n",
       " 0    457\n",
       "Name: true, dtype: int64"
      ]
     },
     "execution_count": 39,
     "metadata": {},
     "output_type": "execute_result"
    }
   ],
   "source": [
    "polarity[\"true\"].value_counts()"
   ]
  },
  {
   "cell_type": "code",
   "execution_count": 40,
   "metadata": {},
   "outputs": [
    {
     "data": {
      "text/plain": [
       " 1    924\n",
       "-1    812\n",
       " 0     77\n",
       "Name: predicted, dtype: int64"
      ]
     },
     "execution_count": 40,
     "metadata": {},
     "output_type": "execute_result"
    }
   ],
   "source": [
    "polarity[\"predicted\"].value_counts()"
   ]
  },
  {
   "cell_type": "code",
   "execution_count": 41,
   "metadata": {},
   "outputs": [
    {
     "data": {
      "image/png": "[encoded data removed]",
      "text/plain": [
       "<Figure size 432x288 with 1 Axes>"
      ]
     },
     "metadata": {
      "needs_background": "light"
     },
     "output_type": "display_data"
    }
   ],
   "source": [
    "plt.hist([polarity.true, polarity.predicted], label=[\"True\", \"predicted_s\"])\n",
    "plt.legend(loc= \"upper center\")\n",
    "plt.show()"
   ]
  },
  {
   "cell_type": "code",
   "execution_count": 42,
   "metadata": {},
   "outputs": [
    {
     "name": "stdout",
     "output_type": "stream",
     "text": [
      "f1_macro : 0.51\n",
      "accuracy: 62.438 %\n"
     ]
    },
    {
     "data": {
      "image/png": "[encoded data removed]",
      "text/plain": [
       "<Figure size 288x288 with 2 Axes>"
      ]
     },
     "metadata": {
      "needs_background": "light"
     },
     "output_type": "display_data"
    }
   ],
   "source": [
    "f1_macro = f1_score(polarity[\"true\"], polarity[\"predicted\"], average=\"macro\")\n",
    "acc = accuracy_score(polarity[\"true\"], polarity[\"predicted\"])*100\n",
    "print(\"f1_macro :\", round(f1_macro, 3))\n",
    "print(\"accuracy:\", round(acc,3), \"%\")\n",
    "confusion_matrix = metrics.confusion_matrix(polarity[\"true\"], polarity[\"predicted\"])\n",
    "f,ax = plt.subplots(figsize=(4,4))\n",
    "sns.heatmap(confusion_matrix, annot=True, linewidths=.5, fmt= \"d\",ax=ax, cmap=\"YlGnBu\");\n",
    "plt.title(\"confusion matrix\")\n",
    "plt.xlabel(\"true label\");\n",
    "plt.ylabel(\"predictions\");"
   ]
  },
  {
   "cell_type": "code",
   "execution_count": 43,
   "metadata": {},
   "outputs": [
    {
     "data": {
      "text/plain": [
       "1437       sonne\n",
       "946         meer\n",
       "1436      sommer\n",
       "471     freizeit\n",
       "861        liebe\n",
       "476      frieden\n",
       "473       freund\n",
       "920         mama\n",
       "1446        spaß\n",
       "423       ferien\n",
       "Name: WORD, dtype: object"
      ]
     },
     "execution_count": 43,
     "metadata": {},
     "output_type": "execute_result"
    }
   ],
   "source": [
    "joy_t = df.nlargest(10, \"joy\")\n",
    "joy_t[\"WORD\"]"
   ]
  },
  {
   "cell_type": "code",
   "execution_count": 44,
   "metadata": {},
   "outputs": [
    {
     "data": {
      "text/plain": [
       "472       freude\n",
       "1446        spaß\n",
       "895         lust\n",
       "1756       wonne\n",
       "1720      wehmut\n",
       "667        jubel\n",
       "1614    ungeduld\n",
       "630     hoffnung\n",
       "1059     neugier\n",
       "1574      trauer\n",
       "Name: WORD, dtype: object"
      ]
     },
     "execution_count": 44,
     "metadata": {},
     "output_type": "execute_result"
    }
   ],
   "source": [
    "joy_p = df.nlargest(10, \"hap_z\") #spaß (common), trauer, wehmut, ungeduld!\n",
    "joy_p[\"WORD\"]"
   ]
  },
  {
   "cell_type": "code",
   "execution_count": 45,
   "metadata": {},
   "outputs": [
    {
     "data": {
      "text/plain": [
       "1597       tumor\n",
       "785        krieg\n",
       "547      giftgas\n",
       "822       lawine\n",
       "64      alptraum\n",
       "120      atemnot\n",
       "245        bombe\n",
       "1537      terror\n",
       "1300        ruin\n",
       "1565        tote\n",
       "Name: WORD, dtype: object"
      ]
     },
     "execution_count": 45,
     "metadata": {},
     "output_type": "execute_result"
    }
   ],
   "source": [
    "fear_t = df.nlargest(10, \"fear\")\n",
    "fear_t[\"WORD\"]"
   ]
  },
  {
   "cell_type": "code",
   "execution_count": 46,
   "metadata": {},
   "outputs": [
    {
     "data": {
      "text/plain": [
       "83         angst\n",
       "485       furcht\n",
       "1108       panik\n",
       "1330       scham\n",
       "24       abscheu\n",
       "1081    ohnmacht\n",
       "1369     schreck\n",
       "1440      sorgen\n",
       "357         ekel\n",
       "1574      trauer\n",
       "Name: WORD, dtype: object"
      ]
     },
     "execution_count": 46,
     "metadata": {},
     "output_type": "execute_result"
    }
   ],
   "source": [
    "fear_p = df.nlargest(10, \"fear_z\")\n",
    "fear_p[\"WORD\"]"
   ]
  },
  {
   "cell_type": "code",
   "execution_count": 47,
   "metadata": {},
   "outputs": [
    {
     "data": {
      "text/html": [
       "<div>\n",
       "<style scoped>\n",
       "    .dataframe tbody tr th:only-of-type {\n",
       "        vertical-align: middle;\n",
       "    }\n",
       "\n",
       "    .dataframe tbody tr th {\n",
       "        vertical-align: top;\n",
       "    }\n",
       "\n",
       "    .dataframe thead th {\n",
       "        text-align: right;\n",
       "    }\n",
       "</style>\n",
       "<table border=\"1\" class=\"dataframe\">\n",
       "  <thead>\n",
       "    <tr style=\"text-align: right;\">\n",
       "      <th></th>\n",
       "      <th>WORD</th>\n",
       "      <th>Val</th>\n",
       "      <th>joy</th>\n",
       "      <th>anger</th>\n",
       "      <th>sadness</th>\n",
       "      <th>fear</th>\n",
       "      <th>disgust</th>\n",
       "      <th>AAPz</th>\n",
       "      <th>ang_z</th>\n",
       "      <th>fear_z</th>\n",
       "      <th>disg_z</th>\n",
       "      <th>hap_z</th>\n",
       "      <th>sad_z</th>\n",
       "      <th>surp_z</th>\n",
       "    </tr>\n",
       "  </thead>\n",
       "  <tbody>\n",
       "    <tr>\n",
       "      <th>1574</th>\n",
       "      <td>trauer</td>\n",
       "      <td>-2.1</td>\n",
       "      <td>1.05</td>\n",
       "      <td>1.75</td>\n",
       "      <td>3.75</td>\n",
       "      <td>2.35</td>\n",
       "      <td>1.1</td>\n",
       "      <td>-0.675</td>\n",
       "      <td>0.675</td>\n",
       "      <td>4.388</td>\n",
       "      <td>3.022</td>\n",
       "      <td>4.28</td>\n",
       "      <td>4.986</td>\n",
       "      <td>1.741</td>\n",
       "    </tr>\n",
       "  </tbody>\n",
       "</table>\n",
       "</div>"
      ],
      "text/plain": [
       "        WORD  Val   joy  anger  sadness  fear  disgust   AAPz  ang_z  fear_z  \\\n",
       "1574  trauer -2.1  1.05   1.75     3.75  2.35      1.1 -0.675  0.675   4.388   \n",
       "\n",
       "      disg_z  hap_z  sad_z  surp_z  \n",
       "1574   3.022   4.28  4.986   1.741  "
      ]
     },
     "execution_count": 47,
     "metadata": {},
     "output_type": "execute_result"
    }
   ],
   "source": [
    "df[df[\"WORD\"] ==\"trauer\"]"
   ]
  },
  {
   "cell_type": "code",
   "execution_count": 48,
   "metadata": {},
   "outputs": [
    {
     "name": "stdout",
     "output_type": "stream",
     "text": [
      "count    1813.000000\n",
      "mean       -0.010272\n",
      "std         1.025491\n",
      "min        -3.071000\n",
      "25%        -0.634000\n",
      "50%         0.082000\n",
      "75%         0.717000\n",
      "max         2.908000\n",
      "Name: AAPz, dtype: float64\n"
     ]
    },
    {
     "data": {
      "image/png": "[encoded data removed]",
      "text/plain": [
       "<Figure size 720x576 with 1 Axes>"
      ]
     },
     "metadata": {
      "needs_background": "light"
     },
     "output_type": "display_data"
    }
   ],
   "source": [
    "print(df['AAPz'].describe())\n",
    "plt.figure(figsize=(10, 8))\n",
    "sns.distplot(df['AAPz'], color='g', bins=40, hist_kws={'alpha': 0.5});"
   ]
  },
  {
   "cell_type": "markdown",
   "metadata": {},
   "source": [
    "Interpretation\n",
    "1. Indicator of AAPz measures is in group/range between -3 to 3\n",
    "2. X-axis show the distribution of APPz \n",
    "3. Y-axis shows the density of distribution of mean\n",
    "4. The distribution of APPz has one density peak which is in between 0 and 1  "
   ]
  },
  {
   "cell_type": "code",
   "execution_count": 49,
   "metadata": {},
   "outputs": [
    {
     "name": "stdout",
     "output_type": "stream",
     "text": [
      "count    1813.000000\n",
      "mean        0.121178\n",
      "std         1.221120\n",
      "min        -3.000000\n",
      "25%        -0.800000\n",
      "50%         0.300000\n",
      "75%         1.050000\n",
      "max         2.900000\n",
      "Name: Val, dtype: float64\n"
     ]
    },
    {
     "data": {
      "image/png": "[encoded data removed]",
      "text/plain": [
       "<Figure size 720x576 with 1 Axes>"
      ]
     },
     "metadata": {
      "needs_background": "light"
     },
     "output_type": "display_data"
    }
   ],
   "source": [
    "print(df['Val'].describe())\n",
    "plt.figure(figsize=(10, 8))\n",
    "sns.distplot(df['Val'], color='g', bins=40, hist_kws={'alpha': 0.5});"
   ]
  },
  {
   "cell_type": "markdown",
   "metadata": {},
   "source": [
    "Interpretation\n",
    "1. Indicator of Valence rating measures is in group/range between -3 to 3\n",
    "2. X-axis show the distribution of Valence ratings \n",
    "3. Y-axis shows the density of distribution of mean\n",
    "4. The distribution of APPz has one density peak which is in between 0 and 1  "
   ]
  },
  {
   "cell_type": "code",
   "execution_count": 50,
   "metadata": {},
   "outputs": [],
   "source": [
    "df_1=df[[\"WORD\",\"AAPz\",\"Val\"]]"
   ]
  },
  {
   "cell_type": "code",
   "execution_count": 51,
   "metadata": {},
   "outputs": [],
   "source": [
    "import matplotlib as mpl"
   ]
  },
  {
   "cell_type": "code",
   "execution_count": 52,
   "metadata": {},
   "outputs": [
    {
     "data": {
      "image/png": "[encoded data removed]",
      "text/plain": [
       "<Figure size 432x288 with 1 Axes>"
      ]
     },
     "metadata": {
      "needs_background": "light"
     },
     "output_type": "display_data"
    }
   ],
   "source": [
    "df_1.plot(kind=\"bar\")\n",
    "mpl.rcParams['figure.figsize'] = 15, 10\n",
    "plt.xlabel(\"Word #\")\n",
    "plt.ylabel(\"Sentiment Value (z)\")\n",
    "plt.show()"
   ]
  },
  {
   "cell_type": "code",
   "execution_count": 53,
   "metadata": {},
   "outputs": [
    {
     "data": {
      "text/html": [
       "<div>\n",
       "<style scoped>\n",
       "    .dataframe tbody tr th:only-of-type {\n",
       "        vertical-align: middle;\n",
       "    }\n",
       "\n",
       "    .dataframe tbody tr th {\n",
       "        vertical-align: top;\n",
       "    }\n",
       "\n",
       "    .dataframe thead th {\n",
       "        text-align: right;\n",
       "    }\n",
       "</style>\n",
       "<table border=\"1\" class=\"dataframe\">\n",
       "  <thead>\n",
       "    <tr style=\"text-align: right;\">\n",
       "      <th></th>\n",
       "      <th>English (en)</th>\n",
       "      <th>Afrikaans (af)</th>\n",
       "      <th>Albanian (sq)</th>\n",
       "      <th>Amharic (am)</th>\n",
       "      <th>Arabic (ar)</th>\n",
       "      <th>Armenian (hy)</th>\n",
       "      <th>Azeerbaijani (az)</th>\n",
       "      <th>Basque (eu)</th>\n",
       "      <th>Belarusian (be)</th>\n",
       "      <th>Bengali (bn)</th>\n",
       "      <th>...</th>\n",
       "      <th>Positive</th>\n",
       "      <th>Negative</th>\n",
       "      <th>Anger</th>\n",
       "      <th>Anticipation</th>\n",
       "      <th>Disgust</th>\n",
       "      <th>Fear</th>\n",
       "      <th>Joy</th>\n",
       "      <th>Sadness</th>\n",
       "      <th>Surprise</th>\n",
       "      <th>Trust</th>\n",
       "    </tr>\n",
       "  </thead>\n",
       "  <tbody>\n",
       "    <tr>\n",
       "      <th>0</th>\n",
       "      <td>aback</td>\n",
       "      <td>uit die veld geslaan</td>\n",
       "      <td>prapa</td>\n",
       "      <td>ተጭኗል</td>\n",
       "      <td>الى الوراء</td>\n",
       "      <td>շեղում</td>\n",
       "      <td>sanki</td>\n",
       "      <td>aback</td>\n",
       "      <td>ззаду</td>\n",
       "      <td>পশ্চাতে</td>\n",
       "      <td>...</td>\n",
       "      <td>0</td>\n",
       "      <td>0</td>\n",
       "      <td>0</td>\n",
       "      <td>0</td>\n",
       "      <td>0</td>\n",
       "      <td>0</td>\n",
       "      <td>0</td>\n",
       "      <td>0</td>\n",
       "      <td>0</td>\n",
       "      <td>0</td>\n",
       "    </tr>\n",
       "    <tr>\n",
       "      <th>1</th>\n",
       "      <td>abacus</td>\n",
       "      <td>abakus</td>\n",
       "      <td>numërator</td>\n",
       "      <td>abacus</td>\n",
       "      <td>طبلية تاج</td>\n",
       "      <td>անբավարարություն</td>\n",
       "      <td>abacus</td>\n",
       "      <td>abako</td>\n",
       "      <td>абака</td>\n",
       "      <td>গণনা-যন্ত্রবিশেষ</td>\n",
       "      <td>...</td>\n",
       "      <td>0</td>\n",
       "      <td>0</td>\n",
       "      <td>0</td>\n",
       "      <td>0</td>\n",
       "      <td>0</td>\n",
       "      <td>0</td>\n",
       "      <td>0</td>\n",
       "      <td>0</td>\n",
       "      <td>0</td>\n",
       "      <td>1</td>\n",
       "    </tr>\n",
       "    <tr>\n",
       "      <th>2</th>\n",
       "      <td>abandon</td>\n",
       "      <td>verlaat</td>\n",
       "      <td>braktis</td>\n",
       "      <td>ውጣ</td>\n",
       "      <td>تخلى</td>\n",
       "      <td>լքել</td>\n",
       "      <td>tərk et</td>\n",
       "      <td>bertan behera</td>\n",
       "      <td>адмовіцца ад</td>\n",
       "      <td>বর্জিত করা</td>\n",
       "      <td>...</td>\n",
       "      <td>0</td>\n",
       "      <td>1</td>\n",
       "      <td>0</td>\n",
       "      <td>0</td>\n",
       "      <td>0</td>\n",
       "      <td>1</td>\n",
       "      <td>0</td>\n",
       "      <td>1</td>\n",
       "      <td>0</td>\n",
       "      <td>0</td>\n",
       "    </tr>\n",
       "    <tr>\n",
       "      <th>3</th>\n",
       "      <td>abandoned</td>\n",
       "      <td>verlate</td>\n",
       "      <td>braktisur</td>\n",
       "      <td>ተትቷል</td>\n",
       "      <td>مهجور</td>\n",
       "      <td>լքված</td>\n",
       "      <td>tərk etdi</td>\n",
       "      <td>abandonatutako</td>\n",
       "      <td>закінуты</td>\n",
       "      <td>পরিত্যক্ত</td>\n",
       "      <td>...</td>\n",
       "      <td>0</td>\n",
       "      <td>1</td>\n",
       "      <td>1</td>\n",
       "      <td>0</td>\n",
       "      <td>0</td>\n",
       "      <td>1</td>\n",
       "      <td>0</td>\n",
       "      <td>1</td>\n",
       "      <td>0</td>\n",
       "      <td>0</td>\n",
       "    </tr>\n",
       "    <tr>\n",
       "      <th>4</th>\n",
       "      <td>abandonment</td>\n",
       "      <td>verlating</td>\n",
       "      <td>braktisje</td>\n",
       "      <td>ማቋረጥ</td>\n",
       "      <td>التخلي عن</td>\n",
       "      <td>հրաժարվելով</td>\n",
       "      <td>ləğv</td>\n",
       "      <td>abandono</td>\n",
       "      <td>пакіданне</td>\n",
       "      <td>বিসর্জন</td>\n",
       "      <td>...</td>\n",
       "      <td>0</td>\n",
       "      <td>1</td>\n",
       "      <td>1</td>\n",
       "      <td>0</td>\n",
       "      <td>0</td>\n",
       "      <td>1</td>\n",
       "      <td>0</td>\n",
       "      <td>1</td>\n",
       "      <td>1</td>\n",
       "      <td>0</td>\n",
       "    </tr>\n",
       "    <tr>\n",
       "      <th>5</th>\n",
       "      <td>abate</td>\n",
       "      <td>bedaar</td>\n",
       "      <td>i jap fund</td>\n",
       "      <td>አጥፋ</td>\n",
       "      <td>انحسر</td>\n",
       "      <td>քանդել</td>\n",
       "      <td>boşaltın</td>\n",
       "      <td>abate</td>\n",
       "      <td>сціхаць</td>\n",
       "      <td>ক্ষীণ করা</td>\n",
       "      <td>...</td>\n",
       "      <td>0</td>\n",
       "      <td>0</td>\n",
       "      <td>0</td>\n",
       "      <td>0</td>\n",
       "      <td>0</td>\n",
       "      <td>0</td>\n",
       "      <td>0</td>\n",
       "      <td>0</td>\n",
       "      <td>0</td>\n",
       "      <td>0</td>\n",
       "    </tr>\n",
       "    <tr>\n",
       "      <th>6</th>\n",
       "      <td>abatement</td>\n",
       "      <td>vermindering</td>\n",
       "      <td>pakësim</td>\n",
       "      <td>መበስበስ</td>\n",
       "      <td>انحسار</td>\n",
       "      <td>նվազեցում</td>\n",
       "      <td>azaldılması</td>\n",
       "      <td>murrizteko</td>\n",
       "      <td>зніжэнне</td>\n",
       "      <td>উপশম</td>\n",
       "      <td>...</td>\n",
       "      <td>0</td>\n",
       "      <td>0</td>\n",
       "      <td>0</td>\n",
       "      <td>0</td>\n",
       "      <td>0</td>\n",
       "      <td>0</td>\n",
       "      <td>0</td>\n",
       "      <td>0</td>\n",
       "      <td>0</td>\n",
       "      <td>0</td>\n",
       "    </tr>\n",
       "    <tr>\n",
       "      <th>7</th>\n",
       "      <td>abba</td>\n",
       "      <td>Abba</td>\n",
       "      <td>Abba</td>\n",
       "      <td>abba</td>\n",
       "      <td>أبا</td>\n",
       "      <td>abba</td>\n",
       "      <td>abba</td>\n",
       "      <td>abba</td>\n",
       "      <td>авва</td>\n",
       "      <td>Abba</td>\n",
       "      <td>...</td>\n",
       "      <td>1</td>\n",
       "      <td>0</td>\n",
       "      <td>0</td>\n",
       "      <td>0</td>\n",
       "      <td>0</td>\n",
       "      <td>0</td>\n",
       "      <td>0</td>\n",
       "      <td>0</td>\n",
       "      <td>0</td>\n",
       "      <td>0</td>\n",
       "    </tr>\n",
       "    <tr>\n",
       "      <th>8</th>\n",
       "      <td>abbot</td>\n",
       "      <td>abt</td>\n",
       "      <td>abat</td>\n",
       "      <td>አቡኝ</td>\n",
       "      <td>رئيس الدير</td>\n",
       "      <td>աբբոթ</td>\n",
       "      <td>abbot</td>\n",
       "      <td>abade</td>\n",
       "      <td>абат</td>\n",
       "      <td>মঠাধ্যক্ষ</td>\n",
       "      <td>...</td>\n",
       "      <td>0</td>\n",
       "      <td>0</td>\n",
       "      <td>0</td>\n",
       "      <td>0</td>\n",
       "      <td>0</td>\n",
       "      <td>0</td>\n",
       "      <td>0</td>\n",
       "      <td>0</td>\n",
       "      <td>0</td>\n",
       "      <td>1</td>\n",
       "    </tr>\n",
       "    <tr>\n",
       "      <th>9</th>\n",
       "      <td>abbreviate</td>\n",
       "      <td>afkort</td>\n",
       "      <td>shkurtoj</td>\n",
       "      <td>አህጽሮት</td>\n",
       "      <td>اختصر</td>\n",
       "      <td>կրճատել</td>\n",
       "      <td>qısaltmaq</td>\n",
       "      <td>laburtu</td>\n",
       "      <td>скарачаць</td>\n",
       "      <td>খাট করা</td>\n",
       "      <td>...</td>\n",
       "      <td>0</td>\n",
       "      <td>0</td>\n",
       "      <td>0</td>\n",
       "      <td>0</td>\n",
       "      <td>0</td>\n",
       "      <td>0</td>\n",
       "      <td>0</td>\n",
       "      <td>0</td>\n",
       "      <td>0</td>\n",
       "      <td>0</td>\n",
       "    </tr>\n",
       "  </tbody>\n",
       "</table>\n",
       "<p>10 rows × 115 columns</p>\n",
       "</div>"
      ],
      "text/plain": [
       "  English (en)        Afrikaans (af) Albanian (sq) Amharic (am) Arabic (ar)  \\\n",
       "0        aback  uit die veld geslaan         prapa         ተጭኗል  الى الوراء   \n",
       "1       abacus                abakus     numërator       abacus   طبلية تاج   \n",
       "2      abandon               verlaat       braktis           ውጣ        تخلى   \n",
       "3    abandoned               verlate     braktisur         ተትቷል       مهجور   \n",
       "4  abandonment             verlating     braktisje         ማቋረጥ   التخلي عن   \n",
       "5        abate                bedaar    i jap fund          አጥፋ       انحسر   \n",
       "6    abatement          vermindering       pakësim        መበስበስ      انحسار   \n",
       "7         abba                  Abba          Abba         abba         أبا   \n",
       "8        abbot                   abt          abat          አቡኝ  رئيس الدير   \n",
       "9   abbreviate                afkort      shkurtoj        አህጽሮት       اختصر   \n",
       "\n",
       "      Armenian (hy) Azeerbaijani (az)     Basque (eu) Belarusian (be)  \\\n",
       "0            շեղում             sanki           aback           ззаду   \n",
       "1  անբավարարություն            abacus           abako           абака   \n",
       "2              լքել           tərk et   bertan behera    адмовіцца ад   \n",
       "3             լքված         tərk etdi  abandonatutako        закінуты   \n",
       "4       հրաժարվելով              ləğv        abandono       пакіданне   \n",
       "5            քանդել          boşaltın           abate         сціхаць   \n",
       "6         նվազեցում       azaldılması      murrizteko        зніжэнне   \n",
       "7              abba              abba            abba            авва   \n",
       "8             աբբոթ             abbot           abade            абат   \n",
       "9           կրճատել         qısaltmaq         laburtu       скарачаць   \n",
       "\n",
       "       Bengali (bn)  ... Positive Negative Anger Anticipation Disgust Fear  \\\n",
       "0           পশ্চাতে  ...        0        0     0            0       0    0   \n",
       "1  গণনা-যন্ত্রবিশেষ  ...        0        0     0            0       0    0   \n",
       "2        বর্জিত করা  ...        0        1     0            0       0    1   \n",
       "3         পরিত্যক্ত  ...        0        1     1            0       0    1   \n",
       "4           বিসর্জন  ...        0        1     1            0       0    1   \n",
       "5         ক্ষীণ করা  ...        0        0     0            0       0    0   \n",
       "6              উপশম  ...        0        0     0            0       0    0   \n",
       "7              Abba  ...        1        0     0            0       0    0   \n",
       "8         মঠাধ্যক্ষ  ...        0        0     0            0       0    0   \n",
       "9           খাট করা  ...        0        0     0            0       0    0   \n",
       "\n",
       "  Joy Sadness Surprise Trust  \n",
       "0   0       0        0     0  \n",
       "1   0       0        0     1  \n",
       "2   0       1        0     0  \n",
       "3   0       1        0     0  \n",
       "4   0       1        1     0  \n",
       "5   0       0        0     0  \n",
       "6   0       0        0     0  \n",
       "7   0       0        0     0  \n",
       "8   0       0        0     1  \n",
       "9   0       0        0     0  \n",
       "\n",
       "[10 rows x 115 columns]"
      ]
     },
     "execution_count": 53,
     "metadata": {},
     "output_type": "execute_result"
    }
   ],
   "source": [
    "#file = \"NRC-Emotion-Lexicon-v0.92-In105Languages-Nov2017Translations.xlsx\"\n",
    "emolex_df = pd.read_excel(\"/Users/ganiyuopeyemi/desktop/NRC-Emotion-Lexicon-v0.92-In105Languages-Nov2017Translations.xlsx\"\n",
    "                        ,error_bad_lines=False,encoding= 'unicode_escape',)\n",
    "emolex_df.head(10)"
   ]
  },
  {
   "cell_type": "code",
   "execution_count": 54,
   "metadata": {},
   "outputs": [],
   "source": [
    "emolex_df = emolex_df[[\"German (de)\",\"Positive\",\"Negative\",\"Anger\",\"Anticipation\",\"Disgust\",\"Fear\",\"Joy\",\"Surprise\",\"Trust\"]]"
   ]
  },
  {
   "cell_type": "code",
   "execution_count": 55,
   "metadata": {},
   "outputs": [
    {
     "data": {
      "text/html": [
       "<div>\n",
       "<style scoped>\n",
       "    .dataframe tbody tr th:only-of-type {\n",
       "        vertical-align: middle;\n",
       "    }\n",
       "\n",
       "    .dataframe tbody tr th {\n",
       "        vertical-align: top;\n",
       "    }\n",
       "\n",
       "    .dataframe thead th {\n",
       "        text-align: right;\n",
       "    }\n",
       "</style>\n",
       "<table border=\"1\" class=\"dataframe\">\n",
       "  <thead>\n",
       "    <tr style=\"text-align: right;\">\n",
       "      <th></th>\n",
       "      <th>German (de)</th>\n",
       "      <th>Positive</th>\n",
       "      <th>Negative</th>\n",
       "      <th>Anger</th>\n",
       "      <th>Anticipation</th>\n",
       "      <th>Disgust</th>\n",
       "      <th>Fear</th>\n",
       "      <th>Joy</th>\n",
       "      <th>Surprise</th>\n",
       "      <th>Trust</th>\n",
       "    </tr>\n",
       "  </thead>\n",
       "  <tbody>\n",
       "    <tr>\n",
       "      <th>0</th>\n",
       "      <td>zurück</td>\n",
       "      <td>0</td>\n",
       "      <td>0</td>\n",
       "      <td>0</td>\n",
       "      <td>0</td>\n",
       "      <td>0</td>\n",
       "      <td>0</td>\n",
       "      <td>0</td>\n",
       "      <td>0</td>\n",
       "      <td>0</td>\n",
       "    </tr>\n",
       "    <tr>\n",
       "      <th>1</th>\n",
       "      <td>Abakus</td>\n",
       "      <td>0</td>\n",
       "      <td>0</td>\n",
       "      <td>0</td>\n",
       "      <td>0</td>\n",
       "      <td>0</td>\n",
       "      <td>0</td>\n",
       "      <td>0</td>\n",
       "      <td>0</td>\n",
       "      <td>1</td>\n",
       "    </tr>\n",
       "    <tr>\n",
       "      <th>2</th>\n",
       "      <td>verlassen</td>\n",
       "      <td>0</td>\n",
       "      <td>1</td>\n",
       "      <td>0</td>\n",
       "      <td>0</td>\n",
       "      <td>0</td>\n",
       "      <td>1</td>\n",
       "      <td>0</td>\n",
       "      <td>0</td>\n",
       "      <td>0</td>\n",
       "    </tr>\n",
       "    <tr>\n",
       "      <th>3</th>\n",
       "      <td>verlassen</td>\n",
       "      <td>0</td>\n",
       "      <td>1</td>\n",
       "      <td>1</td>\n",
       "      <td>0</td>\n",
       "      <td>0</td>\n",
       "      <td>1</td>\n",
       "      <td>0</td>\n",
       "      <td>0</td>\n",
       "      <td>0</td>\n",
       "    </tr>\n",
       "    <tr>\n",
       "      <th>4</th>\n",
       "      <td>Aufgabe</td>\n",
       "      <td>0</td>\n",
       "      <td>1</td>\n",
       "      <td>1</td>\n",
       "      <td>0</td>\n",
       "      <td>0</td>\n",
       "      <td>1</td>\n",
       "      <td>0</td>\n",
       "      <td>1</td>\n",
       "      <td>0</td>\n",
       "    </tr>\n",
       "  </tbody>\n",
       "</table>\n",
       "</div>"
      ],
      "text/plain": [
       "  German (de)  Positive  Negative  Anger  Anticipation  Disgust  Fear  Joy  \\\n",
       "0      zurück         0         0      0             0        0     0    0   \n",
       "1      Abakus         0         0      0             0        0     0    0   \n",
       "2   verlassen         0         1      0             0        0     1    0   \n",
       "3   verlassen         0         1      1             0        0     1    0   \n",
       "4     Aufgabe         0         1      1             0        0     1    0   \n",
       "\n",
       "   Surprise  Trust  \n",
       "0         0      0  \n",
       "1         0      1  \n",
       "2         0      0  \n",
       "3         0      0  \n",
       "4         1      0  "
      ]
     },
     "execution_count": 55,
     "metadata": {},
     "output_type": "execute_result"
    }
   ],
   "source": [
    "emolex_df.head()"
   ]
  },
  {
   "cell_type": "code",
   "execution_count": 56,
   "metadata": {},
   "outputs": [],
   "source": [
    "emolex_df = emolex_df.rename(columns = {'German (de)':'German'})"
   ]
  },
  {
   "cell_type": "code",
   "execution_count": 57,
   "metadata": {},
   "outputs": [
    {
     "data": {
      "text/html": [
       "<div>\n",
       "<style scoped>\n",
       "    .dataframe tbody tr th:only-of-type {\n",
       "        vertical-align: middle;\n",
       "    }\n",
       "\n",
       "    .dataframe tbody tr th {\n",
       "        vertical-align: top;\n",
       "    }\n",
       "\n",
       "    .dataframe thead th {\n",
       "        text-align: right;\n",
       "    }\n",
       "</style>\n",
       "<table border=\"1\" class=\"dataframe\">\n",
       "  <thead>\n",
       "    <tr style=\"text-align: right;\">\n",
       "      <th></th>\n",
       "      <th>German</th>\n",
       "      <th>Positive</th>\n",
       "      <th>Negative</th>\n",
       "      <th>Anger</th>\n",
       "      <th>Anticipation</th>\n",
       "      <th>Disgust</th>\n",
       "      <th>Fear</th>\n",
       "      <th>Joy</th>\n",
       "      <th>Surprise</th>\n",
       "      <th>Trust</th>\n",
       "    </tr>\n",
       "  </thead>\n",
       "  <tbody>\n",
       "    <tr>\n",
       "      <th>0</th>\n",
       "      <td>zurück</td>\n",
       "      <td>0</td>\n",
       "      <td>0</td>\n",
       "      <td>0</td>\n",
       "      <td>0</td>\n",
       "      <td>0</td>\n",
       "      <td>0</td>\n",
       "      <td>0</td>\n",
       "      <td>0</td>\n",
       "      <td>0</td>\n",
       "    </tr>\n",
       "    <tr>\n",
       "      <th>1</th>\n",
       "      <td>Abakus</td>\n",
       "      <td>0</td>\n",
       "      <td>0</td>\n",
       "      <td>0</td>\n",
       "      <td>0</td>\n",
       "      <td>0</td>\n",
       "      <td>0</td>\n",
       "      <td>0</td>\n",
       "      <td>0</td>\n",
       "      <td>1</td>\n",
       "    </tr>\n",
       "    <tr>\n",
       "      <th>2</th>\n",
       "      <td>verlassen</td>\n",
       "      <td>0</td>\n",
       "      <td>1</td>\n",
       "      <td>0</td>\n",
       "      <td>0</td>\n",
       "      <td>0</td>\n",
       "      <td>1</td>\n",
       "      <td>0</td>\n",
       "      <td>0</td>\n",
       "      <td>0</td>\n",
       "    </tr>\n",
       "    <tr>\n",
       "      <th>3</th>\n",
       "      <td>verlassen</td>\n",
       "      <td>0</td>\n",
       "      <td>1</td>\n",
       "      <td>1</td>\n",
       "      <td>0</td>\n",
       "      <td>0</td>\n",
       "      <td>1</td>\n",
       "      <td>0</td>\n",
       "      <td>0</td>\n",
       "      <td>0</td>\n",
       "    </tr>\n",
       "    <tr>\n",
       "      <th>4</th>\n",
       "      <td>Aufgabe</td>\n",
       "      <td>0</td>\n",
       "      <td>1</td>\n",
       "      <td>1</td>\n",
       "      <td>0</td>\n",
       "      <td>0</td>\n",
       "      <td>1</td>\n",
       "      <td>0</td>\n",
       "      <td>1</td>\n",
       "      <td>0</td>\n",
       "    </tr>\n",
       "  </tbody>\n",
       "</table>\n",
       "</div>"
      ],
      "text/plain": [
       "      German  Positive  Negative  Anger  Anticipation  Disgust  Fear  Joy  \\\n",
       "0     zurück         0         0      0             0        0     0    0   \n",
       "1     Abakus         0         0      0             0        0     0    0   \n",
       "2  verlassen         0         1      0             0        0     1    0   \n",
       "3  verlassen         0         1      1             0        0     1    0   \n",
       "4    Aufgabe         0         1      1             0        0     1    0   \n",
       "\n",
       "   Surprise  Trust  \n",
       "0         0      0  \n",
       "1         0      1  \n",
       "2         0      0  \n",
       "3         0      0  \n",
       "4         1      0  "
      ]
     },
     "execution_count": 57,
     "metadata": {},
     "output_type": "execute_result"
    }
   ],
   "source": [
    "emolex_df.head()"
   ]
  },
  {
   "cell_type": "code",
   "execution_count": 58,
   "metadata": {},
   "outputs": [],
   "source": [
    "emolex_words = []\n",
    "for word in emolex_df[\"German\"]:\n",
    "    emolex_words.append(word)"
   ]
  },
  {
   "cell_type": "code",
   "execution_count": 59,
   "metadata": {},
   "outputs": [
    {
     "name": "stdout",
     "output_type": "stream",
     "text": [
      "14182\n",
      "11340\n"
     ]
    }
   ],
   "source": [
    "print(len(emolex_words))\n",
    "print(len(set(emolex_words)))"
   ]
  },
  {
   "cell_type": "code",
   "execution_count": 60,
   "metadata": {},
   "outputs": [
    {
     "name": "stdout",
     "output_type": "stream",
     "text": [
      "1958\n"
     ]
    }
   ],
   "source": [
    "print(len(word_list))"
   ]
  },
  {
   "cell_type": "code",
   "execution_count": 61,
   "metadata": {},
   "outputs": [],
   "source": [
    "match_1 = []\n",
    "for word in word_list:\n",
    "    if word in emolex_words:\n",
    "        match_1.append(word)"
   ]
  },
  {
   "cell_type": "code",
   "execution_count": 62,
   "metadata": {},
   "outputs": [
    {
     "name": "stdout",
     "output_type": "stream",
     "text": [
      "9\n"
     ]
    }
   ],
   "source": [
    "print(len(set(match_1)))"
   ]
  },
  {
   "cell_type": "code",
   "execution_count": 63,
   "metadata": {},
   "outputs": [
    {
     "data": {
      "text/plain": [
       "0.45965270684371806"
      ]
     },
     "execution_count": 63,
     "metadata": {},
     "output_type": "execute_result"
    }
   ],
   "source": [
    "(len(set(match_1))/len(set(word_list)))*100"
   ]
  },
  {
   "cell_type": "code",
   "execution_count": 64,
   "metadata": {},
   "outputs": [],
   "source": [
    "word_Pos = []\n",
    "word_Neg = []"
   ]
  },
  {
   "cell_type": "code",
   "execution_count": 65,
   "metadata": {},
   "outputs": [],
   "source": [
    "for t in df.WORD:\n",
    "    dt = emolex_df.query('German in @t')\n",
    "    word_Pos.append(dt.Positive.mean())\n",
    "    word_Neg.append(dt.Negative.mean())\n",
    "    \n",
    "\n"
   ]
  },
  {
   "cell_type": "code",
   "execution_count": 66,
   "metadata": {},
   "outputs": [],
   "source": [
    "df[\"Neg_emo\"] = word_Neg\n",
    "df[\"Pos_emo\"] = word_Pos"
   ]
  },
  {
   "cell_type": "code",
   "execution_count": 67,
   "metadata": {},
   "outputs": [
    {
     "data": {
      "text/html": [
       "<div>\n",
       "<style scoped>\n",
       "    .dataframe tbody tr th:only-of-type {\n",
       "        vertical-align: middle;\n",
       "    }\n",
       "\n",
       "    .dataframe tbody tr th {\n",
       "        vertical-align: top;\n",
       "    }\n",
       "\n",
       "    .dataframe thead th {\n",
       "        text-align: right;\n",
       "    }\n",
       "</style>\n",
       "<table border=\"1\" class=\"dataframe\">\n",
       "  <thead>\n",
       "    <tr style=\"text-align: right;\">\n",
       "      <th></th>\n",
       "      <th>WORD</th>\n",
       "      <th>Val</th>\n",
       "      <th>joy</th>\n",
       "      <th>anger</th>\n",
       "      <th>sadness</th>\n",
       "      <th>fear</th>\n",
       "      <th>disgust</th>\n",
       "      <th>AAPz</th>\n",
       "      <th>ang_z</th>\n",
       "      <th>fear_z</th>\n",
       "      <th>disg_z</th>\n",
       "      <th>hap_z</th>\n",
       "      <th>sad_z</th>\n",
       "      <th>surp_z</th>\n",
       "      <th>Neg_emo</th>\n",
       "      <th>Pos_emo</th>\n",
       "    </tr>\n",
       "  </thead>\n",
       "  <tbody>\n",
       "    <tr>\n",
       "      <th>0</th>\n",
       "      <td>abart</td>\n",
       "      <td>-1.6</td>\n",
       "      <td>1.476</td>\n",
       "      <td>1.714</td>\n",
       "      <td>1.714</td>\n",
       "      <td>1.810</td>\n",
       "      <td>2.476</td>\n",
       "      <td>-1.003</td>\n",
       "      <td>0.263</td>\n",
       "      <td>-0.027</td>\n",
       "      <td>1.348</td>\n",
       "      <td>-0.507</td>\n",
       "      <td>0.550</td>\n",
       "      <td>0.650</td>\n",
       "      <td>NaN</td>\n",
       "      <td>NaN</td>\n",
       "    </tr>\n",
       "    <tr>\n",
       "      <th>1</th>\n",
       "      <td>abbau</td>\n",
       "      <td>-1.0</td>\n",
       "      <td>1.250</td>\n",
       "      <td>2.400</td>\n",
       "      <td>2.350</td>\n",
       "      <td>2.300</td>\n",
       "      <td>1.500</td>\n",
       "      <td>-0.900</td>\n",
       "      <td>0.190</td>\n",
       "      <td>-0.497</td>\n",
       "      <td>-0.531</td>\n",
       "      <td>-1.713</td>\n",
       "      <td>-1.041</td>\n",
       "      <td>-2.129</td>\n",
       "      <td>NaN</td>\n",
       "      <td>NaN</td>\n",
       "    </tr>\n",
       "    <tr>\n",
       "      <th>2</th>\n",
       "      <td>abbild</td>\n",
       "      <td>-0.2</td>\n",
       "      <td>1.864</td>\n",
       "      <td>1.454</td>\n",
       "      <td>1.227</td>\n",
       "      <td>1.364</td>\n",
       "      <td>1.318</td>\n",
       "      <td>0.881</td>\n",
       "      <td>0.158</td>\n",
       "      <td>-0.639</td>\n",
       "      <td>0.194</td>\n",
       "      <td>-0.230</td>\n",
       "      <td>-0.154</td>\n",
       "      <td>-0.974</td>\n",
       "      <td>NaN</td>\n",
       "      <td>NaN</td>\n",
       "    </tr>\n",
       "    <tr>\n",
       "      <th>3</th>\n",
       "      <td>abbruch</td>\n",
       "      <td>-0.7</td>\n",
       "      <td>1.100</td>\n",
       "      <td>2.550</td>\n",
       "      <td>1.700</td>\n",
       "      <td>2.150</td>\n",
       "      <td>1.200</td>\n",
       "      <td>-0.552</td>\n",
       "      <td>0.174</td>\n",
       "      <td>-0.697</td>\n",
       "      <td>-0.540</td>\n",
       "      <td>-0.278</td>\n",
       "      <td>-0.366</td>\n",
       "      <td>-0.181</td>\n",
       "      <td>NaN</td>\n",
       "      <td>NaN</td>\n",
       "    </tr>\n",
       "    <tr>\n",
       "      <th>4</th>\n",
       "      <td>abdruck</td>\n",
       "      <td>-0.1</td>\n",
       "      <td>1.400</td>\n",
       "      <td>1.200</td>\n",
       "      <td>1.100</td>\n",
       "      <td>1.000</td>\n",
       "      <td>1.000</td>\n",
       "      <td>0.164</td>\n",
       "      <td>0.121</td>\n",
       "      <td>-1.780</td>\n",
       "      <td>-0.208</td>\n",
       "      <td>-0.977</td>\n",
       "      <td>-1.080</td>\n",
       "      <td>-1.194</td>\n",
       "      <td>NaN</td>\n",
       "      <td>NaN</td>\n",
       "    </tr>\n",
       "  </tbody>\n",
       "</table>\n",
       "</div>"
      ],
      "text/plain": [
       "      WORD  Val    joy  anger  sadness   fear  disgust   AAPz  ang_z  fear_z  \\\n",
       "0    abart -1.6  1.476  1.714    1.714  1.810    2.476 -1.003  0.263  -0.027   \n",
       "1    abbau -1.0  1.250  2.400    2.350  2.300    1.500 -0.900  0.190  -0.497   \n",
       "2   abbild -0.2  1.864  1.454    1.227  1.364    1.318  0.881  0.158  -0.639   \n",
       "3  abbruch -0.7  1.100  2.550    1.700  2.150    1.200 -0.552  0.174  -0.697   \n",
       "4  abdruck -0.1  1.400  1.200    1.100  1.000    1.000  0.164  0.121  -1.780   \n",
       "\n",
       "   disg_z  hap_z  sad_z  surp_z  Neg_emo  Pos_emo  \n",
       "0   1.348 -0.507  0.550   0.650      NaN      NaN  \n",
       "1  -0.531 -1.713 -1.041  -2.129      NaN      NaN  \n",
       "2   0.194 -0.230 -0.154  -0.974      NaN      NaN  \n",
       "3  -0.540 -0.278 -0.366  -0.181      NaN      NaN  \n",
       "4  -0.208 -0.977 -1.080  -1.194      NaN      NaN  "
      ]
     },
     "execution_count": 67,
     "metadata": {},
     "output_type": "execute_result"
    }
   ],
   "source": [
    "df.head()"
   ]
  },
  {
   "cell_type": "code",
   "execution_count": 68,
   "metadata": {},
   "outputs": [
    {
     "name": "stdout",
     "output_type": "stream",
     "text": [
      "<class 'pandas.core.frame.DataFrame'>\n",
      "RangeIndex: 1813 entries, 0 to 1812\n",
      "Data columns (total 16 columns):\n",
      " #   Column   Non-Null Count  Dtype  \n",
      "---  ------   --------------  -----  \n",
      " 0   WORD     1813 non-null   object \n",
      " 1   Val      1813 non-null   float64\n",
      " 2   joy      1813 non-null   float64\n",
      " 3   anger    1813 non-null   float64\n",
      " 4   sadness  1813 non-null   float64\n",
      " 5   fear     1813 non-null   float64\n",
      " 6   disgust  1813 non-null   float64\n",
      " 7   AAPz     1813 non-null   float64\n",
      " 8   ang_z    1813 non-null   float64\n",
      " 9   fear_z   1813 non-null   float64\n",
      " 10  disg_z   1813 non-null   float64\n",
      " 11  hap_z    1813 non-null   float64\n",
      " 12  sad_z    1813 non-null   float64\n",
      " 13  surp_z   1813 non-null   float64\n",
      " 14  Neg_emo  9 non-null      float64\n",
      " 15  Pos_emo  9 non-null      float64\n",
      "dtypes: float64(15), object(1)\n",
      "memory usage: 226.8+ KB\n"
     ]
    }
   ],
   "source": [
    "df.info()"
   ]
  },
  {
   "cell_type": "code",
   "execution_count": 69,
   "metadata": {},
   "outputs": [
    {
     "name": "stdout",
     "output_type": "stream",
     "text": [
      "len(valence_emo)= 1813\n",
      "Counter({'NaN': 1804, 'neutral': 4, 'negative': 3, 'positive': 2})\n"
     ]
    }
   ],
   "source": [
    "valence_emo=[]\n",
    "for t in df.WORD:\n",
    "    dt = emolex_df.query(\"German in @t\")\n",
    "    if dt.Positive.mean()==1:\n",
    "        valence_emo.append(\"positive\")\n",
    "    elif dt.Negative.mean()==1:\n",
    "        valence_emo.append(\"negative\")\n",
    "    elif dt.Negative.mean()==0 and dt.Positive.mean()==0:\n",
    "        valence_emo.append(\"neutral\")\n",
    "    else:\n",
    "        valence_emo.append(\"NaN\")\n",
    "print(\"len(valence_emo)=\", len(valence_emo))        \n",
    "print(Counter(valence_emo))      "
   ]
  },
  {
   "cell_type": "code",
   "execution_count": null,
   "metadata": {},
   "outputs": [],
   "source": []
  }
 ],
 "metadata": {
  "kernelspec": {
   "display_name": "Python 3",
   "language": "python",
   "name": "python3"
  },
  "language_info": {
   "codemirror_mode": {
    "name": "ipython",
    "version": 3
   },
   "file_extension": ".py",
   "mimetype": "text/x-python",
   "name": "python",
   "nbconvert_exporter": "python",
   "pygments_lexer": "ipython3",
   "version": "3.8.3"
  }
 },
 "nbformat": 4,
 "nbformat_minor": 4
}
